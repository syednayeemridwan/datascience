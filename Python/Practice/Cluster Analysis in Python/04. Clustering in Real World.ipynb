{
 "cells": [
  {
   "cell_type": "markdown",
   "metadata": {},
   "source": [
    "- Import image class of matplotlib.\n",
    "- Read the image using the imread() function and print the dimensions of the resultant matrix.\n",
    "- Store the values for the three colors from all pixels in lists r, g and b."
   ]
  },
  {
   "cell_type": "code",
   "execution_count": 1,
   "metadata": {},
   "outputs": [],
   "source": [
    "# # Import image class of matplotlib\n",
    "# import matplotlib.image as img\n",
    "\n",
    "# # Read batman image and print dimensions\n",
    "# batman_image = img.imread('batman.jpg')\n",
    "# print(batman_image.shape)\n",
    "\n",
    "# # Store RGB values of all pixels in lists r, g and b\n",
    "# for row in batman_image:\n",
    "#     for temp_r, temp_g, temp_b in row:\n",
    "#         r.append(temp_r)\n",
    "#         g.append(temp_g)\n",
    "#         b.append(temp_b)"
   ]
  },
  {
   "cell_type": "markdown",
   "metadata": {},
   "source": [
    "- Create a list of distortions based on each value in num_clusters by running the kmeans() function.\n",
    "- Create a DataFrame elbow_plot with the lists: num_clusters and distortions.\n",
    "- Plot the data with seaborn's .lineplot() method with num_clusters on the x-axis and distortions on the y-axis."
   ]
  },
  {
   "cell_type": "code",
   "execution_count": 2,
   "metadata": {},
   "outputs": [],
   "source": [
    "# distortions = []\n",
    "# num_clusters = range(1, 7)\n",
    "\n",
    "# # Create a list of distortions from the kmeans function\n",
    "# for i in num_clusters:\n",
    "#     cluster_centers, distortion = kmeans(batman_df[['scaled_red', 'scaled_blue' , 'scaled_green']], i)\n",
    "#     distortions.append(distortion)\n",
    "\n",
    "# # Create a DataFrame with two lists, num_clusters and distortions\n",
    "# elbow_plot = pd.DataFrame({'num_clusters':num_clusters,\n",
    "# 'distortions' : distortions})\n",
    "\n",
    "# # Create a line plot of num_clusters and distortions\n",
    "# sns.lineplot(x='num_clusters', y='distortions', data = elbow_plot)\n",
    "# plt.xticks(num_clusters)\n",
    "# plt.show()"
   ]
  },
  {
   "cell_type": "markdown",
   "metadata": {},
   "source": [
    "- Get standard deviations of each color from the DataFrame and store it in r_std, g_std, b_std.\n",
    "- For each cluster center, convert the standardized RGB values to scaled values in the range of 0-1.\n",
    "- Display the colors of the cluster centers."
   ]
  },
  {
   "cell_type": "code",
   "execution_count": 4,
   "metadata": {},
   "outputs": [],
   "source": [
    "# # Get standard deviations of each color\n",
    "# r_std, g_std, b_std = batman_df[['red', 'green', 'blue']].std()\n",
    "\n",
    "# for cluster_center in cluster_centers:\n",
    "#     scaled_r, scaled_g, scaled_b = cluster_center\n",
    "#     # Convert each standardized value to scaled value\n",
    "#     colors.append((\n",
    "#         scaled_r * r_std / 255,\n",
    "#         scaled_g * g_std / 255,\n",
    "#         scaled_b * b_std / 255\n",
    "#     ))\n",
    "\n",
    "# # Display colors of cluster centers\n",
    "# plt.imshow([colors]) \n",
    "# plt.imshow(colors) # NOT THIS\n",
    "\n",
    "# plt.show()"
   ]
  },
  {
   "cell_type": "markdown",
   "metadata": {},
   "source": [
    "- Import TfidfVectorizer class from sklearn.\n",
    "- Initialize the TfidfVectorizer class with minimum and maximum frequencies of 0.1 and 0.75, and 50 maximum features.\n",
    "- Use the fit_transform() method on the initialized TfidfVectorizer class with the list plots."
   ]
  },
  {
   "cell_type": "code",
   "execution_count": 6,
   "metadata": {},
   "outputs": [],
   "source": [
    "# from nltk.tokenize import word_tokenize\n",
    "# import re\n",
    "# def remove_noise(text, stop_words = []):\n",
    "#     tokens = word_tokenize(text)\n",
    "#     cleaned_tokens = []\n",
    "#     for token in tokens:\n",
    "#     token = re.sub('[^A-Za-z0-9]+', '', token)\n",
    "#     if len(token) > 1 and token.lower() not in stop_words:\n",
    "#     # Get lowercase\n",
    "#     cleaned_tokens.append(token.lower())\n",
    "#     return cleaned_tokens\n",
    "#     remove_noise(\"It is lovely weather we are having.\n",
    "#     I hope the weather continues.\")"
   ]
  },
  {
   "cell_type": "code",
   "execution_count": 5,
   "metadata": {},
   "outputs": [],
   "source": [
    "# # Import TfidfVectorizer class from sklearn\n",
    "# from sklearn.feature_extraction.text import TfidfVectorizer\n",
    "\n",
    "# # Initialize TfidfVectorizer\n",
    "# tfidf_vectorizer = TfidfVectorizer(max_df=0.75, max_features=50,\n",
    "# min_df=0.1, tokenizer=remove_noise) \n",
    "\n",
    "# # Use the .fit_transform() method on the list plots\n",
    "# tfidf_matrix = tfidf_vectorizer.fit_transform(plots)"
   ]
  },
  {
   "cell_type": "markdown",
   "metadata": {},
   "source": [
    "- Generate cluster centers through the kmeans() function.\n",
    "- Generate a list of terms from the tfidf_vectorizer object.\n",
    "- Print top 3 terms of each cluster."
   ]
  },
  {
   "cell_type": "code",
   "execution_count": 7,
   "metadata": {},
   "outputs": [],
   "source": [
    "# num_clusters = 2\n",
    "\n",
    "# # Generate cluster centers through the kmeans function\n",
    "# cluster_centers, distortion = kmeans(tfidf_matrix.todense(), num_clusters)\n",
    "\n",
    "# # Generate terms from the tfidf_vectorizer object\n",
    "# terms = tfidf_vectorizer.get_feature_names()\n",
    "\n",
    "# for i in range(num_clusters):\n",
    "#     # Sort the terms and print top 3 terms\n",
    "#     center_terms = dict(zip(terms, cluster_centers[i]))\n",
    "#     sorted_terms = sorted(center_terms, key=center_terms.get, reverse=True)\n",
    "#     print(sorted_terms[:3])"
   ]
  },
  {
   "cell_type": "markdown",
   "metadata": {},
   "source": [
    "What should you do if you have too many features for clustering?\n",
    "- Reduce features using a technique like Factor Analysis"
   ]
  },
  {
   "cell_type": "markdown",
   "metadata": {},
   "source": [
    "- Print the size of the clusters by grouping the column cluster_labels.\n",
    "- Print the mean values of the wages of the players in each cluster. eur_wage is the column name that stores the wages of a player in Euros."
   ]
  },
  {
   "cell_type": "code",
   "execution_count": 8,
   "metadata": {},
   "outputs": [],
   "source": [
    "# # Print the size of the clusters\n",
    "# print(fifa.groupby('cluster_labels')['ID'].count())\n",
    "\n",
    "# # Print the mean value of wages in each cluster\n",
    "# print(fifa.groupby('cluster_labels')['eur_wage'].mean())"
   ]
  },
  {
   "cell_type": "markdown",
   "metadata": {},
   "source": [
    "- Use the kmeans() algorithm to create 2 clusters using the list of columns, scaled_features.\n",
    "- Assign cluster labels to each row using vq() and print cluster centers of scaled_features using the .mean() method of pandas.\n",
    "- Plot a bar chart of scaled attributes of each cluster center using the .plot() method of pandas.\n",
    "- Print the names of first 5 players in each cluster, using the name column."
   ]
  },
  {
   "cell_type": "code",
   "execution_count": 9,
   "metadata": {},
   "outputs": [],
   "source": [
    "# # Create centroids with kmeans for 2 clusters\n",
    "# cluster_centers,_ = kmeans(fifa[scaled_features], 2)\n",
    "\n",
    "# # Assign cluster labels and print cluster centers\n",
    "# fifa['cluster_labels'], _ = vq(fifa[scaled_features], cluster_centers)\n",
    "# print(fifa.groupby('cluster_labels')[scaled_features].mean())\n",
    "\n",
    "# # Plot cluster centers to visualize clusters\n",
    "# fifa.groupby('cluster_labels')[scaled_features].mean().plot(legend=True, kind='bar')\n",
    "# plt.show()\n",
    "\n",
    "# # Get the name column of first 5 players in each cluster\n",
    "# for cluster in fifa['cluster_labels'].unique():\n",
    "#     print(cluster, fifa[fifa['cluster_labels'] == cluster]['name'].values[:5])"
   ]
  }
 ],
 "metadata": {
  "interpreter": {
   "hash": "3fef59229a6e1ff5434759995be53a28a25493efd6d26eb6c004eefe62e31083"
  },
  "kernelspec": {
   "display_name": "Python 3.8.11 ('env_py')",
   "language": "python",
   "name": "python3"
  },
  "language_info": {
   "codemirror_mode": {
    "name": "ipython",
    "version": 3
   },
   "file_extension": ".py",
   "mimetype": "text/x-python",
   "name": "python",
   "nbconvert_exporter": "python",
   "pygments_lexer": "ipython3",
   "version": "3.8.11"
  },
  "orig_nbformat": 4
 },
 "nbformat": 4,
 "nbformat_minor": 2
}
