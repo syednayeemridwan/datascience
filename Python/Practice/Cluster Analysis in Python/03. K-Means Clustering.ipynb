{
 "cells": [
  {
   "cell_type": "markdown",
   "metadata": {},
   "source": [
    "- Import kmeans and vq functions in SciPy.\n",
    "- Generate cluster centers using the kmeans() function with two clusters.\n",
    "- Create cluster labels using these cluster centers."
   ]
  },
  {
   "cell_type": "code",
   "execution_count": 1,
   "metadata": {},
   "outputs": [],
   "source": [
    "# # Import the kmeans and vq functions\n",
    "# from scipy.cluster.vq import kmeans, vq\n",
    "\n",
    "# # Generate cluster centers\n",
    "# cluster_centers, distortion = kmeans(comic_con[['x_scaled' , 'y_scaled']],2)\n",
    "\n",
    "# # Assign cluster labels\n",
    "# comic_con['cluster_labels'], distortion_list = vq(comic_con[['x_scaled' , 'y_scaled']], cluster_centers)\n",
    "\n",
    "# # Plot clusters\n",
    "# sns.scatterplot(x='x_scaled', y='y_scaled', \n",
    "#                 hue='cluster_labels', data = comic_con)\n",
    "# plt.show()"
   ]
  },
  {
   "cell_type": "markdown",
   "metadata": {},
   "source": [
    "- Create a list of distortions for each cluster in num_clusters.\n",
    "- Create a DataFrame elbow_plot with num_clusters and distortions.\n",
    "- With the .lineplot() method, plot elbow_plot with num_clusters in the x axis and distortions in the y axis."
   ]
  },
  {
   "cell_type": "code",
   "execution_count": 2,
   "metadata": {},
   "outputs": [],
   "source": [
    "# distortions = []\n",
    "# num_clusters = range(1, 7)\n",
    "\n",
    "# # Create a list of distortions from the kmeans function\n",
    "# for i in num_clusters:\n",
    "#     cluster_centers, distortion = kmeans(comic_con[['x_scaled' , 'y_scaled']], i)\n",
    "#     distortions.append(distortion)\n",
    "\n",
    "# # Create a DataFrame with two lists - num_clusters, distortions\n",
    "# elbow_plot = pd.DataFrame({'num_clusters': num_clusters, 'distortions': distortions})\n",
    "\n",
    "# # Creat a line plot of num_clusters and distortions\n",
    "# sns.lineplot(x='num_clusters', y='distortions', data = elbow_plot)\n",
    "# plt.xticks(num_clusters)\n",
    "# plt.show()"
   ]
  },
  {
   "cell_type": "markdown",
   "metadata": {},
   "source": [
    "- Create a list of distortions for each cluster in num_clusters.\n",
    "- Create a DataFrame elbow_plot with num_clusters and distortions.\n",
    "- With the .lineplot() method, plot elbow_plot with num_clusters in the x axis and distortions in the y axis."
   ]
  },
  {
   "cell_type": "code",
   "execution_count": 3,
   "metadata": {},
   "outputs": [],
   "source": [
    "# distortions = []\n",
    "# num_clusters = range(2, 7)\n",
    "\n",
    "# # Create a list of distortions from the kmeans function\n",
    "# for i in num_clusters:\n",
    "#     cluster_centers, distortion = kmeans(uniform_data[['x_scaled' , 'y_scaled']], i)\n",
    "#     distortions.append(distortion)\n",
    "\n",
    "# # Create a DataFrame with two lists - number of clusters and distortions\n",
    "# elbow_plot = pd.DataFrame({'num_clusters': num_clusters, 'distortions': distortions})\n",
    "\n",
    "# # Creat a line plot of num_clusters and distortions\n",
    "# sns.lineplot(x='num_clusters', y='distortions', data=elbow_plot)\n",
    "# plt.xticks(num_clusters)\n",
    "# plt.show()"
   ]
  },
  {
   "cell_type": "markdown",
   "metadata": {},
   "source": [
    "- Import the random class from numpy and initialize the seed with the integer 0."
   ]
  },
  {
   "cell_type": "code",
   "execution_count": 4,
   "metadata": {},
   "outputs": [],
   "source": [
    "# # Import random class\n",
    "# from numpy import random\n",
    "\n",
    "# # Initialize seed\n",
    "# random.seed(0)\n",
    "\n",
    "# # Run kmeans clustering\n",
    "# cluster_centers, distortion = kmeans(comic_con[['x_scaled', 'y_scaled']], 2)\n",
    "# comic_con['cluster_labels'], distortion_list = vq(comic_con[['x_scaled', 'y_scaled']], cluster_centers)\n",
    "\n",
    "# # Plot the scatterplot\n",
    "# sns.scatterplot(x='x_scaled', y='y_scaled', \n",
    "#                 hue='cluster_labels', data = comic_con)\n",
    "# plt.show()"
   ]
  },
  {
   "cell_type": "markdown",
   "metadata": {},
   "source": [
    "- Change your code from the earlier step so that the seed is initialized with a list [1, 2, 1000]."
   ]
  },
  {
   "cell_type": "code",
   "execution_count": 5,
   "metadata": {},
   "outputs": [],
   "source": [
    "# # Import random class\n",
    "# from numpy import random\n",
    "\n",
    "# # Initialize seed\n",
    "# random.seed([1, 2, 1000])\n",
    "\n",
    "# # Run kmeans clustering\n",
    "# cluster_centers, distortion = kmeans(comic_con[['x_scaled', 'y_scaled']], 2)\n",
    "# comic_con['cluster_labels'], distortion_list = vq(comic_con[['x_scaled', 'y_scaled']], cluster_centers)\n",
    "\n",
    "# # Plot the scatterplot\n",
    "# sns.scatterplot(x='x_scaled', y='y_scaled', \n",
    "#                 hue='cluster_labels', data = comic_con)\n",
    "# plt.show()"
   ]
  },
  {
   "cell_type": "markdown",
   "metadata": {},
   "source": [
    "- Import kmeans and vq functions in SciPy.\n",
    "- Generate cluster centers using the kmeans() function with three clusters.\n",
    "- Create cluster labels with vq() with the cluster centers generated above."
   ]
  },
  {
   "cell_type": "code",
   "execution_count": 6,
   "metadata": {},
   "outputs": [],
   "source": [
    "# # Import the kmeans and vq functions\n",
    "# from scipy.cluster.vq import kmeans, vq\n",
    "\n",
    "# # Generate cluster centers\n",
    "# cluster_centers, distortion = kmeans(mouse[['x_scaled' , 'y_scaled']], 3)\n",
    "\n",
    "# # Assign cluster labels\n",
    "# mouse['cluster_labels'], distortion_list = vq(mouse[['x_scaled' , 'y_scaled']], cluster_centers)\n",
    "\n",
    "# # Plot clusters\n",
    "# sns.scatterplot(x='x_scaled', y='y_scaled', \n",
    "#                 hue='cluster_labels', data = mouse)\n",
    "# plt.show()"
   ]
  },
  {
   "cell_type": "markdown",
   "metadata": {},
   "source": [
    "- Initialize the random seed to the list [1000,2000].\n",
    "- Fit the scaled data in columns scaled_def and scaled_phy into a k-means clustering algorithm with 3 clusters and assign cluster labels.\n",
    "- Display cluster centers of each cluster with respect to the scaled columns by calculating the mean value for each cluster.\n",
    "- Create a seaborn scatter plot with scaled_def on the x-axis and scaled_phy on the y-axis, with each cluster represented by a different color."
   ]
  },
  {
   "cell_type": "code",
   "execution_count": 7,
   "metadata": {},
   "outputs": [],
   "source": [
    "# # Set up a random seed in numpy\n",
    "# random.seed([1000,2000])\n",
    "\n",
    "# # Fit the data into a k-means algorithm\n",
    "# cluster_centers,_ = kmeans(fifa[['scaled_def', 'scaled_phy']], 3)\n",
    "\n",
    "# # Assign cluster labels\n",
    "# fifa['cluster_labels'], _ = vq(fifa[['scaled_def', 'scaled_phy']], cluster_centers)\n",
    "\n",
    "# # Display cluster centers \n",
    "# print(fifa[['scaled_def', 'scaled_phy', 'cluster_labels']].groupby('cluster_labels').mean())\n",
    "\n",
    "# # Create a scatter plot through seaborn\n",
    "# sns.scatterplot(x='scaled_def', y='scaled_phy', hue='cluster_labels', data=fifa)\n",
    "# plt.show()"
   ]
  }
 ],
 "metadata": {
  "interpreter": {
   "hash": "3fef59229a6e1ff5434759995be53a28a25493efd6d26eb6c004eefe62e31083"
  },
  "kernelspec": {
   "display_name": "Python 3.8.11 ('env_py')",
   "language": "python",
   "name": "python3"
  },
  "language_info": {
   "codemirror_mode": {
    "name": "ipython",
    "version": 3
   },
   "file_extension": ".py",
   "mimetype": "text/x-python",
   "name": "python",
   "nbconvert_exporter": "python",
   "pygments_lexer": "ipython3",
   "version": "3.8.11"
  },
  "orig_nbformat": 4
 },
 "nbformat": 4,
 "nbformat_minor": 2
}
