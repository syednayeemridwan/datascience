{
 "cells": [
  {
   "cell_type": "markdown",
   "metadata": {},
   "source": [
    "- Import fcluster and linkage from scipy.cluster.hierarchy.\n",
    "- Use the ward method in the linkage() function.\n",
    "- Assign cluster labels by forming 2 flat clusters from distance_matrix.\n",
    "- Run the plotting code to see the results."
   ]
  },
  {
   "cell_type": "code",
   "execution_count": 1,
   "metadata": {},
   "outputs": [],
   "source": [
    "# # Import the fcluster and linkage functions\n",
    "# from scipy.cluster.hierarchy import fcluster , linkage\n",
    "\n",
    "# # Use the linkage() function\n",
    "# distance_matrix = linkage(comic_con[['x_scaled', 'y_scaled']], method = 'ward', metric = 'euclidean')\n",
    "\n",
    "# # Assign cluster labels\n",
    "# comic_con['cluster_labels'] = fcluster(distance_matrix, 2, criterion='maxclust')\n",
    "\n",
    "# # Plot clusters\n",
    "# sns.scatterplot(x='x_scaled', y='y_scaled', \n",
    "#                 hue='cluster_labels', data = comic_con)\n",
    "# plt.show()"
   ]
  },
  {
   "cell_type": "markdown",
   "metadata": {},
   "source": [
    "- Import fcluster and linkage from scipy.cluster.hierarchy.\n",
    "- Use the single method in the linkage() function."
   ]
  },
  {
   "cell_type": "code",
   "execution_count": 2,
   "metadata": {},
   "outputs": [],
   "source": [
    "# # Import the fcluster and linkage functions\n",
    "# from scipy.cluster.hierarchy import fcluster , linkage\n",
    "\n",
    "# # Use the linkage() function\n",
    "# distance_matrix = linkage(comic_con[['x_scaled' , 'y_scaled']], method = 'single', metric = 'euclidean')\n",
    "\n",
    "# # Assign cluster labels\n",
    "# comic_con['cluster_labels'] = fcluster(distance_matrix, 2, criterion='maxclust')\n",
    "\n",
    "# # Plot clusters\n",
    "# sns.scatterplot(x='x_scaled', y='y_scaled', \n",
    "#                 hue='cluster_labels', data = comic_con)\n",
    "# plt.show()"
   ]
  },
  {
   "cell_type": "markdown",
   "metadata": {},
   "source": [
    "- Import fcluster and linkage from scipy.cluster.hierarchy.\n",
    "- Use the complete method in the .linkage() function."
   ]
  },
  {
   "cell_type": "code",
   "execution_count": 3,
   "metadata": {},
   "outputs": [],
   "source": [
    "# # Import the fcluster and linkage functions\n",
    "# from scipy.cluster.hierarchy import fcluster , linkage\n",
    "\n",
    "# # Use the linkage() function\n",
    "# distance_matrix = linkage(comic_con[['x_scaled' , 'y_scaled']], method = 'complete', metric = 'euclidean')\n",
    "\n",
    "\n",
    "# # Assign cluster labels\n",
    "# comic_con['cluster_labels'] = fcluster(distance_matrix, 2, criterion='maxclust')\n",
    "\n",
    "# # Plot clusters\n",
    "# sns.scatterplot(x='x_scaled', y='y_scaled', \n",
    "#                 hue='cluster_labels', data = comic_con)\n",
    "# plt.show()"
   ]
  },
  {
   "cell_type": "markdown",
   "metadata": {},
   "source": [
    "- Import the pyplot class from matplotlib module as plt.\n",
    "- Define a colors dictionary for two cluster labels, 1 and 2.\n",
    "- Plot a scatter plot with colors for each cluster as defined by the colors dictionary."
   ]
  },
  {
   "cell_type": "code",
   "execution_count": 4,
   "metadata": {},
   "outputs": [],
   "source": [
    "# # Import the pyplot class\n",
    "# import matplotlib.pyplot as plt\n",
    "\n",
    "# # Define a colors dictionary for clusters\n",
    "# colors = {1:'red', 2:'blue'}\n",
    "\n",
    "# # Plot a scatter plot\n",
    "# comic_con.plot.scatter(x='x_scaled', \n",
    "#                 \t   y='y_scaled',\n",
    "#                 \t   c=comic_con['cluster_labels'].apply(lambda x: colors[x]))\n",
    "# plt.show()"
   ]
  },
  {
   "cell_type": "markdown",
   "metadata": {},
   "source": [
    "- Import the seaborn module as sns.\n",
    "- Plot a scatter plot using the .scatterplot() method of seaborn, with the cluster labels as the hue argument."
   ]
  },
  {
   "cell_type": "code",
   "execution_count": 5,
   "metadata": {},
   "outputs": [],
   "source": [
    "# # Import the seaborn module\n",
    "# import  seaborn as sns\n",
    "\n",
    "# # Plot a scatter plot using seaborn\n",
    "# sns.scatterplot(x='x_scaled', \n",
    "#                 y='y_scaled', \n",
    "#                 hue='cluster_labels', \n",
    "#                 data = comic_con)\n",
    "# plt.show()"
   ]
  },
  {
   "cell_type": "markdown",
   "metadata": {},
   "source": [
    "- Import the dendrogram function from scipy.cluster.hierarchy.\n",
    "- Create a dendrogram using the linkage object.\n",
    "- Display the dendrogram using .show() method of the plt object."
   ]
  },
  {
   "cell_type": "code",
   "execution_count": 6,
   "metadata": {},
   "outputs": [],
   "source": [
    "# # Import the dendrogram function\n",
    "# from scipy.cluster.hierarchy import dendrogram\n",
    "\n",
    "# # Create a dendrogram\n",
    "# dn = dendrogram(distance_matrix)\n",
    "\n",
    "# # Display the dendogram\n",
    "# plt.show()"
   ]
  },
  {
   "cell_type": "code",
   "execution_count": 7,
   "metadata": {},
   "outputs": [
    {
     "name": "stdout",
     "output_type": "stream",
     "text": [
      "181 ns ± 31.2 ns per loop (mean ± std. dev. of 7 runs, 10000000 loops each)\n"
     ]
    }
   ],
   "source": [
    "%timeit sum([1, 3, 2])"
   ]
  },
  {
   "cell_type": "markdown",
   "metadata": {},
   "source": [
    "How long does it take to the run the linkage function on the comic con data?"
   ]
  },
  {
   "cell_type": "code",
   "execution_count": 8,
   "metadata": {},
   "outputs": [],
   "source": [
    "# import timeit\n",
    "# %timeit linkage(comic_con[['x_scaled' , 'y_scaled']], method = 'complete', metric = 'euclidean')"
   ]
  },
  {
   "cell_type": "markdown",
   "metadata": {},
   "source": [
    "- Fit the scaled data in columns scaled_sliding_tackle and scaled_aggression into a hierarchical clustering algorithm. Additionally, you may want to check how long it takes to run the data in the IPython Shell using the timeit module.\n",
    "- Assign cluster labels to each row in the data using the fcluster() function (use 3 clusters).\n",
    "- Display cluster centers of each cluster with respect to the scaled columns by calculating the mean value for each cluster.\n",
    "- Create a scatter plot using seaborn with the scaled_sliding_tackle attribute on the x-axis and the scaled_aggression attribute on the y-axis. Assign a different color to each cluster."
   ]
  },
  {
   "cell_type": "code",
   "execution_count": 9,
   "metadata": {},
   "outputs": [],
   "source": [
    "# # Fit the data into a hierarchical clustering algorithm\n",
    "# distance_matrix = linkage(fifa[['scaled_sliding_tackle', 'scaled_aggression']], 'ward')\n",
    "\n",
    "# # Assign cluster labels to each row of data\n",
    "# fifa['cluster_labels'] = fcluster(distance_matrix, 3, criterion='maxclust')\n",
    "\n",
    "# # Display cluster centers of each cluster\n",
    "# print(fifa[['scaled_sliding_tackle', 'scaled_aggression', 'cluster_labels']].groupby('cluster_labels').mean())\n",
    "\n",
    "# # Create a scatter plot through seaborn\n",
    "# sns.scatterplot(x='scaled_sliding_tackle', y='scaled_aggression', hue='cluster_labels', data=fifa)\n",
    "# plt.show()"
   ]
  }
 ],
 "metadata": {
  "interpreter": {
   "hash": "3fef59229a6e1ff5434759995be53a28a25493efd6d26eb6c004eefe62e31083"
  },
  "kernelspec": {
   "display_name": "Python 3.8.11 ('env_py')",
   "language": "python",
   "name": "python3"
  },
  "language_info": {
   "codemirror_mode": {
    "name": "ipython",
    "version": 3
   },
   "file_extension": ".py",
   "mimetype": "text/x-python",
   "name": "python",
   "nbconvert_exporter": "python",
   "pygments_lexer": "ipython3",
   "version": "3.8.11"
  },
  "orig_nbformat": 4
 },
 "nbformat": 4,
 "nbformat_minor": 2
}
