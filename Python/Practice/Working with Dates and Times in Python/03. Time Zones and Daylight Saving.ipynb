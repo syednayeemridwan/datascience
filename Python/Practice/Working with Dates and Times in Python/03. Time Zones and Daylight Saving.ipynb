{
 "cells": [
  {
   "cell_type": "markdown",
   "metadata": {},
   "source": [
    "- Import timezone.\n",
    "- Set the tzinfo to UTC, without using timedelta."
   ]
  },
  {
   "cell_type": "code",
   "execution_count": 1,
   "metadata": {},
   "outputs": [
    {
     "name": "stdout",
     "output_type": "stream",
     "text": [
      "2017-10-01T15:26:26+00:00\n"
     ]
    }
   ],
   "source": [
    "# Import datetime, timezone\n",
    "from datetime import datetime, timezone\n",
    "\n",
    "# October 1, 2017 at 15:26:26, UTC\n",
    "dt = datetime(2017, 10, 1, 15, 26, 26, tzinfo=timezone.utc)\n",
    "\n",
    "# Print results\n",
    "print(dt.isoformat())"
   ]
  },
  {
   "cell_type": "markdown",
   "metadata": {},
   "source": [
    "- Set pst to be a timezone set for UTC-8.\n",
    "- Set dt's timezone to be pst."
   ]
  },
  {
   "cell_type": "code",
   "execution_count": 2,
   "metadata": {},
   "outputs": [
    {
     "name": "stdout",
     "output_type": "stream",
     "text": [
      "2017-10-01T15:26:26-08:00\n"
     ]
    }
   ],
   "source": [
    "# Import datetime, timedelta, timezone\n",
    "from datetime import datetime, timedelta, timezone\n",
    "\n",
    "# Create a timezone for Pacific Standard Time, or UTC-8\n",
    "pst = timezone(timedelta(hours=-8))\n",
    "\n",
    "# October 1, 2017 at 15:26:26, UTC-8\n",
    "dt = datetime(2017, 10, 1, 15, 26, 26, tzinfo=pst)\n",
    "\n",
    "# Print results\n",
    "print(dt.isoformat())"
   ]
  },
  {
   "cell_type": "markdown",
   "metadata": {},
   "source": [
    "- Set tz to be a timezone set for UTC+11.\n",
    "- Set dt's timezone to be tz."
   ]
  },
  {
   "cell_type": "code",
   "execution_count": 3,
   "metadata": {},
   "outputs": [
    {
     "name": "stdout",
     "output_type": "stream",
     "text": [
      "2017-10-01T15:26:26+11:00\n"
     ]
    }
   ],
   "source": [
    "# Import datetime, timedelta, timezone\n",
    "from datetime import datetime, timedelta, timezone\n",
    "\n",
    "# Create a timezone for Australian Eastern Daylight Time, or UTC+11\n",
    "aedt = timezone(timedelta(hours = 11))\n",
    "\n",
    "# October 1, 2017 at 15:26:26, UTC+11\n",
    "dt = datetime(2017, 10, 1, 15, 26, 26, tzinfo=aedt)\n",
    "\n",
    "# Print results\n",
    "print(dt.isoformat())"
   ]
  },
  {
   "cell_type": "markdown",
   "metadata": {},
   "source": [
    "- Create edt, a timezone object whose UTC offset is -4 hours.\n",
    "- Within the for loop:\n",
    "- Set the tzinfo for trip['start'].\n",
    "- Set the tzinfo for trip['end']."
   ]
  },
  {
   "cell_type": "code",
   "execution_count": 6,
   "metadata": {},
   "outputs": [
    {
     "name": "stdout",
     "output_type": "stream",
     "text": [
      "            Start date             End date  Start station number  \\\n",
      "0  2017-10-01 15:23:25  2017-10-01 15:26:26                 31038   \n",
      "\n",
      "          Start station  End station number                    End station  \\\n",
      "0  Glebe Rd & 11th St N               31036  George Mason Dr & Wilson Blvd   \n",
      "\n",
      "  Bike number Member type  \n",
      "0      W20529      Member  \n",
      "            Start date             End date  Start station number  \\\n",
      "0  2017-10-01 15:23:25  2017-10-01 15:26:26                 31038   \n",
      "\n",
      "          Start station  End station number                    End station  \\\n",
      "0  Glebe Rd & 11th St N               31036  George Mason Dr & Wilson Blvd   \n",
      "\n",
      "  Bike number Member type               start                 end  \n",
      "0      W20529      Member 2017-10-01 15:23:25 2017-10-01 15:23:25  \n"
     ]
    }
   ],
   "source": [
    "import pandas as pd\n",
    "onebike_datetimes = pd.read_csv(\"capital-onebike.csv\")\n",
    "# onebike_datetimes.rename(columns={\"Start date\": \"start\", \"End date\": \"end\"})\n",
    "print(onebike_datetimes.head(1))\n",
    "\n",
    "onebike_datetimes['start'] = pd.to_datetime(onebike_datetimes['Start date'])\n",
    "onebike_datetimes['end'] = pd.to_datetime(onebike_datetimes['Start date'])\n",
    "print(onebike_datetimes.head(1))\n",
    "\n",
    "\n",
    "# Create a timezone object corresponding to UTC-4\n",
    "edt = timezone(timedelta(hours = -4))\n",
    "\n",
    "# Loop over trips, updating the start and end datetimes to be in UTC-4\n",
    "for index, trip in onebike_datetimes[:10].iterrows():\n",
    "  # Update trip['start'] and trip['end']\n",
    "  trip['start'] = trip['start'].replace(tzinfo = edt)\n",
    "  trip['end'] = trip['end'].replace(tzinfo = edt)"
   ]
  },
  {
   "cell_type": "markdown",
   "metadata": {},
   "source": [
    "- Within the for loop, move dt to be in UTC. Use timezone.utc as a convenient shortcut for UTC."
   ]
  },
  {
   "cell_type": "code",
   "execution_count": 12,
   "metadata": {},
   "outputs": [
    {
     "name": "stdout",
     "output_type": "stream",
     "text": [
      "Original: 2017-10-01 15:23:25 | UTC: 2017-10-01T15:23:25+00:00\n",
      "Original: 2017-10-01 15:42:57 | UTC: 2017-10-01T15:42:57+00:00\n",
      "Original: 2017-10-02 06:37:10 | UTC: 2017-10-02T06:37:10+00:00\n",
      "Original: 2017-10-02 08:56:45 | UTC: 2017-10-02T08:56:45+00:00\n",
      "Original: 2017-10-02 18:23:48 | UTC: 2017-10-02T18:23:48+00:00\n",
      "Original: 2017-10-02 18:48:08 | UTC: 2017-10-02T18:48:08+00:00\n",
      "Original: 2017-10-02 19:18:10 | UTC: 2017-10-02T19:18:10+00:00\n",
      "Original: 2017-10-02 19:37:32 | UTC: 2017-10-02T19:37:32+00:00\n",
      "Original: 2017-10-03 08:24:16 | UTC: 2017-10-03T08:24:16+00:00\n",
      "Original: 2017-10-03 18:17:07 | UTC: 2017-10-03T18:17:07+00:00\n"
     ]
    }
   ],
   "source": [
    "# Loop over the trips\n",
    "for index, trip in onebike_datetimes[:10].iterrows():\n",
    "  # Pull out the start\n",
    "  dt = trip['start']\n",
    "  # Move dt to be in UTC\n",
    "  dt = dt.tz_localize(timezone.utc)  # astimezone or tz_convert\n",
    "  \n",
    "  # Print the start time in UTC\n",
    "  print('Original:', trip['start'], '| UTC:', dt.isoformat())"
   ]
  },
  {
   "cell_type": "markdown",
   "metadata": {},
   "source": [
    "- Import tz from dateutil.\n",
    "- Assign et to be the timezone 'America/New_York'.\n",
    "- Within the for loop, set start and end to have et as their timezone (use .replace())."
   ]
  },
  {
   "cell_type": "code",
   "execution_count": 13,
   "metadata": {},
   "outputs": [],
   "source": [
    "# Import tz\n",
    "from dateutil import tz\n",
    "\n",
    "# Create a timezone object for Eastern Time\n",
    "et = tz.gettz('America/New_York')\n",
    "\n",
    "# Loop over trips, updating the datetimes to be in Eastern Time\n",
    "for index, trip in onebike_datetimes[:10].iterrows():\n",
    "  # Update trip['start'] and trip['end']\n",
    "  trip['start'] = trip['start'].replace(tzinfo = et)\n",
    "  trip['end'] = trip['end'].replace(tzinfo = et)"
   ]
  },
  {
   "cell_type": "markdown",
   "metadata": {},
   "source": [
    "- Set uk to be the timezone for the UK: 'Europe/London'.\n",
    "- Change local to be in the uk timezone and assign it to notlocal."
   ]
  },
  {
   "cell_type": "code",
   "execution_count": 15,
   "metadata": {},
   "outputs": [],
   "source": [
    "# # Create the timezone object\n",
    "# uk = tz.gettz('Europe/London')\n",
    "\n",
    "# # Pull out the start of the first trip\n",
    "# local = onebike_datetimes[0]['start']\n",
    "\n",
    "# # What time was it in the UK?\n",
    "# notlocal = local.astimezone(uk)\n",
    "\n",
    "# # Print them out and see the difference\n",
    "# print(local.isoformat())\n",
    "# print(notlocal.isoformat())"
   ]
  },
  {
   "cell_type": "markdown",
   "metadata": {},
   "source": [
    "- Set ist to be the timezone for India: 'Asia/Kolkata'.\n",
    "- Change local to be in the ist timezone and assign it to notlocal."
   ]
  },
  {
   "cell_type": "code",
   "execution_count": 17,
   "metadata": {},
   "outputs": [],
   "source": [
    "# # Create the timezone object\n",
    "# ist = tz.gettz('Asia/Kolkata')\n",
    "\n",
    "# # Pull out the start of the first trip\n",
    "# local = onebike_datetimes[0]['start']\n",
    "\n",
    "# # What time was it in India?\n",
    "# notlocal = local.astimezone(ist)\n",
    "\n",
    "# # Print them out and see the difference\n",
    "# print(local.isoformat())\n",
    "# print(notlocal.isoformat())"
   ]
  },
  {
   "cell_type": "markdown",
   "metadata": {},
   "source": [
    "- Set sm to be the timezone for Samoa: 'Pacific/Apia'.\n",
    "- Change local to be in the sm timezone and assign it to notlocal."
   ]
  },
  {
   "cell_type": "code",
   "execution_count": 19,
   "metadata": {},
   "outputs": [],
   "source": [
    "# # Create the timezone object\n",
    "# sm = tz.gettz('Pacific/Apia')\n",
    "\n",
    "# # Pull out the start of the first trip\n",
    "# local = onebike_datetimes[0]['start']\n",
    "\n",
    "# # What time was it in Samoa?\n",
    "# notlocal = local.astimezone(sm)\n",
    "\n",
    "# # Print them out and see the difference\n",
    "# print(local.isoformat())\n",
    "# print(notlocal.isoformat())"
   ]
  },
  {
   "cell_type": "markdown",
   "metadata": {},
   "source": [
    "- You already have a datetime called start, set for March 12, 2017 at midnight, set to the timezone 'America/New_York'.\n",
    "- Add six hours to start and assign it to end. Look at the UTC offset for the two results."
   ]
  },
  {
   "cell_type": "code",
   "execution_count": 20,
   "metadata": {},
   "outputs": [
    {
     "name": "stdout",
     "output_type": "stream",
     "text": [
      "2017-03-12T00:00:00-05:00 to 2017-03-12T06:00:00-04:00\n"
     ]
    }
   ],
   "source": [
    "# Import datetime, timedelta, tz, timezone\n",
    "from datetime import datetime, timedelta, timezone\n",
    "from dateutil import tz\n",
    "\n",
    "# Start on March 12, 2017, midnight, then add 6 hours\n",
    "start = datetime(2017, 3, 12, tzinfo = tz.gettz('America/New_York'))\n",
    "end = start + timedelta(hours  = 6)\n",
    "print(start.isoformat() + \" to \" + end.isoformat())"
   ]
  },
  {
   "cell_type": "markdown",
   "metadata": {},
   "source": [
    "- You added 6 hours, and got 6 AM, despite the fact that the clocks springing forward means only 5 hours would have actually elapsed!\n",
    "- Calculate the time between start and end. How much time does Python think has elapsed?\n"
   ]
  },
  {
   "cell_type": "code",
   "execution_count": 21,
   "metadata": {},
   "outputs": [
    {
     "name": "stdout",
     "output_type": "stream",
     "text": [
      "2017-03-12T00:00:00-05:00 to 2017-03-12T06:00:00-04:00\n",
      "6.0\n"
     ]
    }
   ],
   "source": [
    "# Import datetime, timedelta, tz, timezone\n",
    "from datetime import datetime, timedelta, timezone\n",
    "from dateutil import tz\n",
    "\n",
    "# Start on March 12, 2017, midnight, then add 6 hours\n",
    "start = datetime(2017, 3, 12, tzinfo = tz.gettz('America/New_York'))\n",
    "end = start + timedelta(hours=6)\n",
    "print(start.isoformat() + \" to \" + end.isoformat())\n",
    "\n",
    "# How many hours have elapsed?\n",
    "print((end - start).seconds/(60*60))"
   ]
  },
  {
   "cell_type": "markdown",
   "metadata": {},
   "source": [
    "- Move your datetime objects into UTC and calculate the elapsed time again.\n",
    "- Once you're in UTC, what result do you get?"
   ]
  },
  {
   "cell_type": "code",
   "execution_count": 22,
   "metadata": {},
   "outputs": [
    {
     "name": "stdout",
     "output_type": "stream",
     "text": [
      "2017-03-12T00:00:00-05:00 to 2017-03-12T06:00:00-04:00\n",
      "6.0\n",
      "5.0\n"
     ]
    }
   ],
   "source": [
    "# Import datetime, timedelta, tz, timezone\n",
    "from datetime import datetime, timedelta, timezone\n",
    "from dateutil import tz\n",
    "\n",
    "# Start on March 12, 2017, midnight, then add 6 hours\n",
    "start = datetime(2017, 3, 12, tzinfo = tz.gettz('America/New_York'))\n",
    "end = start + timedelta(hours=6)\n",
    "print(start.isoformat() + \" to \" + end.isoformat())\n",
    "\n",
    "# How many hours have elapsed?\n",
    "print((end - start).total_seconds()/(60*60))\n",
    "\n",
    "# What if we move to UTC?\n",
    "print((end.astimezone(timezone.utc) - start.astimezone(timezone.utc))\\\n",
    "      .total_seconds()/(60*60))"
   ]
  },
  {
   "cell_type": "markdown",
   "metadata": {},
   "source": [
    "- Using tz, set the timezone for dt to be 'Europe/London'.\n",
    "- Within the for loop:\n",
    "- Use the .replace() method to change the year for dt to be y.\n",
    "- Call .isoformat() on the result to observe the results."
   ]
  },
  {
   "cell_type": "code",
   "execution_count": 23,
   "metadata": {},
   "outputs": [
    {
     "name": "stdout",
     "output_type": "stream",
     "text": [
      "2000-03-29T00:00:00+01:00\n",
      "2001-03-29T00:00:00+01:00\n",
      "2002-03-29T00:00:00+00:00\n",
      "2003-03-29T00:00:00+00:00\n",
      "2004-03-29T00:00:00+01:00\n",
      "2005-03-29T00:00:00+01:00\n",
      "2006-03-29T00:00:00+01:00\n",
      "2007-03-29T00:00:00+01:00\n",
      "2008-03-29T00:00:00+00:00\n",
      "2009-03-29T00:00:00+00:00\n",
      "2010-03-29T00:00:00+01:00\n"
     ]
    }
   ],
   "source": [
    "# Import datetime and tz\n",
    "from datetime import datetime\n",
    "from dateutil import tz\n",
    "\n",
    "# Create starting date\n",
    "dt = datetime(2000, 3, 29, tzinfo = tz.gettz('Europe/London'))\n",
    "\n",
    "# Loop over the dates, replacing the year, and print the ISO timestamp\n",
    "for y in range(2000, 2011):\n",
    "  print(dt.replace(year=y).isoformat())"
   ]
  },
  {
   "cell_type": "markdown",
   "metadata": {},
   "source": [
    "Loop over the trips in onebike_datetimes:\n",
    "- Print any rides whose start is ambiguous.\n",
    "- Print any rides whose end is ambiguous."
   ]
  },
  {
   "cell_type": "code",
   "execution_count": 25,
   "metadata": {},
   "outputs": [],
   "source": [
    "# # Loop over trips\n",
    "# for index, trip in onebike_datetimes.iterrows():\n",
    "#   # Rides with ambiguous start\n",
    "#   if tz.datetime_ambiguous(trip['start']):\n",
    "#     print(\"Ambiguous start at \" + str(trip['start']))\n",
    "#   # Rides with ambiguous end\n",
    "#   if tz.datetime_ambiguous(trip['end']):\n",
    "#     print(\"Ambiguous end at \" + str(trip['end']))"
   ]
  },
  {
   "cell_type": "markdown",
   "metadata": {},
   "source": [
    "- Complete the if statement to be true only when a ride's start comes after its end.\n",
    "- When start is after end, call tz.enfold() on the end so you know it refers to the one after the daylight savings time change.\n",
    "- After the if statement, convert the start and end to UTC so you can make a proper comparison."
   ]
  },
  {
   "cell_type": "code",
   "execution_count": 29,
   "metadata": {},
   "outputs": [],
   "source": [
    "# trip_durations = []\n",
    "# for index, trip in onebike_datetimes.iterrows():\n",
    "#   # When the start is later than the end, set the fold to be 1\n",
    "#   if trip['start'] > trip['end'] :\n",
    "#     trip['end'] = tz.enfold(trip['end'])\n",
    "#   # Convert to UTC\n",
    "#   start = trip['start'].astimezone(timezone.utc)\n",
    "#   end = trip['end'].astimezone(timezone.utc)\n",
    "\n",
    "#   # Subtract the difference\n",
    "#   trip_length_seconds = (end-start).total_seconds()\n",
    "#   trip_durations.append(trip_length_seconds)\n",
    "\n",
    "# # Take the shortest trip duration\n",
    "# print(\"Shortest trip: \" + str(min(trip_durations)))"
   ]
  }
 ],
 "metadata": {
  "interpreter": {
   "hash": "3fef59229a6e1ff5434759995be53a28a25493efd6d26eb6c004eefe62e31083"
  },
  "kernelspec": {
   "display_name": "Python 3.8.11 ('env_py')",
   "language": "python",
   "name": "python3"
  },
  "language_info": {
   "codemirror_mode": {
    "name": "ipython",
    "version": 3
   },
   "file_extension": ".py",
   "mimetype": "text/x-python",
   "name": "python",
   "nbconvert_exporter": "python",
   "pygments_lexer": "ipython3",
   "version": "3.8.11"
  },
  "orig_nbformat": 4
 },
 "nbformat": 4,
 "nbformat_minor": 2
}
