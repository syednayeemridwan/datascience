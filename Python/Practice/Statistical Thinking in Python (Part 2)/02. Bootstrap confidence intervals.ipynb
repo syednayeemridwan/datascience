{
 "cells": [
  {
   "cell_type": "markdown",
   "metadata": {},
   "source": [
    "Getting tripped up over terminology is a common cause of frustration in students. Unfortunately, you often will read and hear other data scientists using different terminology for bootstrap samples and replicates. This is even more reason why we need everything to be clear and consistent for this course. So, before going forward discussing bootstrapping, let's get our terminology down. If we have a data set with n repeated measurements, a bootstrap sample is an array of length n that was drawn from the original data with replacement. What is a bootstrap replicate?\n",
    "- A single value of a statistic computed from a bootstrap sample."
   ]
  },
  {
   "cell_type": "markdown",
   "metadata": {},
   "source": [
    "imagine you have a data set that has only three points, [-1, 0, 1]. How many unique bootstrap samples can be drawn (e.g., [-1, 0, 1] and [1, 0, -1] are unique), and what is the maximum mean you can get from a bootstrap sample? It might be useful to jot down the samples on a piece of paper.\n",
    "- There are 27 unique samples, and the maximum mean is 1."
   ]
  },
  {
   "cell_type": "markdown",
   "metadata": {},
   "source": [
    "- Write a for loop to acquire 50 bootstrap samples of the rainfall data and plot their ECDF.\n",
    "- Use np.random.choice() to generate a bootstrap sample from the NumPy array rainfall. Be sure that the size of the resampled array is len(rainfall).\n",
    "- Use the function ecdf() that you wrote in the prequel to this course to generate the x and y values for the ECDF of the bootstrap sample bs_sample.\n",
    "- Plot the ECDF values. Specify color='gray' (to make gray dots) and alpha=0.1 (to make them semi-transparent, since we are overlaying so many) in addition to the marker='.' and linestyle='none' keyword arguments.\n",
    "- Use ecdf() to generate x and y values for the ECDF of the original rainfall data available in the array rainfall.\n",
    "- Plot the ECDF values of the original data.\n",
    "- Hit submit to visualize the samples!"
   ]
  },
  {
   "cell_type": "code",
   "execution_count": 67,
   "metadata": {},
   "outputs": [],
   "source": [
    "import numpy as np\n",
    "import pandas as pd\n",
    "import matplotlib.pyplot as plt\n",
    "\n",
    "# , names=['yyyy','mm','tmax','tmin','af','rain' ,'sun']\n",
    "\n",
    "# weather = pd.read_csv(\"sheffield_weather_station.csv\",sep='\\t', comment='#',header=None)\n",
    "# print(weather.columns)\n",
    "# print(weather.head(2))\n",
    "# rain = []\n",
    "# for index, row in weather[1:].iterrows():\n",
    "#     print(index)\n"
   ]
  },
  {
   "cell_type": "code",
   "execution_count": 3,
   "metadata": {},
   "outputs": [],
   "source": [
    "def ecdf(data):\n",
    "    \"\"\"Compute ECDF for a one-dimensional array of measurements.\"\"\"\n",
    "    # Number of data points: n\n",
    "    n = len(data)\n",
    "\n",
    "    # x-data for the ECDF: x\n",
    "    x = np.sort(data)\n",
    "\n",
    "    # y-data for the ECDF: y\n",
    "    y = np.arange(1, n+1) / n\n",
    "\n",
    "    return x, y"
   ]
  },
  {
   "cell_type": "code",
   "execution_count": 56,
   "metadata": {},
   "outputs": [],
   "source": [
    "# for _ in range(50):\n",
    "#     # Generate bootstrap sample: bs_sample\n",
    "#     bs_sample = np.random.choice(rainfall, size=len(rainfall))\n",
    "\n",
    "#     # Compute and plot ECDF from bootstrap sample\n",
    "#     x, y = ecdf(bs_sample)\n",
    "#     _ = plt.plot(x, y, marker='.', linestyle='none',\n",
    "#                  color='gray', alpha=0.1)\n",
    "\n",
    "# # Compute and plot ECDF from original data\n",
    "# x, y = ecdf(rainfall)\n",
    "# _ = plt.plot(x, y, marker='.')\n",
    "\n",
    "# # Make margins and label axes\n",
    "# plt.margins(0.02)\n",
    "# _ = plt.xlabel('yearly rainfall (mm)')\n",
    "# _ = plt.ylabel('ECDF')\n",
    "\n",
    "# # Show the plot\n",
    "# plt.show()"
   ]
  },
  {
   "cell_type": "markdown",
   "metadata": {},
   "source": [
    "- Define a function with call signature draw_bs_reps(data, func, size=1).\n",
    "- Using np.empty(), initialize an array called bs_replicates of size size to hold all of the bootstrap replicates.\n",
    "- Write a for loop that ranges over size and computes a replicate using bootstrap_replicate_1d(). Refer to the exercise description above to see the function signature of bootstrap_replicate_1d(). Store the replicate in the appropriate index of bs_replicates.\n",
    "- Return the array of replicates bs_replicates. This has already been done for you."
   ]
  },
  {
   "cell_type": "code",
   "execution_count": 68,
   "metadata": {},
   "outputs": [],
   "source": [
    "def bootstrap_replicate_1d(data, func):\n",
    "    \"\"\"Generate bootstrap replicate of 1D data.\"\"\"\n",
    "    bs_sample = np.random.choice(data, len(data))\n",
    "    return func(bs_sample)"
   ]
  },
  {
   "cell_type": "code",
   "execution_count": 69,
   "metadata": {},
   "outputs": [],
   "source": [
    "def draw_bs_reps(data, func, size=1):\n",
    "    \"\"\"Draw bootstrap replicates.\"\"\"\n",
    "\n",
    "    # Initialize array of replicates: bs_replicates\n",
    "    bs_replicates = np.empty(size)\n",
    "\n",
    "    # Generate replicates\n",
    "    for i in range(size):\n",
    "        bs_replicates[i] = bootstrap_replicate_1d(data, func)\n",
    "\n",
    "    return bs_replicates\n"
   ]
  },
  {
   "cell_type": "markdown",
   "metadata": {},
   "source": [
    "- Draw 10000 bootstrap replicates of the mean annual rainfall using your draw_bs_reps() function and the rainfall array. Hint: Pass in np.mean for func to compute the mean.\n",
    "- As a reminder, draw_bs_reps() accepts 3 arguments: data, func, and size.\n",
    "- Compute and print the standard error of the mean of rainfall.\n",
    "- The formula to compute this is np.std(data) / np.sqrt(len(data)).\n",
    "- Compute and print the standard deviation of your bootstrap replicates bs_replicates.\n",
    "- Make a histogram of the replicates using the normed=True keyword argument and 50 bins.\n",
    "- Hit submit to see the plot!"
   ]
  },
  {
   "cell_type": "code",
   "execution_count": 70,
   "metadata": {},
   "outputs": [],
   "source": [
    "# # Take 10,000 bootstrap replicates of the mean: bs_replicates\n",
    "# bs_replicates = draw_bs_reps(rainfall, np.mean, size = 10000)\n",
    "\n",
    "# # Compute and print SEM\n",
    "# sem = np.std(rainfall) / np.sqrt(len(rainfall))\n",
    "# print(sem)\n",
    "\n",
    "# # Compute and print standard deviation of bootstrap replicates\n",
    "# bs_std = np.std(bs_replicates)\n",
    "# print(bs_std)\n",
    "\n",
    "# # Make a histogram of the results\n",
    "# _ = plt.hist(bs_replicates, bins=50, normed=True)\n",
    "# _ = plt.xlabel('mean annual rainfall (mm)')\n",
    "# _ = plt.ylabel('PDF')\n",
    "\n",
    "# # Show the plot\n",
    "# plt.show()"
   ]
  },
  {
   "cell_type": "markdown",
   "metadata": {},
   "source": [
    "A confidence interval gives upper and lower bounds on the range of parameter values you might expect to get if we repeat our measurements. For named distributions, you can compute them analytically or look them up, but one of the many beautiful properties of the bootstrap method is that you can take percentiles of your bootstrap replicates to get your confidence interval. Conveniently, you can use the np.percentile() function.\n",
    "\n",
    "Use the bootstrap replicates you just generated to compute the 95% confidence interval. That is, give the 2.5th and 97.5th percentile of your bootstrap replicates stored as bs_replicates. What is the 95% confidence interval?"
   ]
  },
  {
   "cell_type": "code",
   "execution_count": 71,
   "metadata": {},
   "outputs": [],
   "source": [
    "# np.percentile(bs_replicates,[2.5,97.5])"
   ]
  },
  {
   "cell_type": "markdown",
   "metadata": {},
   "source": [
    "- Draw 10000 bootstrap replicates of the variance in annual rainfall, stored in the rainfall dataset, using your draw_bs_reps() function. Hint: Pass in np.var for computing the variance.\n",
    "- Divide your variance replicates (bs_replicates) by 100 to put the variance in units of square centimeters for convenience.\n",
    "- Make a histogram of bs_replicates using the normed=True keyword argument and 50 bins."
   ]
  },
  {
   "cell_type": "code",
   "execution_count": 72,
   "metadata": {},
   "outputs": [],
   "source": [
    "# # Generate 10,000 bootstrap replicates of the variance: bs_replicates\n",
    "# bs_replicates = draw_bs_reps(rainfall, np.var, size=10000)\n",
    "\n",
    "# # Put the variance in units of square centimeters\n",
    "# bs_replicates = bs_replicates/100\n",
    "\n",
    "# # Make a histogram of the results\n",
    "# _ = plt.hist(bs_replicates, normed=True, bins = 50)\n",
    "# _ = plt.xlabel('variance of annual rainfall (sq. cm)')\n",
    "# _ = plt.ylabel('PDF')\n",
    "\n",
    "# # Show the plot\n",
    "# plt.show()\n"
   ]
  },
  {
   "cell_type": "markdown",
   "metadata": {},
   "source": [
    "- Generate 10000 bootstrap replicates of  from the nohitter_times data using your draw_bs_reps() function. Recall that the optimal  is calculated as the mean of the data.\n",
    "- Compute the 95% confidence interval using np.percentile() and passing in two arguments: The array bs_replicates, and the list of percentiles - in this case 2.5 and 97.5.\n",
    "- Print the confidence interval.\n",
    "- Plot a histogram of your bootstrap replicates. This has been done for you, so hit submit to see the plot!"
   ]
  },
  {
   "cell_type": "code",
   "execution_count": 73,
   "metadata": {},
   "outputs": [],
   "source": [
    "# # Draw bootstrap replicates of the mean no-hitter time (equal to tau): bs_replicates\n",
    "# bs_replicates = draw_bs_reps(nohitter_times, np.mean, size = 10000)\n",
    "\n",
    "# # Compute the 95% confidence interval: conf_int\n",
    "# conf_int = np.percentile(bs_replicates, [2.5 , 97.5])\n",
    "\n",
    "# # Print the confidence interval\n",
    "# print('95% confidence interval =', conf_int, 'games')\n",
    "\n",
    "# # Plot the histogram of the replicates\n",
    "# _ = plt.hist(bs_replicates, bins=50, normed=True)\n",
    "# _ = plt.xlabel(r'$\\tau$ (games)')\n",
    "# _ = plt.ylabel('PDF')\n",
    "\n",
    "# # Show the plot\n",
    "# plt.show()\n"
   ]
  },
  {
   "cell_type": "markdown",
   "metadata": {},
   "source": [
    "- parametric estimate = parameters change in each sample. Like slope and intercept\n",
    "- non-parametric estimate = parameters do not change in all sample. Like mean and std"
   ]
  },
  {
   "cell_type": "markdown",
   "metadata": {},
   "source": [
    "- Define a function with call signature draw_bs_pairs_linreg(x, y, size=1) to perform pairs bootstrap estimates on linear regression parameters.\n",
    "- Use np.arange() to set up an array of indices going from 0 to len(x). These are what you will resample and use them to pick values out of the x and y arrays.\n",
    "- Use np.empty() to initialize the slope and intercept replicate arrays to be of size size.\n",
    "- Write a for loop to:\n",
    "- Resample the indices inds. Use np.random.choice() to do this.\n",
    "- Make new  and  arrays bs_x and bs_y using the the resampled indices bs_inds. To do this, slice x and y with bs_inds.\n",
    "- Use np.polyfit() on the new  and  arrays and store the computed slope and intercept.\n",
    "- Return the pair bootstrap replicates of the slope and intercept."
   ]
  },
  {
   "cell_type": "code",
   "execution_count": 74,
   "metadata": {},
   "outputs": [],
   "source": [
    "def draw_bs_pairs_linreg(x, y, size=1):\n",
    "    \"\"\"Perform pairs bootstrap for linear regression.\"\"\"\n",
    "\n",
    "    # Set up array of indices to sample from: inds\n",
    "    inds = np.arange(0,len(x))\n",
    "\n",
    "    # Initialize replicates: bs_slope_reps, bs_intercept_reps\n",
    "    bs_slope_reps = np.empty(size)\n",
    "    bs_intercept_reps = np.empty(size)\n",
    "\n",
    "    # Generate replicates\n",
    "    for i in range(size):\n",
    "        bs_inds = np.random.choice(inds, size=len(inds))\n",
    "        bs_x, bs_y = x[bs_inds], y[bs_inds]\n",
    "        bs_slope_reps[i], bs_intercept_reps[i] = np.polyfit(bs_x, bs_y,1)\n",
    "\n",
    "    return bs_slope_reps, bs_intercept_reps\n"
   ]
  },
  {
   "cell_type": "markdown",
   "metadata": {},
   "source": [
    "- Use your draw_bs_pairs_linreg() function to take 1000 bootstrap replicates of the slope and intercept. The x-axis data is illiteracy and y-axis data is fertility.\n",
    "- Compute and print the 95% bootstrap confidence interval for the slope.\n",
    "- Plot and show a histogram of the slope replicates. Be sure to label your axes. This has been done for you, so click submit to see your histogram!"
   ]
  },
  {
   "cell_type": "code",
   "execution_count": 76,
   "metadata": {},
   "outputs": [
    {
     "name": "stdout",
     "output_type": "stream",
     "text": [
      "Index(['Country ', 'Continent', 'female literacy', 'fertility', 'population'], dtype='object')\n",
      "[0.04453799 0.05546913]\n"
     ]
    },
    {
     "data": {
      "image/png": "[encoded data removed]",
      "text/plain": [
       "<Figure size 432x288 with 1 Axes>"
      ]
     },
     "metadata": {
      "needs_background": "light"
     },
     "output_type": "display_data"
    }
   ],
   "source": [
    "females = pd.read_csv(\"female_literacy_fertility.csv\")\n",
    "print(females.columns)\n",
    "illiteracy = 1 - females['female literacy']\n",
    "fertility = females['fertility']\n",
    "\n",
    "# Generate replicates of slope and intercept using pairs bootstrap\n",
    "bs_slope_reps, bs_intercept_reps = draw_bs_pairs_linreg(illiteracy, fertility, size = 1000)\n",
    "\n",
    "# Compute and print 95% CI for slope\n",
    "print(np.percentile(bs_slope_reps, [2.5,97.5]))\n",
    "\n",
    "# Plot the histogram\n",
    "_ = plt.hist(bs_slope_reps, bins=50, density=True)\n",
    "_ = plt.xlabel('slope')\n",
    "_ = plt.ylabel('PDF')\n",
    "plt.show()"
   ]
  },
  {
   "cell_type": "markdown",
   "metadata": {},
   "source": [
    "- Generate an array of -values consisting of 0 and 100 for the plot of the regression lines. Use the np.array() function for this.\n",
    "- Write a for loop in which you plot a regression line with a slope and intercept given by the pairs bootstrap replicates. Do this for 100 lines.\n",
    "- When plotting the regression lines in each iteration of the for loop, recall the regression equation y = a*x + b. Here, a is bs_slope_reps[i] and b is bs_intercept_reps[i].\n",
    "- Specify the keyword arguments linewidth=0.5, alpha=0.2, and color='red' in your call to plt.plot().\n",
    "- Make a scatter plot with illiteracy on the x-axis and fertility on the y-axis. Remember to specify the marker='.' and linestyle='none' keyword arguments.\n",
    "- Label the axes, set a 2% margin, and show the plot. This has been done for you, so hit submit to visualize the bootstrap regressions!"
   ]
  },
  {
   "cell_type": "code",
   "execution_count": 77,
   "metadata": {},
   "outputs": [
    {
     "data": {
      "image/png": "[encoded data removed]",
      "text/plain": [
       "<Figure size 432x288 with 1 Axes>"
      ]
     },
     "metadata": {
      "needs_background": "light"
     },
     "output_type": "display_data"
    }
   ],
   "source": [
    "# Generate array of x-values for bootstrap lines: x\n",
    "x = np.array([0,100])\n",
    "\n",
    "# Plot the bootstrap lines\n",
    "for i in range(100):\n",
    "    _ = plt.plot(x, \n",
    "                 bs_slope_reps[i] * x + bs_intercept_reps[i],\n",
    "                 linewidth=0.5, alpha=0.2, color='red')\n",
    "\n",
    "# Plot the data\n",
    "_ = plt.plot(illiteracy, fertility,marker = \".\", linestyle=\"none\")\n",
    "\n",
    "# Label axes, set the margins, and show the plot\n",
    "_ = plt.xlabel('illiteracy')\n",
    "_ = plt.ylabel('fertility')\n",
    "plt.margins(0.02)\n",
    "plt.show()"
   ]
  }
 ],
 "metadata": {
  "interpreter": {
   "hash": "3fef59229a6e1ff5434759995be53a28a25493efd6d26eb6c004eefe62e31083"
  },
  "kernelspec": {
   "display_name": "Python 3.8.11 ('env_py')",
   "language": "python",
   "name": "python3"
  },
  "language_info": {
   "codemirror_mode": {
    "name": "ipython",
    "version": 3
   },
   "file_extension": ".py",
   "mimetype": "text/x-python",
   "name": "python",
   "nbconvert_exporter": "python",
   "pygments_lexer": "ipython3",
   "version": "3.8.11"
  },
  "orig_nbformat": 4
 },
 "nbformat": 4,
 "nbformat_minor": 2
}
