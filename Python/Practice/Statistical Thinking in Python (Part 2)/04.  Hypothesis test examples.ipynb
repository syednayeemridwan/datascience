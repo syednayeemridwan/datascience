{
 "cells": [
  {
   "cell_type": "markdown",
   "metadata": {},
   "source": [
    "- Construct Boolean arrays, dems and reps that contain the votes of the respective parties; e.g., dems has 153 True entries and 91 False entries.\n",
    "- Write a function, frac_yea_dems(dems, reps) that returns the fraction of Democrats that voted yea. The first input is an array of Booleans, Two inputs are required to use your draw_perm_reps() function, but the second is not used.\n",
    "- Use your draw_perm_reps() function to draw 10,000 permutation replicates of the fraction of Democrat yea votes.\n",
    "- Compute and print the p-value."
   ]
  },
  {
   "cell_type": "code",
   "execution_count": 2,
   "metadata": {},
   "outputs": [],
   "source": [
    "# import numpy as np\n",
    "# # Construct arrays of data: dems, reps\n",
    "# dems = np.array([True] * 153 + [False] * 91)\n",
    "# reps = np.array([True] * 136 + [False] * 35)\n",
    "\n",
    "# def frac_yea_dems(dems, reps):\n",
    "#     \"\"\"Compute fraction of Democrat yea votes.\"\"\"\n",
    "#     frac = np.sum(dems) / len(dems)\n",
    "#     return frac\n",
    "\n",
    "# # Acquire permutation samples: perm_replicates\n",
    "# perm_replicates = draw_perm_reps(dems, reps, frac_yea_dems, 10000)\n",
    "\n",
    "# # Compute and print p-value: p\n",
    "# p = np.sum(perm_replicates <= 153/244) / len(perm_replicates)\n",
    "# print('p-value =', p)"
   ]
  },
  {
   "cell_type": "markdown",
   "metadata": {},
   "source": [
    "You have experience matching stories to probability distributions. Similarly, you use the same procedure for two different A/B tests if their stories match. In the Civil Rights Act example you just did, you performed an A/B test on voting data, which has a Yes/No type of outcome for each subject (in that case, a voter). Which of the following situations involving testing by a web-based company has an equivalent set up for an A/B test as the one you just did with the Civil Rights Act of 1964?\n",
    "- Measure the number of people who click on an ad on your company's website before and after changing its color."
   ]
  },
  {
   "cell_type": "markdown",
   "metadata": {},
   "source": [
    "- Compute the observed difference in mean inter-nohitter time using diff_of_means().\n",
    "- Generate 10,000 permutation replicates of the difference of means using draw_perm_reps().\n",
    "- Compute and print the p-value."
   ]
  },
  {
   "cell_type": "code",
   "execution_count": 3,
   "metadata": {},
   "outputs": [],
   "source": [
    "# # Compute the observed difference in mean inter-no-hitter times: nht_diff_obs\n",
    "# nht_diff_obs = diff_of_means(nht_dead, nht_live)\n",
    "\n",
    "# # Acquire 10,000 permutation replicates of difference in mean no-hitter time: perm_replicates\n",
    "# perm_replicates = draw_perm_reps(nht_dead, nht_live, diff_of_means, 10000)\n",
    "\n",
    "\n",
    "# # Compute and print the p-value: p\n",
    "# p = np.sum(perm_replicates <= nht_diff_obs) / len(perm_replicates)\n",
    "# print('p-val =', p)"
   ]
  },
  {
   "cell_type": "markdown",
   "metadata": {},
   "source": [
    "That was a nice hypothesis test you just did to check out whether the rule changes in 1920 changed the rate of no-hitters. But what should you have done with the data first?\n",
    "1. Performed EDA, perhaps plotting the ECDFs of inter-no-hitter times in the dead ball and live ball eras.\n",
    "2. Then hypothesis test was only a few lines of code."
   ]
  },
  {
   "cell_type": "markdown",
   "metadata": {},
   "source": [
    "The observed correlation between female illiteracy and fertility in the data set of 162 countries may just be by chance; the fertility of a given country may actually be totally independent of its illiteracy. You will test this null hypothesis in the next exercise.\n",
    "\n",
    "To do the test, you need to simulate the data assuming the null hypothesis is true. Of the following choices, which is the best way to do it?\n",
    "- Do a permutation test: Permute the illiteracy values but leave the fertility values fixed to generate a new set of (illiteracy, fertility) data.\n",
    "- Do a permutation test: Permute both the illiteracy and fertility values to generate a new set of (illiteracy, fertility data). [This works perfectly, and is exact because it uses all data and eliminates any correlation because we shuffle which illiteracy value pairs to which fertility value. However, it is not necessary, and computationally inefficient, to permute both illiteracy and fertility..]"
   ]
  },
  {
   "cell_type": "markdown",
   "metadata": {},
   "source": [
    "- Compute the observed Pearson correlation between illiteracy and fertility.\n",
    "- Initialize an array to store your permutation replicates.\n",
    "- Write a for loop to draw 10,000 replicates:\n",
    "- Permute the illiteracy measurements using np.random.permutation().\n",
    "- Compute the Pearson correlation between the permuted illiteracy array, illiteracy_permuted, and fertility.\n",
    "- Compute and print the p-value from the replicates."
   ]
  },
  {
   "cell_type": "code",
   "execution_count": 5,
   "metadata": {},
   "outputs": [],
   "source": [
    "# # Compute observed correlation: r_obs\n",
    "# r_obs = pearson_r(illiteracy , fertility)\n",
    "\n",
    "# # Initialize permutation replicates: perm_replicates\n",
    "# perm_replicates = np.empty(10000)\n",
    "\n",
    "# # Draw replicates\n",
    "# for i in range(10000):\n",
    "#     # Permute illiteracy measurments: illiteracy_permuted\n",
    "#     illiteracy_permuted = np.random.permutation(illiteracy)\n",
    "\n",
    "#     # Compute Pearson correlation\n",
    "#     perm_replicates[i] = pearson_r(illiteracy_permuted, fertility)\n",
    "\n",
    "# # Compute p-value: p\n",
    "# p = np.sum(perm_replicates >= r_obs)/len(perm_replicates) # replications are at least same as observed\n",
    "# print('p-val =', p)"
   ]
  },
  {
   "cell_type": "markdown",
   "metadata": {},
   "source": [
    "- Use your ecdf() function to generate x,y values from the control and treated arrays for plotting the ECDFs.\n",
    "- Plot the ECDFs on the same plot.\n",
    "- The margins have been set for you, along with the legend and axis labels. Hit submit to see the result!"
   ]
  },
  {
   "cell_type": "code",
   "execution_count": 6,
   "metadata": {},
   "outputs": [],
   "source": [
    "# # Compute x,y values for ECDFs\n",
    "# x_control, y_control = ecdf(control)\n",
    "# x_treated, y_treated = ecdf(treated)\n",
    "\n",
    "# # Plot the ECDFs\n",
    "# plt.plot(x_control, y_control, marker='.', linestyle='none')\n",
    "# plt.plot(x_treated, y_treated, marker='.', linestyle='none')\n",
    "\n",
    "# # Set the margins\n",
    "# plt.margins(0.02)\n",
    "\n",
    "# # Add a legend\n",
    "# plt.legend(('control', 'treated'), loc='lower right')\n",
    "\n",
    "# # Label axes and show plot\n",
    "# plt.xlabel('millions of alive sperm per mL')\n",
    "# plt.ylabel('ECDF')\n",
    "# plt.show()\n"
   ]
  },
  {
   "cell_type": "markdown",
   "metadata": {},
   "source": [
    "- Compute the mean alive sperm count of control minus that of treated.\n",
    "- Compute the mean of all alive sperm counts. To do this, first concatenate control and treated and take the mean of the concatenated array.\n",
    "- Generate shifted data sets for both control and treated such that the shifted data sets have the same mean. This has already been done for you.\n",
    "- Generate 10,000 bootstrap replicates of the mean each for the two shifted arrays. Use your draw_bs_reps() function.\n",
    "- Compute the bootstrap replicates of the difference of means.\n",
    "- The code to compute and print the p-value has been written for you. Hit submit to see the result!"
   ]
  },
  {
   "cell_type": "code",
   "execution_count": 7,
   "metadata": {},
   "outputs": [],
   "source": [
    "# # Compute the difference in mean sperm count: diff_means\n",
    "# diff_means = np.mean(control) - np.mean(treated)\n",
    "\n",
    "# # Compute mean of pooled data: mean_count\n",
    "# mean_count = np.mean(np.concatenate((control , treated)))\n",
    "\n",
    "# # Generate shifted data sets\n",
    "# control_shifted = control - np.mean(control) + mean_count\n",
    "# treated_shifted = treated - np.mean(treated) + mean_count\n",
    "\n",
    "# # Generate bootstrap replicates\n",
    "# bs_reps_control = draw_bs_reps(control_shifted,\n",
    "#                        np.mean, size=10000)\n",
    "# bs_reps_treated = draw_bs_reps(treated_shifted,\n",
    "#                        np.mean, size=10000)\n",
    "\n",
    "# # Get replicates of difference of means: bs_replicates\n",
    "# bs_replicates = bs_reps_control - bs_reps_treated\n",
    "\n",
    "# # Compute and print p-value: p\n",
    "# p = np.sum(bs_replicates >= np.mean(control) - np.mean(treated)) \\\n",
    "#             / len(bs_replicates)\n",
    "# print('p-value =', p)\n"
   ]
  }
 ],
 "metadata": {
  "interpreter": {
   "hash": "3fef59229a6e1ff5434759995be53a28a25493efd6d26eb6c004eefe62e31083"
  },
  "kernelspec": {
   "display_name": "Python 3.8.11 ('env_py')",
   "language": "python",
   "name": "python3"
  },
  "language_info": {
   "codemirror_mode": {
    "name": "ipython",
    "version": 3
   },
   "file_extension": ".py",
   "mimetype": "text/x-python",
   "name": "python",
   "nbconvert_exporter": "python",
   "pygments_lexer": "ipython3",
   "version": "3.8.11"
  },
  "orig_nbformat": 4
 },
 "nbformat": 4,
 "nbformat_minor": 2
}
