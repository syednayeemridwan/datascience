{
 "cells": [
  {
   "cell_type": "markdown",
   "metadata": {},
   "source": [
    "- Concatenate the two input arrays into one using np.concatenate(). Be sure to pass in data1 and data2 as one argument (data1, data2).\n",
    "- Use np.random.permutation() to permute the concatenated array.\n",
    "- Store the first len(data1) entries of permuted_data as perm_sample_1 and the last len(data2) entries of permuted_data as perm_sample_2. In practice, this can be achieved by using :len(data1) and len(data1): to slice permuted_data.\n",
    "- Return perm_sample_1 and perm_sample_2."
   ]
  },
  {
   "cell_type": "code",
   "execution_count": 2,
   "metadata": {},
   "outputs": [],
   "source": [
    "import numpy as np"
   ]
  },
  {
   "cell_type": "code",
   "execution_count": 3,
   "metadata": {},
   "outputs": [],
   "source": [
    "def permutation_sample(data1, data2):\n",
    "    \"\"\"Generate a permutation sample from two data sets.\"\"\"\n",
    "\n",
    "    # Concatenate the data sets: data\n",
    "    data = np.concatenate((data1, data2))\n",
    "\n",
    "    # Permute the concatenated array: permuted_data\n",
    "    permuted_data = np.random.permutation(data)\n",
    "\n",
    "    # Split the permuted array into two: perm_sample_1, perm_sample_2\n",
    "    perm_sample_1 = permuted_data[:len(data1)]\n",
    "    perm_sample_2 = permuted_data[-len(data2):]\n",
    "\n",
    "    return perm_sample_1, perm_sample_2"
   ]
  },
  {
   "cell_type": "markdown",
   "metadata": {},
   "source": [
    "- Write a for loop to generate 50 permutation samples, compute their ECDFs, and plot them.\n",
    "- Generate a permutation sample pair from rain_june and rain_november using your permutation_sample() function.\n",
    "- Generate the x and y values for an ECDF for each of the two permutation samples for the ECDF using your ecdf() function.\n",
    "- Plot the ECDF of the first permutation sample (x_1 and y_1) as dots. Do the same for the second permutation sample (x_2 and y_2).\n",
    "- Generate x and y values for ECDFs for the rain_june and rain_november data and plot the ECDFs using respectively the keyword arguments color='red' and color='blue'.\n",
    "- Label your axes, set a 2% margin, and show your plot. This has been done for you, so just hit submit to view the plot!"
   ]
  },
  {
   "cell_type": "code",
   "execution_count": 4,
   "metadata": {},
   "outputs": [],
   "source": [
    "def ecdf(data):\n",
    "    \"\"\"Compute ECDF for a one-dimensional array of measurements.\"\"\"\n",
    "    # Number of data points: n\n",
    "    n = len(data)\n",
    "\n",
    "    # x-data for the ECDF: x\n",
    "    x = np.sort(data)\n",
    "\n",
    "    # y-data for the ECDF: y\n",
    "    y = np.arange(1, n+1) / n\n",
    "\n",
    "    return x, y\n"
   ]
  },
  {
   "cell_type": "code",
   "execution_count": 5,
   "metadata": {},
   "outputs": [],
   "source": [
    "# for _ in range(50):\n",
    "#     # Generate permutation samples\n",
    "#     perm_sample_1, perm_sample_2 = permutation_sample(rain_june,rain_november)\n",
    "\n",
    "\n",
    "#     # Compute ECDFs\n",
    "#     x_1, y_1 = ecdf(perm_sample_1)\n",
    "#     x_2, y_2 = ecdf(perm_sample_2)\n",
    "\n",
    "#     # Plot ECDFs of permutation sample\n",
    "#     _ = plt.plot(x_1, y_1, marker='.', linestyle='none',\n",
    "#                  color='red', alpha=0.02)\n",
    "#     _ = plt.plot(x_2, y_2, marker='.', linestyle='none',\n",
    "#                  color='blue', alpha=0.02)\n",
    "\n",
    "# # Create and plot ECDFs from original data\n",
    "# x_1, y_1 = ecdf(rain_june)\n",
    "# x_2, y_2 = ecdf(rain_november)\n",
    "# _ = plt.plot(x_1, y_1, marker='.', linestyle='none', color='red')\n",
    "# _ = plt.plot(x_2, y_2, marker='.', linestyle='none', color='blue')\n",
    "\n",
    "# # Label axes, set margin, and show plot\n",
    "# plt.margins(0.02)\n",
    "# _ = plt.xlabel('monthly rainfall (mm)')\n",
    "# _ = plt.ylabel('ECDF')\n",
    "# plt.show()"
   ]
  },
  {
   "cell_type": "markdown",
   "metadata": {},
   "source": [
    "When performing hypothesis tests, your choice of test statistic should be:\n",
    "- be pertinent to the question you are seeking to answer in your hypothesis test."
   ]
  },
  {
   "cell_type": "markdown",
   "metadata": {},
   "source": [
    "The p-value is generally a measure of:\n",
    "- the probability of observing a test statistic equally or more extreme than the one you observed, given that the null hypothesis is true."
   ]
  },
  {
   "cell_type": "markdown",
   "metadata": {},
   "source": [
    "- Define a function with this signature: draw_perm_reps(data_1, data_2, func, size=1).\n",
    "- Initialize an array to hold the permutation replicates using np.empty().\n",
    "- Write a for loop to:\n",
    "- Compute a permutation sample using your permutation_sample() function\n",
    "- Pass the samples into func() to compute the replicate and store the result in your array of replicates.\n",
    "- Return the array of replicates."
   ]
  },
  {
   "cell_type": "code",
   "execution_count": 6,
   "metadata": {},
   "outputs": [],
   "source": [
    "def draw_perm_reps(data_1, data_2, func, size=1):\n",
    "    \"\"\"Generate multiple permutation replicates.\"\"\"\n",
    "\n",
    "    # Initialize array of replicates: perm_replicates\n",
    "    perm_replicates = np.empty(size)\n",
    "\n",
    "    for i in range(size):\n",
    "        # Generate permutation sample\n",
    "        perm_sample_1, perm_sample_2 = permutation_sample(data_1, data_2)\n",
    "\n",
    "        # Compute the test statistic\n",
    "        perm_replicates[i] = func(perm_sample_1, perm_sample_2)\n",
    "\n",
    "    return perm_replicates"
   ]
  },
  {
   "cell_type": "markdown",
   "metadata": {},
   "source": [
    "- Use sns.swarmplot() to make a bee swarm plot of the data by specifying the x, y, and data keyword arguments.\n",
    "- Label your axes.\n",
    "- Show the plot."
   ]
  },
  {
   "cell_type": "code",
   "execution_count": 7,
   "metadata": {},
   "outputs": [],
   "source": [
    "# # Make bee swarm plot\n",
    "# _ = sns.swarmplot(x =\"ID\" , y = \"impact_force\", data = df)\n",
    "\n",
    "# # Label axes\n",
    "# _ = plt.xlabel('frog')\n",
    "# _ = plt.ylabel('impact force (N)')\n",
    "\n",
    "# # Show the plot\n",
    "# plt.show()\n"
   ]
  },
  {
   "cell_type": "markdown",
   "metadata": {},
   "source": [
    "- Define a function with call signature diff_of_means(data_1, data_2) that returns the differences in means between two data sets, mean of data_1 minus mean of data_2.\n",
    "- Use this function to compute the empirical difference of means that was observed in the frogs.\n",
    "- Draw 10,000 permutation replicates of the difference of means.\n",
    "- Compute the p-value.\n",
    "- Print the p-value."
   ]
  },
  {
   "cell_type": "code",
   "execution_count": 8,
   "metadata": {},
   "outputs": [],
   "source": [
    "# def diff_of_means(data_1, data_2):\n",
    "#     \"\"\"Difference in means of two arrays.\"\"\"\n",
    "\n",
    "#     # The difference of means of data_1, data_2: diff\n",
    "#     diff = np.mean(data_1) - np.mean(data_2)\n",
    "\n",
    "#     return diff\n",
    "\n",
    "# # Compute difference of mean impact force from experiment: empirical_diff_means\n",
    "# empirical_diff_means = diff_of_means(force_a, force_b)\n",
    "\n",
    "# # Draw 10,000 permutation replicates: perm_replicates\n",
    "# perm_replicates = draw_perm_reps(force_a, force_b,\n",
    "#                                  diff_of_means, size=10000)\n",
    "\n",
    "# # Compute p-value: p\n",
    "# p = np.sum(perm_replicates >= empirical_diff_means) / len(perm_replicates)\n",
    "\n",
    "# # Print the result\n",
    "# print('p-value =', p)"
   ]
  },
  {
   "cell_type": "markdown",
   "metadata": {},
   "source": [
    "- Translate the impact forces of Frog B such that its mean is 0.55 N.\n",
    "- Use your draw_bs_reps() function to take 10,000 bootstrap replicates of the mean of your translated forces.\n",
    "- Compute the p-value by finding the fraction of your bootstrap replicates that are less than the observed mean impact force of Frog B. Note that the variable of interest here is force_b.\n",
    "- Print your p-value."
   ]
  },
  {
   "cell_type": "code",
   "execution_count": 9,
   "metadata": {},
   "outputs": [],
   "source": [
    "# # Make an array of translated impact forces: translated_force_b\n",
    "# translated_force_b = force_b - np.mean(force_b) + 0.55\n",
    "\n",
    "# # Take bootstrap replicates of Frog B's translated impact forces: bs_replicates\n",
    "# bs_replicates = draw_bs_reps(translated_force_b,np.mean, 10000)\n",
    "\n",
    "# # Compute fraction of replicates that are less than the observed Frog B force: p\n",
    "# p = np.sum(bs_replicates <= np.mean(force_b)) / 10000\n",
    "\n",
    "# # Print the p-value\n",
    "# print('p = ', p)\n"
   ]
  },
  {
   "cell_type": "markdown",
   "metadata": {},
   "source": [
    "- Compute the mean of all forces (from forces_concat) using np.mean().\n",
    "- Generate shifted data sets for both force_a and force_b such that the mean of each is the mean of the concatenated array of impact forces.\n",
    "- Generate 10,000 bootstrap replicates of the mean each for the two shifted arrays.\n",
    "- Compute the bootstrap replicates of the difference of means by subtracting the replicates of the shifted impact force of Frog B from those of Frog A.\n",
    "- Compute and print the p-value from your bootstrap replicates."
   ]
  },
  {
   "cell_type": "code",
   "execution_count": 10,
   "metadata": {},
   "outputs": [],
   "source": [
    "# # Compute mean of all forces: mean_force\n",
    "# mean_force = np.mean(forces_concat)\n",
    "\n",
    "# # Generate shifted arrays\n",
    "# force_a_shifted = force_a - np.mean(force_a) + mean_force\n",
    "# force_b_shifted = force_b - np.mean(force_b) + mean_force \n",
    "\n",
    "# # Compute 10,000 bootstrap replicates from shifted arrays\n",
    "# bs_replicates_a = draw_bs_reps(force_a_shifted, np.mean, 10000)\n",
    "# bs_replicates_b = draw_bs_reps(force_b_shifted, np.mean, 10000)\n",
    "\n",
    "# # Get replicates of difference of means: bs_replicates\n",
    "# bs_replicates = bs_replicates_a - bs_replicates_b\n",
    "\n",
    "# # Compute and print p-value: p\n",
    "# p = np.sum(bs_replicates >= np.mean(force_a - force_b)) / 10000\n",
    "# print('p-value =', p)\n"
   ]
  }
 ],
 "metadata": {
  "interpreter": {
   "hash": "3fef59229a6e1ff5434759995be53a28a25493efd6d26eb6c004eefe62e31083"
  },
  "kernelspec": {
   "display_name": "Python 3.8.11 ('env_py')",
   "language": "python",
   "name": "python3"
  },
  "language_info": {
   "codemirror_mode": {
    "name": "ipython",
    "version": 3
   },
   "file_extension": ".py",
   "mimetype": "text/x-python",
   "name": "python",
   "nbconvert_exporter": "python",
   "pygments_lexer": "ipython3",
   "version": "3.8.11"
  },
  "orig_nbformat": 4
 },
 "nbformat": 4,
 "nbformat_minor": 2
}
