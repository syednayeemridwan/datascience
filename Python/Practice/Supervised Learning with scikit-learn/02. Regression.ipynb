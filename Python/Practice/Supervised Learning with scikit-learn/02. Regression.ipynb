{
 "cells": [
  {
   "cell_type": "markdown",
   "metadata": {},
   "source": [
    "the one that is best framed as a regression problem:\n",
    "- A bike share company using time and weather data to predict the number of bikes being rented at any given hour."
   ]
  },
  {
   "cell_type": "markdown",
   "metadata": {},
   "source": [
    "- Import numpy and pandas as their standard aliases.\n",
    "- Read the file 'gapminder.csv' into a DataFrame df using the read_csv() function.\n",
    "- Create array X for the 'fertility' feature and array y for the 'life' target variable.\n",
    "- Reshape the arrays by using the .reshape() method and passing in -1 and 1."
   ]
  },
  {
   "cell_type": "code",
   "execution_count": 2,
   "metadata": {},
   "outputs": [],
   "source": [
    "# # Import numpy and pandas\n",
    "# import numpy as np\n",
    "# import pandas as pd\n",
    "\n",
    "# # Read the CSV file into a DataFrame: df\n",
    "# df = pd.read_csv('gapminder.csv')\n",
    "\n",
    "# # Create arrays for features and target variable\n",
    "# y = df['life']\n",
    "# X = df['fertility']\n",
    "\n",
    "# # Print the dimensions of y and X before reshaping\n",
    "# print(\"Dimensions of y before reshaping: \", y.shape)\n",
    "# print(\"Dimensions of X before reshaping: \", X.shape)\n",
    "\n",
    "# # Reshape X and y\n",
    "# y_reshaped = y.reshape(-1,1)\n",
    "# X_reshaped = X.reshape(-1,1)\n",
    "\n",
    "# # Print the dimensions of y_reshaped and X_reshaped\n",
    "# print(\"Dimensions of y after reshaping: \", y_reshaped.shape)\n",
    "# print(\"Dimensions of X after reshaping: \", X_reshaped.shape)"
   ]
  },
  {
   "cell_type": "markdown",
   "metadata": {},
   "source": [
    "- Import LinearRegression from sklearn.linear_model.\n",
    "- Create a LinearRegression regressor called reg.\n",
    "- Set up the prediction space to range from the minimum to the maximum of X_fertility. This has been done for you.\n",
    "- Fit the regressor to the data (X_fertility and y) and compute its predictions using the .predict() method and the prediction_space array.\n",
    "- Compute and print the  score using the .score() method.\n",
    "- Overlay the plot with your linear regression line. This has been done for you, so hit submit to see the result!"
   ]
  },
  {
   "cell_type": "code",
   "execution_count": 3,
   "metadata": {},
   "outputs": [],
   "source": [
    "# # Import LinearRegression\n",
    "# from sklearn.linear_model import LinearRegression\n",
    "\n",
    "# # Create the regressor: reg\n",
    "# reg = LinearRegression()\n",
    "\n",
    "# # Create the prediction space\n",
    "# prediction_space = np.linspace(min(X_fertility), max(X_fertility)).reshape(-1,1)\n",
    "\n",
    "# # Fit the model to the data\n",
    "# reg.fit(X_fertility, y)\n",
    "\n",
    "# # Compute predictions over the prediction space: y_pred\n",
    "# y_pred = reg.predict(prediction_space)\n",
    "\n",
    "# # Print R^2 \n",
    "# print(reg.score(X_fertility, y))\n",
    "\n",
    "# # Plot regression line\n",
    "# plt.plot(prediction_space, y_pred, color='black', linewidth=3)\n",
    "# plt.show()\n"
   ]
  },
  {
   "cell_type": "markdown",
   "metadata": {},
   "source": [
    "- Import LinearRegression from sklearn.linear_model, mean_squared_error from sklearn.metrics, and train_test_split from sklearn.model_selection.\n",
    "- Using X and y, create training and test sets such that 30% is used for testing and 70% for training. Use a random state of 42.\n",
    "- Create a linear regression regressor called reg_all, fit it to the training set, and evaluate it on the test set.\n",
    "- Compute and print the  score using the .score() method on the test set.\n",
    "- Compute and print the RMSE. To do this, first compute the Mean Squared Error using the mean_squared_error() function with the arguments y_test and y_pred, and then take its square root using np.sqrt()."
   ]
  },
  {
   "cell_type": "code",
   "execution_count": 4,
   "metadata": {},
   "outputs": [],
   "source": [
    "# # Import necessary modules\n",
    "# from sklearn.linear_model import LinearRegression\n",
    "# from sklearn.metrics import mean_squared_error\n",
    "# from sklearn.model_selection import train_test_split\n",
    "\n",
    "# # Create training and test sets\n",
    "# X_train, X_test, y_train, y_test = train_test_split(X, y, test_size = 0.3, random_state=42)\n",
    "\n",
    "# # Create the regressor: reg_all\n",
    "# reg_all = LinearRegression()\n",
    "\n",
    "# # Fit the regressor to the training data\n",
    "# reg_all.fit(X_train, y_train)\n",
    "\n",
    "# # Predict on the test data: y_pred\n",
    "# y_pred = reg_all.predict(X_test)\n",
    "\n",
    "# # Compute and print R^2 and RMSE\n",
    "# print(\"R^2: {}\".format(reg_all.score(X_test, y_test)))\n",
    "# rmse = np.sqrt(mean_squared_error(y_pred, y_test))\n",
    "# print(\"Root Mean Squared Error: {}\".format(rmse))\n"
   ]
  },
  {
   "cell_type": "markdown",
   "metadata": {},
   "source": [
    "- Import LinearRegression from sklearn.linear_model and cross_val_score from sklearn.model_selection.\n",
    "- Create a linear regression regressor called reg.\n",
    "- Use the cross_val_score() function to perform 5-fold cross-validation on X and y.\n",
    "- Compute and print the average cross-validation score. You can use NumPy's mean() function to compute the average."
   ]
  },
  {
   "cell_type": "code",
   "execution_count": 5,
   "metadata": {},
   "outputs": [],
   "source": [
    "# # Import the necessary modules\n",
    "# from sklearn.linear_model import LinearRegression\n",
    "# from sklearn.model_selection import cross_val_score\n",
    "\n",
    "# # Create a linear regression object: reg\n",
    "# reg = LinearRegression()\n",
    "\n",
    "# # Compute 5-fold cross-validation scores: cv_scores\n",
    "# cv_scores = cross_val_score(reg, X, y, cv=5)\n",
    "\n",
    "# # Print the 5-fold cross-validation scores\n",
    "# print(cv_scores)\n",
    "\n",
    "# print(\"Average 5-Fold CV Score: {}\".format(np.mean(cv_scores)))\n"
   ]
  },
  {
   "cell_type": "markdown",
   "metadata": {},
   "source": [
    "- Import LinearRegression from sklearn.linear_model and cross_val_score from sklearn.model_selection.\n",
    "- Create a linear regression regressor called reg.\n",
    "- Perform 3-fold CV and then 10-fold CV. Compare the resulting mean scores."
   ]
  },
  {
   "cell_type": "code",
   "execution_count": 6,
   "metadata": {},
   "outputs": [],
   "source": [
    "# # Import necessary modules\n",
    "# from sklearn.linear_model import LinearRegression\n",
    "# from sklearn.model_selection import cross_val_score\n",
    "\n",
    "# # Create a linear regression object: reg\n",
    "# reg = LinearRegression()\n",
    "\n",
    "# # Perform 3-fold CV\n",
    "# cvscores_3 = cross_val_score(reg, X, y, cv=3)\n",
    "# print(np.mean(cvscores_3))\n",
    "\n",
    "# # Perform 10-fold CV\n",
    "# cvscores_10 = cross_val_score(reg, X, y, cv=10)\n",
    "# print(np.mean(cvscores_10))\n"
   ]
  },
  {
   "cell_type": "markdown",
   "metadata": {},
   "source": [
    "- Import Lasso from sklearn.linear_model.\n",
    "- Instantiate a Lasso regressor with an alpha of 0.4 and specify normalize=True.\n",
    "- Fit the regressor to the data and compute the coefficients using the coef_ attribute.\n",
    "- Plot the coefficients on the y-axis and column names on the x-axis. This has been done for you, so hit submit to view the plot!"
   ]
  },
  {
   "cell_type": "code",
   "execution_count": 7,
   "metadata": {},
   "outputs": [],
   "source": [
    "# # Import Lasso\n",
    "# from sklearn.linear_model import Lasso\n",
    "\n",
    "# # Instantiate a lasso regressor: lasso\n",
    "# lasso = Lasso(alpha = 0.4 , normalize=True)\n",
    "\n",
    "# # Fit the regressor to the data\n",
    "# lasso.fit(X, y)\n",
    "\n",
    "# # Compute and print the coefficients\n",
    "# lasso_coef = lasso.coef_\n",
    "# print(lasso_coef)\n",
    "\n",
    "# # Plot the coefficients\n",
    "# plt.plot(range(len(df_columns)), lasso_coef)\n",
    "# plt.xticks(range(len(df_columns)), df_columns.values, rotation=60)\n",
    "# plt.margins(0.02)\n",
    "# plt.show()\n"
   ]
  },
  {
   "cell_type": "markdown",
   "metadata": {},
   "source": [
    "- Instantiate a Ridge regressor and specify normalize=True.\n",
    "- Inside the for loop:\n",
    "- Specify the alpha value for the regressor to use.\n",
    "- Perform 10-fold cross-validation on the regressor with the specified alpha. The data is available in the arrays X and y.\n",
    "- Append the average and the standard deviation of the computed cross-validated scores. NumPy has been pre-imported for you as np.\n",
    "- Use the display_plot() function to visualize the scores and standard deviations."
   ]
  },
  {
   "cell_type": "code",
   "execution_count": 8,
   "metadata": {},
   "outputs": [],
   "source": [
    "def display_plot(cv_scores, cv_scores_std):\n",
    "    fig = plt.figure()\n",
    "    ax = fig.add_subplot(1,1,1)\n",
    "    ax.plot(alpha_space, cv_scores)\n",
    "\n",
    "    std_error = cv_scores_std / np.sqrt(10)\n",
    "\n",
    "    ax.fill_between(alpha_space, cv_scores + std_error, cv_scores - std_error, alpha=0.2)\n",
    "    ax.set_ylabel('CV Score +/- Std Error')\n",
    "    ax.set_xlabel('Alpha')\n",
    "    ax.axhline(np.max(cv_scores), linestyle='--', color='.5')\n",
    "    ax.set_xlim([alpha_space[0], alpha_space[-1]])\n",
    "    ax.set_xscale('log')\n",
    "    plt.show()"
   ]
  },
  {
   "cell_type": "code",
   "execution_count": 9,
   "metadata": {},
   "outputs": [],
   "source": [
    "# # Import necessary modules\n",
    "# from sklearn.linear_model import Ridge\n",
    "# from sklearn.model_selection import cross_val_score\n",
    "\n",
    "# # Setup the array of alphas and lists to store scores\n",
    "# alpha_space = np.logspace(-4, 0, 50)\n",
    "# ridge_scores = []\n",
    "# ridge_scores_std = []\n",
    "\n",
    "# # Create a ridge regressor: ridge\n",
    "# ridge = Ridge(normalize=True)\n",
    "\n",
    "# # Compute scores over range of alphas\n",
    "# for alpha in alpha_space:\n",
    "\n",
    "#     # Specify the alpha value to use: ridge.alpha\n",
    "#     ridge.alpha = alpha\n",
    "    \n",
    "#     # Perform 10-fold CV: ridge_cv_scores\n",
    "#     ridge_cv_scores = cross_val_score(ridge, X, y, cv=10)\n",
    "    \n",
    "#     # Append the mean of ridge_cv_scores to ridge_scores\n",
    "#     ridge_scores.append(np.mean(ridge_cv_scores))\n",
    "    \n",
    "#     # Append the std of ridge_cv_scores to ridge_scores_std\n",
    "#     ridge_scores_std.append(np.std(ridge_cv_scores))\n",
    "\n",
    "# # Display the plot\n",
    "# display_plot(ridge_scores, ridge_scores_std)\n"
   ]
  }
 ],
 "metadata": {
  "interpreter": {
   "hash": "3fef59229a6e1ff5434759995be53a28a25493efd6d26eb6c004eefe62e31083"
  },
  "kernelspec": {
   "display_name": "Python 3.8.11 ('env_py')",
   "language": "python",
   "name": "python3"
  },
  "language_info": {
   "codemirror_mode": {
    "name": "ipython",
    "version": 3
   },
   "file_extension": ".py",
   "mimetype": "text/x-python",
   "name": "python",
   "nbconvert_exporter": "python",
   "pygments_lexer": "ipython3",
   "version": "3.8.11"
  },
  "orig_nbformat": 4
 },
 "nbformat": 4,
 "nbformat_minor": 2
}
