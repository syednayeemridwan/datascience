{
 "cells": [
  {
   "cell_type": "markdown",
   "metadata": {},
   "source": [
    "- Import classification_report and confusion_matrix from sklearn.metrics.\n",
    "- Create training and testing sets with 40% of the data used for testing. Use a random state of 42.\n",
    "- Instantiate a k-NN classifier with 6 neighbors, fit it to the training data, and predict the labels of the test set.\n",
    "- Compute and print the confusion matrix and classification report using the confusion_matrix() and classification_report() functions."
   ]
  },
  {
   "cell_type": "code",
   "execution_count": 1,
   "metadata": {},
   "outputs": [],
   "source": [
    "# # Import necessary modules\n",
    "# from sklearn.metrics import confusion_matrix\n",
    "# from sklearn.metrics import classification_report\n",
    "\n",
    "# # Create training and test set\n",
    "# X_train, X_test, y_train, y_test = train_test_split(X, y, test_size = 0.4, random_state = 42)\n",
    "\n",
    "# # Instantiate a k-NN classifier: knn\n",
    "# knn = KNeighborsClassifier(6)\n",
    "\n",
    "# # Fit the classifier to the training data\n",
    "# knn.fit(X_train, y_train)\n",
    "\n",
    "# # Predict the labels of the test data: y_pred\n",
    "# y_pred = knn.predict(X_test)\n",
    "\n",
    "# # Generate the confusion matrix and classification report\n",
    "# print(confusion_matrix(y_test, y_pred))\n",
    "# print(classification_report(y_test, y_pred))\n"
   ]
  },
  {
   "cell_type": "markdown",
   "metadata": {},
   "source": [
    "- Import:\n",
    "- LogisticRegression from sklearn.linear_model.\n",
    "- confusion_matrix and classification_report from sklearn.metrics.\n",
    "- Create training and test sets with 40% (or 0.4) of the data used for testing. Use a random state of 42. This has been done for you.\n",
    "- Instantiate a LogisticRegression classifier called logreg.\n",
    "- Fit the classifier to the training data and predict the labels of the test set.\n",
    "- Compute and print the confusion matrix and classification report. This has been done for you, so hit submit to see how logistic regression compares to k-NN!"
   ]
  },
  {
   "cell_type": "code",
   "execution_count": 2,
   "metadata": {},
   "outputs": [],
   "source": [
    "# # Import the necessary modules\n",
    "# from sklearn.linear_model import LogisticRegression\n",
    "# from sklearn.metrics import confusion_matrix , classification_report\n",
    "\n",
    "# # Create training and test sets\n",
    "# X_train, X_test, y_train, y_test = train_test_split(X, y, test_size = 0.4, random_state=42)\n",
    "\n",
    "# # Create the classifier: logreg\n",
    "# logreg = LogisticRegression()\n",
    "\n",
    "# # Fit the classifier to the training data\n",
    "# logreg.fit(X_train, y_train)\n",
    "\n",
    "# # Predict the labels of the test set: y_pred\n",
    "# y_pred = logreg.predict(X_test)\n",
    "\n",
    "# # Compute and print the confusion matrix and classification report\n",
    "# print(confusion_matrix(y_test, y_pred))\n",
    "# print(classification_report(y_test, y_pred))\n"
   ]
  },
  {
   "cell_type": "markdown",
   "metadata": {},
   "source": [
    "- Import roc_curve from sklearn.metrics.\n",
    "- Using the logreg classifier, which has been fit to the training data, compute the predicted probabilities of the labels of the test set X_test. Save the result as y_pred_prob.\n",
    "- Use the roc_curve() function with y_test and y_pred_prob and unpack the result into the variables fpr, tpr, and thresholds.\n",
    "- Plot the ROC curve with fpr on the x-axis and tpr on the y-axis."
   ]
  },
  {
   "cell_type": "code",
   "execution_count": 3,
   "metadata": {},
   "outputs": [],
   "source": [
    "# # Import necessary modules\n",
    "# from sklearn.metrics import roc_curve\n",
    "\n",
    "# # Compute predicted probabilities: y_pred_prob\n",
    "# y_pred_prob = logreg.predict_proba(X_test)[:,1]\n",
    "\n",
    "# # Generate ROC curve values: fpr, tpr, thresholds\n",
    "# fpr, tpr, thresholds = roc_curve(y_test, y_pred_prob)\n",
    "\n",
    "# # Plot ROC curve\n",
    "# plt.plot([0, 1], [0, 1], 'k--')\n",
    "# plt.plot(fpr, tpr)\n",
    "# plt.xlabel('False Positive Rate')\n",
    "# plt.ylabel('True Positive Rate')\n",
    "# plt.title('ROC Curve')\n",
    "# plt.show()"
   ]
  },
  {
   "cell_type": "markdown",
   "metadata": {},
   "source": [
    "- A recall of 1 corresponds to a classifier with a low threshold in which all females who contract diabetes were correctly classified as such, at the expense of many misclassifications of those who did not have diabetes.\n",
    "- Precision is undefined for a classifier which makes no positive predictions, that is, classifies everyone as not having diabetes.\n",
    "- When the threshold is very close to 1, precision is also 1, because the classifier is absolutely certain about its predictions.\n",
    "- Precision and recall does not take true negatives into consideration. True negatives do not appear at all in the definitions of precision and recall."
   ]
  },
  {
   "cell_type": "markdown",
   "metadata": {},
   "source": [
    "- Import roc_auc_score from sklearn.metrics and cross_val_score from sklearn.model_selection.\n",
    "- Using the logreg classifier, which has been fit to the training data, compute the predicted probabilities of the labels of the test set X_test. Save the result as y_pred_prob.\n",
    "- Compute the AUC score using the roc_auc_score() function, the test set labels y_test, and the predicted probabilities y_pred_prob.\n",
    "- Compute the AUC scores by performing 5-fold cross-validation. Use the cross_val_score() function and specify the scoring parameter to be 'roc_auc'."
   ]
  },
  {
   "cell_type": "code",
   "execution_count": 1,
   "metadata": {},
   "outputs": [],
   "source": [
    "# # Import necessary modules\n",
    "# from sklearn.metrics import roc_auc_score\n",
    "# from sklearn.model_selection import cross_val_score\n",
    "\n",
    "# # Compute predicted probabilities: y_pred_prob\n",
    "# y_pred_prob = logreg.predict_proba(X_test)[:,1]\n",
    "\n",
    "# # Compute and print AUC score\n",
    "# print(\"AUC: {}\".format(roc_auc_score(y_test, y_pred_prob)))\n",
    "\n",
    "# # Compute cross-validated AUC scores: cv_auc\n",
    "# cv_auc = cross_val_score(logreg, X, y,cv = 5, scoring = 'roc_auc')\n",
    "\n",
    "# # Print list of AUC scores\n",
    "# print(\"AUC scores computed using 5-fold cross-validation: {}\".format(cv_auc))\n"
   ]
  },
  {
   "cell_type": "markdown",
   "metadata": {},
   "source": [
    "- Import LogisticRegression from sklearn.linear_model and GridSearchCV from sklearn.model_selection.\n",
    "- Setup the hyperparameter grid by using c_space as the grid of values to tune  over.\n",
    "- Instantiate a logistic regression classifier called logreg.\n",
    "- Use GridSearchCV with 5-fold cross-validation to tune :\n",
    "- Inside GridSearchCV(), specify the classifier, parameter grid, and number of folds to use.\n",
    "- Use the .fit() method on the GridSearchCV object to fit it to the data X and y.\n",
    "- Print the best parameter and best score obtained from GridSearchCV by accessing the best_params_ and best_score_ attributes of logreg_cv."
   ]
  },
  {
   "cell_type": "code",
   "execution_count": 2,
   "metadata": {},
   "outputs": [],
   "source": [
    "# # Import necessary modules\n",
    "# from sklearn.linear_model import LogisticRegression\n",
    "# from sklearn.model_selection import GridSearchCV\n",
    "\n",
    "# # Setup the hyperparameter grid\n",
    "# c_space = np.logspace(-5, 8, 15)\n",
    "# param_grid = {'C': c_space}\n",
    "\n",
    "# # Instantiate a logistic regression classifier: logreg\n",
    "# logreg = LogisticRegression()\n",
    "\n",
    "# # Instantiate the GridSearchCV object: logreg_cv\n",
    "# logreg_cv = GridSearchCV(logreg, param_grid, cv=5)\n",
    "\n",
    "# # Fit it to the data\n",
    "# logreg_cv.fit(X, y)\n",
    "\n",
    "# # Print the tuned parameters and score\n",
    "# print(\"Tuned Logistic Regression Parameters: {}\".format(logreg_cv.best_params_)) \n",
    "# print(\"Best score is {}\".format(logreg_cv.best_score_))\n"
   ]
  },
  {
   "cell_type": "markdown",
   "metadata": {},
   "source": [
    "- Import DecisionTreeClassifier from sklearn.tree and RandomizedSearchCV from sklearn.model_selection.\n",
    "- Specify the parameters and distributions to sample from. This has been done for you.\n",
    "- Instantiate a DecisionTreeClassifier.\n",
    "- Use RandomizedSearchCV with 5-fold cross-validation to tune the hyperparameters:\n",
    "- Inside RandomizedSearchCV(), specify the classifier, parameter distribution, and number of folds to use.\n",
    "- Use the .fit() method on the RandomizedSearchCV object to fit it to the data X and y.\n",
    "- Print the best parameter and best score obtained from RandomizedSearchCV by accessing the best_params_ and best_score_ attributes of tree_cv."
   ]
  },
  {
   "cell_type": "code",
   "execution_count": 3,
   "metadata": {},
   "outputs": [],
   "source": [
    "# # Import necessary modules\n",
    "# from scipy.stats import randint\n",
    "# from sklearn.tree import DecisionTreeClassifier\n",
    "# from sklearn.model_selection import RandomizedSearchCV\n",
    "\n",
    "# # Setup the parameters and distributions to sample from: param_dist\n",
    "# param_dist = {\"max_depth\": [3, None],\n",
    "#               \"max_features\": randint(1, 9),\n",
    "#               \"min_samples_leaf\": randint(1, 9),\n",
    "#               \"criterion\": [\"gini\", \"entropy\"]}\n",
    "\n",
    "# # Instantiate a Decision Tree classifier: tree\n",
    "# tree = DecisionTreeClassifier()\n",
    "\n",
    "# # Instantiate the RandomizedSearchCV object: tree_cv\n",
    "# tree_cv = RandomizedSearchCV(tree, param_dist, cv= 5)\n",
    "\n",
    "# # Fit it to the data\n",
    "# tree_cv.fit(X,y)\n",
    "\n",
    "# # Print the tuned parameters and score\n",
    "# print(\"Tuned Decision Tree Parameters: {}\".format(tree_cv.best_params_))\n",
    "# print(\"Best score is {}\".format(tree_cv.best_score_))\n"
   ]
  },
  {
   "cell_type": "markdown",
   "metadata": {},
   "source": [
    "For which of the following reasons would you want to use a hold-out set for the very end?\n",
    "- You want to be absolutely certain about your model's ability to generalize to unseen data."
   ]
  },
  {
   "cell_type": "markdown",
   "metadata": {},
   "source": [
    "- Create the hyperparameter grid:\n",
    "- Use the array c_space as the grid of values for 'C'.\n",
    "- For 'penalty', specify a list consisting of 'l1' and 'l2'.\n",
    "- Instantiate a logistic regression classifier.\n",
    "- Create training and test sets. Use a test_size of 0.4 and random_state of 42. In practice, the test set here will function as the hold-out set.\n",
    "- Tune the hyperparameters on the training set using GridSearchCV with 5-folds. This involves first instantiating the GridSearchCV object with the correct parameters and then fitting it to the training data.\n",
    "- Print the best parameter and best score obtained from GridSearchCV by accessing the best_params_ and best_score_ attributes of logreg_cv."
   ]
  },
  {
   "cell_type": "code",
   "execution_count": 1,
   "metadata": {},
   "outputs": [],
   "source": [
    "# # Import necessary modules\n",
    "# from sklearn.model_selection import train_test_split\n",
    "# from sklearn.linear_model import LogisticRegression\n",
    "# from sklearn.model_selection import GridSearchCV\n",
    "\n",
    "# # Create the hyperparameter grid\n",
    "# c_space = np.logspace(-5, 8, 15)\n",
    "# param_grid = {'C': c_space, 'penalty': ['l1', 'l2']}\n",
    "\n",
    "# # Instantiate the logistic regression classifier: logreg\n",
    "# logreg = LogisticRegression()\n",
    "\n",
    "# # Create train and test sets\n",
    "# X_train, X_test, y_train, y_test = train_test_split(X, y, test_size = 0.4 , random_state = 42)\n",
    "\n",
    "# # Instantiate the GridSearchCV object: logreg_cv\n",
    "# logreg_cv = GridSearchCV(logreg, param_grid, cv = 5)\n",
    "\n",
    "# # Fit it to the training data\n",
    "# logreg_cv.fit(X_train, y_train)\n",
    "\n",
    "# # Print the optimal parameters and best score\n",
    "# print(\"Tuned Logistic Regression Parameter: {}\".format(logreg_cv.best_params_))\n",
    "# print(\"Tuned Logistic Regression Accuracy: {}\".format(logreg_cv.best_score_))\n"
   ]
  },
  {
   "cell_type": "markdown",
   "metadata": {},
   "source": [
    "- Import the following modules:\n",
    "- ElasticNet from sklearn.linear_model.\n",
    "- mean_squared_error from sklearn.metrics.\n",
    "- GridSearchCV and train_test_split from sklearn.model_selection.\n",
    "- Create training and test sets, with 40% of the data used for the test set. Use a random state of 42.\n",
    "- Specify the hyperparameter grid for 'l1_ratio' using l1_space as the grid of values to search over.\n",
    "- Instantiate the ElasticNet regressor.\n",
    "- Use GridSearchCV with 5-fold cross-validation to tune 'l1_ratio' on the training data X_train and y_train. This involves first instantiating the GridSearchCV object with the correct parameters and then fitting it to the training data.\n",
    "- Predict on the test set and compute the  and mean squared error."
   ]
  },
  {
   "cell_type": "code",
   "execution_count": 2,
   "metadata": {},
   "outputs": [],
   "source": [
    "# # Import necessary modules\n",
    "# from sklearn.linear_model import ElasticNet\n",
    "# from sklearn.metrics import mean_squared_error\n",
    "# from sklearn.model_selection import GridSearchCV, train_test_split\n",
    "\n",
    "# # Create train and test sets\n",
    "# X_train, X_test, y_train, y_test = train_test_split(X, y, test_size = 0.4, random_state = 42)\n",
    "\n",
    "# # Create the hyperparameter grid\n",
    "# l1_space = np.linspace(0, 1, 30)\n",
    "# param_grid = {'l1_ratio': l1_space}\n",
    "\n",
    "# # Instantiate the ElasticNet regressor: elastic_net\n",
    "# elastic_net = ElasticNet()\n",
    "\n",
    "# # Setup the GridSearchCV object: gm_cv\n",
    "# gm_cv = GridSearchCV(elastic_net, param_grid, cv=5)\n",
    "\n",
    "# # Fit it to the training data\n",
    "# gm_cv.fit(X_train, y_train)\n",
    "\n",
    "# # Predict on the test set and compute metrics\n",
    "# y_pred = gm_cv.predict(X_test)\n",
    "# r2 = gm_cv.score(X_test, y_test)\n",
    "# mse = mean_squared_error(y_test, y_pred)\n",
    "# print(\"Tuned ElasticNet l1 ratio: {}\".format(gm_cv.best_params_))\n",
    "# print(\"Tuned ElasticNet R squared: {}\".format(r2))\n",
    "# print(\"Tuned ElasticNet MSE: {}\".format(mse))\n"
   ]
  }
 ],
 "metadata": {
  "interpreter": {
   "hash": "3fef59229a6e1ff5434759995be53a28a25493efd6d26eb6c004eefe62e31083"
  },
  "kernelspec": {
   "display_name": "Python 3.8.11 ('env_py')",
   "language": "python",
   "name": "python3"
  },
  "language_info": {
   "codemirror_mode": {
    "name": "ipython",
    "version": 3
   },
   "file_extension": ".py",
   "mimetype": "text/x-python",
   "name": "python",
   "nbconvert_exporter": "python",
   "pygments_lexer": "ipython3",
   "version": "3.8.11"
  },
  "orig_nbformat": 4
 },
 "nbformat": 4,
 "nbformat_minor": 2
}
