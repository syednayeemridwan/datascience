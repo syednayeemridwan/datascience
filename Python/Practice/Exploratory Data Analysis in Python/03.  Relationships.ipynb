{
 "cells": [
  {
   "cell_type": "code",
   "execution_count": 2,
   "metadata": {},
   "outputs": [],
   "source": [
    "# import pandas as pd\n",
    "# import tables\n",
    "# brfss = pd.read_hdf(\"brfss.hdf5\",\"brfss\")"
   ]
  },
  {
   "cell_type": "markdown",
   "metadata": {},
   "source": [
    "- Extract the variable 'AGE' from the DataFrame brfss and assign it to age.\n",
    "- Get the PMF of age and plot it as a bar chart."
   ]
  },
  {
   "cell_type": "code",
   "execution_count": 4,
   "metadata": {},
   "outputs": [],
   "source": [
    "# # Extract age\n",
    "# age = brfss['AGE']\n",
    "\n",
    "# # Plot the PMF\n",
    "# pmf_age = Pmf(age)\n",
    "# pmf_age.bar()\n",
    "\n",
    "# # Label the axes\n",
    "# plt.xlabel('Age in years')\n",
    "# plt.ylabel('PMF')\n",
    "# plt.show()"
   ]
  },
  {
   "cell_type": "markdown",
   "metadata": {},
   "source": [
    "- Make a scatter plot of weight and age with format string 'o' and alpha=0.1."
   ]
  },
  {
   "cell_type": "code",
   "execution_count": 6,
   "metadata": {},
   "outputs": [],
   "source": [
    "# # Select the first 1000 respondents\n",
    "# brfss = brfss[:1000]\n",
    "\n",
    "# # Extract age and weight\n",
    "# age = brfss['AGE']\n",
    "# weight = brfss['WTKG3']\n",
    "\n",
    "# # Make a scatter plot\n",
    "# plt.plot(age, weight, 'o', alpha=0.1)\n",
    "\n",
    "# plt.xlabel('Age in years')\n",
    "# plt.ylabel('Weight in kg')\n",
    "\n",
    "# plt.show()"
   ]
  },
  {
   "cell_type": "markdown",
   "metadata": {},
   "source": [
    "- Add random noise to age with mean 0 and standard deviation 2.5.\n",
    "- Make a scatter plot between weight and age with marker size 5 and alpha=0.2. Be sure to also specify 'o'."
   ]
  },
  {
   "cell_type": "code",
   "execution_count": 7,
   "metadata": {},
   "outputs": [],
   "source": [
    "# # Select the first 1000 respondents\n",
    "# brfss = brfss[:1000]\n",
    "\n",
    "# # Add jittering to age\n",
    "# age = brfss['AGE'] + np.random.normal(0,2.5,len(brfss['AGE']))\n",
    "# # Extract weight\n",
    "# weight = brfss['WTKG3']\n",
    "\n",
    "# # Make a scatter plot\n",
    "# plt.plot(age, weight, 'o', markersize = 5, alpha=0.2 )\n",
    "\n",
    "# plt.xlabel('Age in years')\n",
    "# plt.ylabel('Weight in kg')\n",
    "# plt.show()"
   ]
  },
  {
   "cell_type": "markdown",
   "metadata": {},
   "source": [
    "- Fill in the parameters of .boxplot() to plot the distribution of weight ('WTKG3') in each height ('_HTMG10') group. Specify whis=10, just as was done in the video.\n",
    "- Add a line to plot the y-axis on a logarithmic scale."
   ]
  },
  {
   "cell_type": "code",
   "execution_count": 8,
   "metadata": {},
   "outputs": [],
   "source": [
    "# # Drop rows with missing data\n",
    "# data = brfss.dropna(subset=['_HTMG10', 'WTKG3'])\n",
    "\n",
    "# # Make a box plot\n",
    "# sns.boxplot(x='_HTMG10', y='WTKG3', data=data, whis=10)\n",
    "\n",
    "# # Plot the y-axis on a log scale\n",
    "# plt.yscale('log')\n",
    "\n",
    "# # Remove unneeded lines and label axes\n",
    "# sns.despine(left=True, bottom=True)\n",
    "# plt.xlabel('Height in cm')\n",
    "# plt.ylabel('Weight in kg')\n",
    "# plt.show()\n"
   ]
  },
  {
   "cell_type": "markdown",
   "metadata": {},
   "source": [
    "- Extract 'INCOME2' from the brfss DataFrame and assign it to income.\n",
    "- Plot the PMF of income as a bar chart."
   ]
  },
  {
   "cell_type": "code",
   "execution_count": 9,
   "metadata": {},
   "outputs": [],
   "source": [
    "# # Extract income\n",
    "# income = brfss['INCOME2']\n",
    "\n",
    "# # Plot the PMF\n",
    "# Pmf(income).bar()\n",
    "\n",
    "# # Label the axes\n",
    "# plt.xlabel('Income level')\n",
    "# plt.ylabel('PMF')\n",
    "# plt.show()"
   ]
  },
  {
   "cell_type": "markdown",
   "metadata": {},
   "source": [
    "- Create a violin plot to plot the distribution of height ('HTM4') in each income ('INCOME2') group. Specify inner=None to simplify the plot."
   ]
  },
  {
   "cell_type": "code",
   "execution_count": 10,
   "metadata": {},
   "outputs": [],
   "source": [
    "# # Drop rows with missing data\n",
    "# data = brfss.dropna(subset=['INCOME2', 'HTM4'])\n",
    "\n",
    "# # Make a violin plot\n",
    "# sns.violinplot(data = data, y = 'HTM4',x = 'INCOME2',inner = None)\n",
    "\n",
    "# # Remove unneeded lines and label axes\n",
    "# sns.despine(left=True, bottom=True)\n",
    "# plt.xlabel('Income level')\n",
    "# plt.ylabel('Height in cm')\n",
    "# plt.show()\n"
   ]
  },
  {
   "cell_type": "markdown",
   "metadata": {},
   "source": [
    "- From the brfss DataFrame, select the columns 'AGE', 'INCOME2', and '_VEGESU1'.\n",
    "- Compute the correlation matrix for these variables."
   ]
  },
  {
   "cell_type": "code",
   "execution_count": 11,
   "metadata": {},
   "outputs": [],
   "source": [
    "# # Select columns\n",
    "# columns = ['AGE', 'INCOME2', '_VEGESU1']\n",
    "# subset = brfss[columns]\n",
    "\n",
    "# # Compute the correlation matrix\n",
    "# print(subset.corr())"
   ]
  },
  {
   "cell_type": "markdown",
   "metadata": {},
   "source": [
    "The correlation between 2 variables may be small, but it suggests that there is a relationship. But a correlation close to 0 does mean there is no relationship."
   ]
  },
  {
   "cell_type": "markdown",
   "metadata": {},
   "source": [
    "- Extract the columns 'INCOME2' and '_VEGESU1' from subset into xs and ys respectively.\n",
    "- Compute the simple linear regression of these variables."
   ]
  },
  {
   "cell_type": "code",
   "execution_count": 12,
   "metadata": {},
   "outputs": [],
   "source": [
    "# from scipy.stats import linregress\n",
    "\n",
    "# # Extract the variables\n",
    "# subset = brfss.dropna(subset=['INCOME2', '_VEGESU1'])\n",
    "# xs = subset['INCOME2']\n",
    "# ys = subset['_VEGESU1']\n",
    "\n",
    "# # Compute the linear regression\n",
    "# res = linregress(xs,ys)\n",
    "# print(res)"
   ]
  },
  {
   "cell_type": "markdown",
   "metadata": {},
   "source": [
    "- Set fx to the minimum and maximum of xs, stored in a NumPy array.\n",
    "- Set fy to the points on the fitted line that correspond to the fx."
   ]
  },
  {
   "cell_type": "code",
   "execution_count": 13,
   "metadata": {},
   "outputs": [],
   "source": [
    "# # Plot the scatter plot\n",
    "# plt.clf()\n",
    "# x_jitter = xs + np.random.normal(0, 0.15, len(xs))\n",
    "# plt.plot(x_jitter, ys, 'o', alpha=0.2)\n",
    "\n",
    "# # Plot the line of best fit\n",
    "# fx = np.array([np.min(xs), np.max(xs)])\n",
    "# fy = res.intercept + res.slope * fx\n",
    "# plt.plot(fx, fy, '-', alpha=0.7)\n",
    "\n",
    "# plt.xlabel('Income code')\n",
    "# plt.ylabel('Vegetable servings per day')\n",
    "# plt.ylim([0, 6])\n",
    "# plt.show()"
   ]
  }
 ],
 "metadata": {
  "interpreter": {
   "hash": "3fef59229a6e1ff5434759995be53a28a25493efd6d26eb6c004eefe62e31083"
  },
  "kernelspec": {
   "display_name": "Python 3.8.11 ('env_py')",
   "language": "python",
   "name": "python3"
  },
  "language_info": {
   "codemirror_mode": {
    "name": "ipython",
    "version": 3
   },
   "file_extension": ".py",
   "mimetype": "text/x-python",
   "name": "python",
   "nbconvert_exporter": "python",
   "pygments_lexer": "ipython3",
   "version": "3.8.11"
  },
  "orig_nbformat": 4
 },
 "nbformat": 4,
 "nbformat_minor": 2
}
