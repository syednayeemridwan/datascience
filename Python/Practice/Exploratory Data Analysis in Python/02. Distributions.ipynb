{
 "cells": [
  {
   "cell_type": "code",
   "execution_count": 3,
   "metadata": {},
   "outputs": [],
   "source": [
    "# def Pmf(series, normalize = True):    \n",
    "#     if normalize == False:\n",
    "#         return series.value_counts(normalize=False).sort_index()\n",
    "#     else:\n",
    "#         return series.value_counts(normalize=True).sort_index()\n",
    "        "
   ]
  },
  {
   "cell_type": "code",
   "execution_count": 1,
   "metadata": {},
   "outputs": [],
   "source": [
    "# import pandas as pd\n",
    "\n",
    "# gss = pd.read_hdf(\"gss.hdf5\",\"gss\")\n",
    "# # Compute the PMF for year\n",
    "# pmf_year = Pmf(gss['educ'], normalize=True)\n",
    "\n",
    "# # Print the result\n",
    "# print(pmf_year)\n",
    "# print(pmf_year[12])"
   ]
  },
  {
   "cell_type": "markdown",
   "metadata": {},
   "source": [
    "- Make a PMF for year with normalize=False and display the result."
   ]
  },
  {
   "cell_type": "code",
   "execution_count": 2,
   "metadata": {},
   "outputs": [],
   "source": [
    "# # Compute the PMF for year\n",
    "# pmf_year = Pmf(gss['year'], normalize=False)\n",
    "\n",
    "# # Print the result\n",
    "# print(pmf_year)"
   ]
  },
  {
   "cell_type": "code",
   "execution_count": 12,
   "metadata": {},
   "outputs": [],
   "source": [
    "# conda install pytables"
   ]
  },
  {
   "cell_type": "markdown",
   "metadata": {},
   "source": [
    "- Select the 'age' column from the gss DataFrame and store the result in age"
   ]
  },
  {
   "cell_type": "code",
   "execution_count": 3,
   "metadata": {},
   "outputs": [],
   "source": [
    "# # Select the age column\n",
    "# age = gss['age']"
   ]
  },
  {
   "cell_type": "markdown",
   "metadata": {},
   "source": [
    "- Make a normalized PMF of age. Store the result in pmf_age."
   ]
  },
  {
   "cell_type": "code",
   "execution_count": 4,
   "metadata": {},
   "outputs": [],
   "source": [
    "# # Select the age column\n",
    "# age = gss['age']\n",
    "\n",
    "# # Make a PMF of age\n",
    "# pmf_age = Pmf(age)"
   ]
  },
  {
   "cell_type": "markdown",
   "metadata": {},
   "source": [
    "- Plot pmf_age as a bar chart."
   ]
  },
  {
   "cell_type": "code",
   "execution_count": 14,
   "metadata": {},
   "outputs": [],
   "source": [
    "# from empiricaldist import Pmf\n",
    "# from empiricaldist import Cdf\n",
    "# # Select the age column\n",
    "# age = gss['age']\n",
    "\n",
    "# # Make a PMF of age\n",
    "# pmf_age = Pmf(age)\n",
    "\n",
    "# # Plot the PMF\n",
    "# pmf_age.bar()\n",
    "\n",
    "# # Label the axes\n",
    "# plt.xlabel('Age')\n",
    "# plt.ylabel('PMF')\n",
    "# plt.show()"
   ]
  },
  {
   "cell_type": "code",
   "execution_count": 13,
   "metadata": {},
   "outputs": [],
   "source": [
    "# pip install empiricaldist==0.6.3"
   ]
  },
  {
   "cell_type": "markdown",
   "metadata": {},
   "source": [
    "- Select the 'age' column. Store the result in age."
   ]
  },
  {
   "cell_type": "code",
   "execution_count": 6,
   "metadata": {},
   "outputs": [],
   "source": [
    "# # Select the age column\n",
    "# age = gss['age']"
   ]
  },
  {
   "cell_type": "markdown",
   "metadata": {},
   "source": [
    "- Compute the CDF of age. Store the result in cdf_age."
   ]
  },
  {
   "cell_type": "code",
   "execution_count": 7,
   "metadata": {},
   "outputs": [],
   "source": [
    "# from empiricaldist import Cdf\n",
    "# # Select the age column\n",
    "# age = gss['age']\n",
    "\n",
    "# # Compute the CDF of age\n",
    "# cdf_age = Cdf(age)"
   ]
  },
  {
   "cell_type": "markdown",
   "metadata": {},
   "source": [
    "- Calculate the CDF of 30."
   ]
  },
  {
   "cell_type": "code",
   "execution_count": 15,
   "metadata": {},
   "outputs": [],
   "source": [
    "# # Select the age column\n",
    "# age = gss['age']\n",
    "\n",
    "# # Compute the CDF of age\n",
    "# cdf_age = Cdf(age)\n",
    "\n",
    "# # Calculate the CDF of 30\n",
    "# print(cdf_age(30))"
   ]
  },
  {
   "cell_type": "markdown",
   "metadata": {},
   "source": [
    "What fraction of the respondents in the GSS dataset are OLDER than 30?\n",
    "- 1 - your_cdf_value"
   ]
  },
  {
   "cell_type": "markdown",
   "metadata": {},
   "source": [
    "- Calculate the 75th percentile of income and store it in percentile_75th."
   ]
  },
  {
   "cell_type": "code",
   "execution_count": 18,
   "metadata": {},
   "outputs": [],
   "source": [
    "# # Calculate the 75th percentile \n",
    "# percentile_75th = cdf_income.inverse(0.75)"
   ]
  },
  {
   "cell_type": "markdown",
   "metadata": {},
   "source": [
    "- Calculate the 25th percentile of income and store it in percentile_25th."
   ]
  },
  {
   "cell_type": "code",
   "execution_count": 20,
   "metadata": {},
   "outputs": [],
   "source": [
    "# # Calculate the 75th percentile \n",
    "# percentile_75th = cdf_income.inverse(0.75)\n",
    "\n",
    "# # Calculate the 25th percentile\n",
    "# percentile_25th = cdf_income.inverse(0.25)"
   ]
  },
  {
   "cell_type": "markdown",
   "metadata": {},
   "source": [
    "- Calculate the interquartile range of income. Store the result in iqr."
   ]
  },
  {
   "cell_type": "code",
   "execution_count": 21,
   "metadata": {},
   "outputs": [],
   "source": [
    "# # Calculate the 75th percentile \n",
    "# percentile_75th = cdf_income.inverse(0.75)\n",
    "\n",
    "# # Calculate the 25th percentile\n",
    "# percentile_25th = cdf_income.inverse(0.25)\n",
    "\n",
    "# # Calculate the interquartile range\n",
    "# iqr = percentile_75th - percentile_25th\n",
    "\n",
    "# # Print the interquartile range\n",
    "# print(iqr)"
   ]
  },
  {
   "cell_type": "markdown",
   "metadata": {},
   "source": [
    "- Select 'realinc' from the gss dataset.\n",
    "- Make a Cdf object called cdf_income.\n",
    "- Create a plot of cdf_income using .plot()"
   ]
  },
  {
   "cell_type": "code",
   "execution_count": 22,
   "metadata": {},
   "outputs": [],
   "source": [
    "# # Select realinc\n",
    "# income = gss['realinc']\n",
    "\n",
    "# # Make the CDF\n",
    "# cdf_income = Cdf(income)\n",
    "\n",
    "# # Plot it\n",
    "# cdf_income.plot()\n",
    "\n",
    "# # Label the axes\n",
    "# plt.xlabel('Income (1986 USD)')\n",
    "# plt.ylabel('CDF')\n",
    "# plt.show()"
   ]
  },
  {
   "cell_type": "markdown",
   "metadata": {},
   "source": [
    "Let's begin comparing incomes for different levels of education in the GSS dataset, which has been pre-loaded for you into a DataFrame called gss. The variable educ represents the respondent's years of education.\n",
    "\n",
    "- What fraction of respondents report that they have 12 years of education or fewer?"
   ]
  },
  {
   "cell_type": "code",
   "execution_count": 23,
   "metadata": {},
   "outputs": [],
   "source": [
    "# educ = gss['educ']\n",
    "# educ_cdf = Cdf(educ)\n",
    "# print(educ_cdf[12])"
   ]
  },
  {
   "cell_type": "markdown",
   "metadata": {},
   "source": [
    "- Complete the line that identifies respondents with associate degrees, that is, people with 14 or more years of education but less than 16.\n",
    "- Complete the line that identifies respondents with 12 or fewer years of education.\n",
    "- Confirm that the mean of high is the fraction we computed in the previous exercise, about 53%."
   ]
  },
  {
   "cell_type": "code",
   "execution_count": 24,
   "metadata": {},
   "outputs": [],
   "source": [
    "# # Select educ\n",
    "# educ = gss['educ']\n",
    "\n",
    "# # Bachelor's degree\n",
    "# bach = (educ >= 16)\n",
    "\n",
    "# # Associate degree\n",
    "# assc = (educ >= 14) & ~bach\n",
    "\n",
    "# # High school (12 or fewer years of education)\n",
    "# high = (educ <= 12)\n",
    "# print(high.mean())"
   ]
  },
  {
   "cell_type": "markdown",
   "metadata": {},
   "source": [
    "- Fill in the missing lines of code to plot the CDFs."
   ]
  },
  {
   "cell_type": "code",
   "execution_count": 25,
   "metadata": {},
   "outputs": [],
   "source": [
    "# income = gss['realinc']\n",
    "\n",
    "# # Plot the CDFs\n",
    "# Cdf(income[high]).plot(label='High school')\n",
    "# Cdf(income[assc]).plot(label='Associate')\n",
    "# Cdf(income[bach]).plot(label='Bachelor')\n",
    "\n",
    "# # Label the axes\n",
    "# plt.xlabel('Income (1986 USD)')\n",
    "# plt.ylabel('CDF')\n",
    "# plt.legend()\n",
    "# plt.show()"
   ]
  },
  {
   "cell_type": "markdown",
   "metadata": {},
   "source": [
    "- Extract 'realinc' from gss and compute its logarithm using np.log10().\n",
    "- Compute the mean and standard deviation of the result.\n",
    "- Make a norm object by passing the computed mean and standard deviation to norm()."
   ]
  },
  {
   "cell_type": "code",
   "execution_count": 26,
   "metadata": {},
   "outputs": [],
   "source": [
    "# # Extract realinc and compute its log\n",
    "# income = gss['realinc']\n",
    "# log_income = np.log10(income)\n",
    "\n",
    "# # Compute mean and standard deviation\n",
    "# mean = log_income.mean()\n",
    "# std = log_income.std()\n",
    "# print(mean, std)\n",
    "\n",
    "# # Make a norm object\n",
    "# from scipy.stats import norm\n",
    "# dist = norm(mean,std)"
   ]
  },
  {
   "cell_type": "markdown",
   "metadata": {},
   "source": [
    "- Evaluate the normal cumulative distribution function using dist.cdf.\n",
    "- Use the Cdf() function to compute the CDF of log_income.\n",
    "- Plot the result."
   ]
  },
  {
   "cell_type": "code",
   "execution_count": 27,
   "metadata": {},
   "outputs": [],
   "source": [
    "# # Evaluate the model CDF\n",
    "# xs = np.linspace(2, 5.5)\n",
    "# ys = dist.cdf(xs)\n",
    "\n",
    "# # Plot the model CDF\n",
    "# plt.clf()\n",
    "# plt.plot(xs, ys, color='gray')\n",
    "\n",
    "# # Create and plot the Cdf of log_income\n",
    "# Cdf(log_income).plot()\n",
    "    \n",
    "# # Label the axes\n",
    "# plt.xlabel('log10 of realinc')\n",
    "# plt.ylabel('CDF')\n",
    "# plt.show()"
   ]
  },
  {
   "cell_type": "markdown",
   "metadata": {},
   "source": [
    "- Evaluate the normal PDF using dist, which is a norm object with the same mean and standard deviation as the data.\n",
    "- Make a KDE plot of the logarithms of the incomes, using log_income, which is a Series object."
   ]
  },
  {
   "cell_type": "code",
   "execution_count": 28,
   "metadata": {},
   "outputs": [],
   "source": [
    "# # Evaluate the normal PDF\n",
    "# xs = np.linspace(2, 5.5)\n",
    "# ys = dist.pdf(xs)\n",
    "\n",
    "# # Plot the model PDF\n",
    "# plt.clf()\n",
    "# plt.plot(xs, ys, color='gray')\n",
    "\n",
    "# # Plot the data KDE\n",
    "# sns.kdeplot(log_income)\n",
    "\n",
    "# # Label the axes\n",
    "# plt.xlabel('log10 of realinc')\n",
    "# plt.ylabel('PDF')\n",
    "# plt.show()"
   ]
  }
 ],
 "metadata": {
  "interpreter": {
   "hash": "3fef59229a6e1ff5434759995be53a28a25493efd6d26eb6c004eefe62e31083"
  },
  "kernelspec": {
   "display_name": "Python 3.8.11 ('env_py')",
   "language": "python",
   "name": "python3"
  },
  "language_info": {
   "codemirror_mode": {
    "name": "ipython",
    "version": 3
   },
   "file_extension": ".py",
   "mimetype": "text/x-python",
   "name": "python",
   "nbconvert_exporter": "python",
   "pygments_lexer": "ipython3",
   "version": "3.8.11"
  },
  "orig_nbformat": 4
 },
 "nbformat": 4,
 "nbformat_minor": 2
}
