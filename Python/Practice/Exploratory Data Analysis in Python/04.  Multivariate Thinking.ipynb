{
 "cells": [
  {
   "cell_type": "markdown",
   "metadata": {},
   "source": [
    "JUST BECAUSE THERE IS A CORRELATION BETWEEN X AND Y, DOESN'T MEAN THAT Y HAPPENS BECAUSE IT IS THE EFFECT OF CAUSATION OF X. THERE MIGHT BE SOMETHING ELSE THAT DOES THIS CAUSATION LIKE Z, A, OR B."
   ]
  },
  {
   "cell_type": "markdown",
   "metadata": {},
   "source": [
    "- Compute the regression of '_VEGESU1' as a function of 'INCOME2' using SciPy's linregress().\n",
    "- Compute the regression of '_VEGESU1' as a function of 'INCOME2' using StatsModels' smf.ols()."
   ]
  },
  {
   "cell_type": "markdown",
   "metadata": {},
   "source": [
    "<!-- from scipy.stats import linregress\n",
    "import statsmodels.formula.api as smf\n",
    "\n",
    "# Run regression with linregress\n",
    "subset = brfss.dropna(subset=['INCOME2', '_VEGESU1'])\n",
    "xs = subset['INCOME2']\n",
    "ys = subset['_VEGESU1']\n",
    "res = linregress(xs, ys)\n",
    "print(res)\n",
    "\n",
    "# Run regression with StatsModels\n",
    "results = smf.ols('_VEGESU1 ~ INCOME2', data = brfss).fit()\n",
    "print(results.params) -->"
   ]
  },
  {
   "cell_type": "code",
   "execution_count": 1,
   "metadata": {},
   "outputs": [],
   "source": [
    "# from scipy.stats import linregress\n",
    "# import statsmodels.formula.api as smf\n",
    "\n",
    "# # Run regression with linregress\n",
    "# subset = brfss.dropna(subset=['INCOME2', '_VEGESU1'])\n",
    "# xs = subset['INCOME2']\n",
    "# ys = subset['_VEGESU1']\n",
    "# res = linregress(xs, ys)\n",
    "# print(res)\n",
    "\n",
    "# # Run regression with StatsModels\n",
    "# results = smf.ols('_VEGESU1 ~ INCOME2', data = brfss).fit()\n",
    "# print(results.params)"
   ]
  },
  {
   "cell_type": "markdown",
   "metadata": {},
   "source": [
    "- Group gss by 'educ'. Store the result in grouped.\n",
    "- From grouped, extract 'realinc' and compute the mean.\n",
    "- Plot mean_income_by_educ as a scatter plot. Specify 'o' and alpha=0.5."
   ]
  },
  {
   "cell_type": "code",
   "execution_count": 2,
   "metadata": {},
   "outputs": [],
   "source": [
    "# # Group by educ\n",
    "# grouped = gss.groupby('educ')\n",
    "\n",
    "# # Compute mean income in each group\n",
    "# mean_income_by_educ = grouped['realinc'].mean()\n",
    "\n",
    "# # Plot mean income as a scatter plot\n",
    "# plt.plot(mean_income_by_educ, 'o', alpha=0.5)\n",
    "\n",
    "# # Label the axes\n",
    "# plt.xlabel('Education (years)')\n",
    "# plt.ylabel('Income (1986 $)')\n",
    "# plt.show()"
   ]
  },
  {
   "cell_type": "markdown",
   "metadata": {},
   "source": [
    "- Add a column named 'educ2' to the gss DataFrame; it should contain the values from 'educ' squared.\n",
    "- Run a regression model that uses 'educ', 'educ2', 'age', and 'age2' to predict 'realinc'."
   ]
  },
  {
   "cell_type": "code",
   "execution_count": 3,
   "metadata": {},
   "outputs": [],
   "source": [
    "# import statsmodels.formula.api as smf\n",
    "\n",
    "# # Add a new column with educ squared\n",
    "# gss['educ2'] = gss['educ'] **2\n",
    "\n",
    "# # Run a regression model with educ, educ2, age, and age2\n",
    "# results = smf.ols('realinc ~ educ + educ2 + age + age2', data = gss).fit()\n",
    "\n",
    "# # Print the estimated parameters\n",
    "# print(results.params)"
   ]
  },
  {
   "cell_type": "markdown",
   "metadata": {},
   "source": [
    "- Using np.linspace(), add a variable named 'educ' to df with a range of values from 0 to 20.\n",
    "- Add a variable named 'age' with the constant value 30.\n",
    "- Use df to generate predicted income as a function of education."
   ]
  },
  {
   "cell_type": "code",
   "execution_count": 4,
   "metadata": {},
   "outputs": [],
   "source": [
    "# # Run a regression model with educ, educ2, age, and age2\n",
    "# results = smf.ols('realinc ~ educ + educ2 + age + age2', data=gss).fit()\n",
    "\n",
    "# # Make the DataFrame\n",
    "# df = pd.DataFrame()\n",
    "# df['educ'] = np.linspace(0,20)\n",
    "# df['age'] = 30\n",
    "# df['educ2'] = df['educ']**2\n",
    "# df['age2'] = df['age']**2\n",
    "\n",
    "# # Generate and plot the predictions\n",
    "# pred = results.predict(df)\n",
    "# print(pred.head())"
   ]
  },
  {
   "cell_type": "markdown",
   "metadata": {},
   "source": [
    "- Plot mean_income_by_educ using circles ('o'). Specify an alpha of 0.5.\n",
    "- Plot the prediction results with a line, with df['educ'] on the x-axis and pred on the y-axis."
   ]
  },
  {
   "cell_type": "code",
   "execution_count": 5,
   "metadata": {},
   "outputs": [],
   "source": [
    "# # Plot mean income in each age group\n",
    "# plt.clf()\n",
    "# grouped = gss.groupby('educ')\n",
    "# mean_income_by_educ = grouped['realinc'].mean()\n",
    "# plt.plot(mean_income_by_educ, 'o', alpha= 0.5)\n",
    "\n",
    "# # Plot the predictions\n",
    "# pred = results.predict(df)\n",
    "# plt.plot(df['educ'], pred, label='Age 30')\n",
    "\n",
    "# # Label axes\n",
    "# plt.xlabel('Education (years)')\n",
    "# plt.ylabel('Income (1986 $)')\n",
    "# plt.legend()\n",
    "# plt.show()"
   ]
  },
  {
   "cell_type": "markdown",
   "metadata": {},
   "source": [
    "- Fill in the parameters of smf.logit() to predict grass using the variables age, age2, educ, and educ2, along with sex as a categorical variable."
   ]
  },
  {
   "cell_type": "code",
   "execution_count": 6,
   "metadata": {},
   "outputs": [],
   "source": [
    "# # Recode grass\n",
    "# gss['grass'].replace(2, 0, inplace=True)\n",
    "\n",
    "# # Run logistic regression\n",
    "# results = smf.logit('grass ~ age + age2 +  educ + educ2 + C(sex)', data = gss).fit()\n",
    "# results.params"
   ]
  },
  {
   "cell_type": "markdown",
   "metadata": {},
   "source": [
    "- Add a column called educ and set it to 12 years; then compute a second column, educ2, which is the square of educ."
   ]
  },
  {
   "cell_type": "code",
   "execution_count": 7,
   "metadata": {},
   "outputs": [],
   "source": [
    "# # Recode grass\n",
    "# gss['grass'].replace(2, 0, inplace=True)\n",
    "\n",
    "# # Run logistic regression\n",
    "# results = smf.logit('grass ~ age + age2 + educ + educ2 + C(sex)', data=gss).fit()\n",
    "# results.params\n",
    "\n",
    "# # Make a DataFrame with a range of ages\n",
    "# df = pd.DataFrame()\n",
    "# df['age'] = np.linspace(18, 89)\n",
    "# df['age2'] = df['age']**2\n",
    "\n",
    "# # Set the education level to 12\n",
    "# df['educ'] = 12\n",
    "# df['educ2'] = df['educ'] ** 2"
   ]
  },
  {
   "cell_type": "markdown",
   "metadata": {},
   "source": [
    "- Generate separate predictions for men and women."
   ]
  },
  {
   "cell_type": "markdown",
   "metadata": {},
   "source": [
    "KEEP THE WHOLE COLUMN OF THE DATASET CONSTANT IF YOU WANT TO PREDICT PARTICULARLY FOR THAT CATEGORY WITH THE OTHER VARIABLES"
   ]
  },
  {
   "cell_type": "code",
   "execution_count": 8,
   "metadata": {},
   "outputs": [],
   "source": [
    "# # Recode grass\n",
    "# gss['grass'].replace(2, 0, inplace=True)\n",
    "\n",
    "# # Run logistic regression\n",
    "# results = smf.logit('grass ~ age + age2 + educ + educ2 + C(sex)', data=gss).fit()\n",
    "# results.params\n",
    "\n",
    "# # Make a DataFrame with a range of ages\n",
    "# df = pd.DataFrame()\n",
    "# df['age'] = np.linspace(18, 89)\n",
    "# df['age2'] = df['age']**2\n",
    "\n",
    "# # Set the education level to 12\n",
    "# df['educ'] = 12\n",
    "# df['educ2'] = df['educ']**2\n",
    "\n",
    "# # Generate predictions for men and women\n",
    "# df['sex'] = 1\n",
    "# pred1 = results.predict(df)\n",
    "\n",
    "# df['sex'] = 2\n",
    "# pred2 = results.predict(df)"
   ]
  },
  {
   "cell_type": "markdown",
   "metadata": {},
   "source": [
    "- Fill in the missing code to compute the mean of 'grass' for each age group, and then the arguments of plt.plot() to plot pred2 versus df['age'] with the label 'Female'."
   ]
  },
  {
   "cell_type": "code",
   "execution_count": 9,
   "metadata": {},
   "outputs": [],
   "source": [
    "# # Recode grass\n",
    "# gss['grass'].replace(2, 0, inplace=True)\n",
    "\n",
    "# # Run logistic regression\n",
    "# results = smf.logit('grass ~ age + age2 + educ + educ2 + C(sex)', data=gss).fit()\n",
    "# results.params\n",
    "\n",
    "# # Make a DataFrame with a range of ages\n",
    "# df = pd.DataFrame()\n",
    "# df['age'] = np.linspace(18, 89)\n",
    "# df['age2'] = df['age']**2\n",
    "\n",
    "# # Set the education level to 12\n",
    "# df['educ'] = 12\n",
    "# df['educ2'] = df['educ']**2\n",
    "\n",
    "# # Generate predictions for men and women\n",
    "# df['sex'] = 1\n",
    "# pred1 = results.predict(df)\n",
    "\n",
    "# df['sex'] = 2\n",
    "# pred2 = results.predict(df)\n",
    "\n",
    "# plt.clf()\n",
    "# grouped = gss.groupby('age')\n",
    "# favor_by_age = grouped.mean()\n",
    "# plt.plot(favor_by_age, 'o', alpha=0.5)\n",
    "\n",
    "# plt.plot(df['age'], pred1, label='Male')\n",
    "# plt.plot(df['age'], pred2, label='Female')\n",
    "\n",
    "# plt.xlabel('Age')\n",
    "# plt.ylabel('Probability of favoring legalization')\n",
    "# plt.legend()\n",
    "# plt.show()"
   ]
  }
 ],
 "metadata": {
  "interpreter": {
   "hash": "3fef59229a6e1ff5434759995be53a28a25493efd6d26eb6c004eefe62e31083"
  },
  "kernelspec": {
   "display_name": "Python 3.8.11 ('env_py')",
   "language": "python",
   "name": "python3"
  },
  "language_info": {
   "codemirror_mode": {
    "name": "ipython",
    "version": 3
   },
   "file_extension": ".py",
   "mimetype": "text/x-python",
   "name": "python",
   "nbconvert_exporter": "python",
   "pygments_lexer": "ipython3",
   "version": "3.8.11"
  },
  "orig_nbformat": 4
 },
 "nbformat": 4,
 "nbformat_minor": 2
}
