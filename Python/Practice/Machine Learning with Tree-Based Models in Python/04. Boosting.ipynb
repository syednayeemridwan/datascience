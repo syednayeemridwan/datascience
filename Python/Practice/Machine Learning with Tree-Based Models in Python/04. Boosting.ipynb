{
 "cells": [
  {
   "cell_type": "markdown",
   "metadata": {},
   "source": [
    "- Import AdaBoostClassifier from sklearn.ensemble.\n",
    "- Instantiate a DecisionTreeClassifier with max_depth set to 2.\n",
    "- Instantiate an AdaBoostClassifier consisting of 180 trees and setting the base_estimator to dt."
   ]
  },
  {
   "cell_type": "code",
   "execution_count": 1,
   "metadata": {},
   "outputs": [],
   "source": [
    "# # Import DecisionTreeClassifier\n",
    "# from sklearn.tree import DecisionTreeClassifier\n",
    "\n",
    "# # Import AdaBoostClassifier\n",
    "# from sklearn.ensemble import AdaBoostClassifier\n",
    "\n",
    "# # Instantiate dt\n",
    "# dt = DecisionTreeClassifier(max_depth=2, random_state=1)\n",
    "\n",
    "# # Instantiate ada\n",
    "# ada = AdaBoostClassifier(base_estimator=dt, n_estimators=180, random_state=1)"
   ]
  },
  {
   "cell_type": "markdown",
   "metadata": {},
   "source": [
    "- Fit ada to the training set.\n",
    "- Evaluate the probabilities of obtaining the positive class in the test set."
   ]
  },
  {
   "cell_type": "code",
   "execution_count": 2,
   "metadata": {},
   "outputs": [],
   "source": [
    "# # Fit ada to the training set\n",
    "# ada.fit(X_train, y_train)\n",
    "\n",
    "# # Compute the probabilities of obtaining the positive class\n",
    "# y_pred_proba = ada.predict_proba(X_test)[:,1]"
   ]
  },
  {
   "cell_type": "markdown",
   "metadata": {},
   "source": [
    "- Import roc_auc_score from sklearn.metrics.\n",
    "- Compute ada's test set ROC AUC score, assign it to ada_roc_auc, and print it out."
   ]
  },
  {
   "cell_type": "code",
   "execution_count": 3,
   "metadata": {},
   "outputs": [],
   "source": [
    "# # Import roc_auc_score\n",
    "# from sklearn.metrics import roc_auc_score\n",
    "\n",
    "# # Evaluate test-set roc_auc_score\n",
    "# ada_roc_auc = roc_auc_score(y_test, y_pred_proba)\n",
    "\n",
    "# # Print roc_auc_score\n",
    "# print('ROC AUC score: {:.2f}'.format(ada_roc_auc))"
   ]
  },
  {
   "cell_type": "markdown",
   "metadata": {},
   "source": [
    "- Import GradientBoostingRegressor from sklearn.ensemble.\n",
    "- Instantiate a gradient boosting regressor by setting the parameters:\n",
    "- max_depth to 4\n",
    "- n_estimators to 200"
   ]
  },
  {
   "cell_type": "code",
   "execution_count": 4,
   "metadata": {},
   "outputs": [],
   "source": [
    "# # Import GradientBoostingRegressor\n",
    "# from sklearn.ensemble import GradientBoostingRegressor\n",
    "\n",
    "# # Instantiate gb\n",
    "# gb = GradientBoostingRegressor(max_depth = 4, \n",
    "#             n_estimators = 200,\n",
    "#             random_state=2)"
   ]
  },
  {
   "cell_type": "markdown",
   "metadata": {},
   "source": [
    "- Fit gb to the training set.\n",
    "- Predict the test set labels and assign the result to y_pred."
   ]
  },
  {
   "cell_type": "code",
   "execution_count": 5,
   "metadata": {},
   "outputs": [],
   "source": [
    "# # Fit gb to the training set\n",
    "# gb.fit(X_train, y_train)\n",
    "\n",
    "# # Predict test set labels\n",
    "# y_pred = gb.predict(X_test)"
   ]
  },
  {
   "cell_type": "markdown",
   "metadata": {},
   "source": [
    "- Import mean_squared_error from sklearn.metrics as MSE.\n",
    "- Compute the test set MSE and assign it to mse_test.\n",
    "- Compute the test set RMSE and assign it to rmse_test."
   ]
  },
  {
   "cell_type": "code",
   "execution_count": 6,
   "metadata": {},
   "outputs": [],
   "source": [
    "# # Import mean_squared_error as MSE\n",
    "# from sklearn.metrics import mean_squared_error as MSE\n",
    "\n",
    "# # Compute MSE\n",
    "# mse_test = MSE(y_test, y_pred)\n",
    "\n",
    "# # Compute RMSE\n",
    "# rmse_test = mse_test ** (1/2)\n",
    "\n",
    "# # Print RMSE\n",
    "# print('Test set RMSE of gb: {:.3f}'.format(rmse_test))"
   ]
  },
  {
   "cell_type": "markdown",
   "metadata": {},
   "source": [
    "- Instantiate a Stochastic Gradient Boosting Regressor (SGBR) and set:\n",
    "- max_depth to 4 and n_estimators to 200,\n",
    "- subsample to 0.9, and\n",
    "- max_features to 0.75."
   ]
  },
  {
   "cell_type": "code",
   "execution_count": 7,
   "metadata": {},
   "outputs": [],
   "source": [
    "# # Import GradientBoostingRegressor\n",
    "# from sklearn.ensemble import GradientBoostingRegressor\n",
    "\n",
    "# # Instantiate sgbr\n",
    "# sgbr = GradientBoostingRegressor(max_depth=4, \n",
    "#             subsample=0.9,\n",
    "#             max_features=0.75,\n",
    "#             n_estimators=200,\n",
    "#             random_state=2)"
   ]
  },
  {
   "cell_type": "markdown",
   "metadata": {},
   "source": [
    "- Fit sgbr to the training set.\n",
    "- Predict the test set labels and assign the results to y_pred."
   ]
  },
  {
   "cell_type": "code",
   "execution_count": 8,
   "metadata": {},
   "outputs": [],
   "source": [
    "# # Fit sgbr to the training set\n",
    "# sgbr.fit(X_train, y_train)\n",
    "\n",
    "# # Predict test set labels\n",
    "# y_pred = sgbr.predict(X_test)"
   ]
  },
  {
   "cell_type": "markdown",
   "metadata": {},
   "source": [
    "- Import mean_squared_error as MSE from sklearn.metrics.\n",
    "- Compute test set MSE and assign the result to mse_test.\n",
    "- Compute test set RMSE and assign the result to rmse_test."
   ]
  },
  {
   "cell_type": "code",
   "execution_count": 9,
   "metadata": {},
   "outputs": [],
   "source": [
    "# # Import mean_squared_error as MSE\n",
    "# from sklearn.metrics import mean_squared_error as MSE\n",
    "\n",
    "# # Compute test set MSE\n",
    "# mse_test = MSE(y_test, y_pred)\n",
    "\n",
    "# # Compute test set RMSE\n",
    "# rmse_test = mse_test ** (1/2)\n",
    "\n",
    "# # Print rmse_test\n",
    "# print('Test set RMSE of sgbr: {:.3f}'.format(rmse_test))"
   ]
  }
 ],
 "metadata": {
  "interpreter": {
   "hash": "3fef59229a6e1ff5434759995be53a28a25493efd6d26eb6c004eefe62e31083"
  },
  "kernelspec": {
   "display_name": "Python 3.8.11 ('env_py')",
   "language": "python",
   "name": "python3"
  },
  "language_info": {
   "codemirror_mode": {
    "name": "ipython",
    "version": 3
   },
   "file_extension": ".py",
   "mimetype": "text/x-python",
   "name": "python",
   "nbconvert_exporter": "python",
   "pygments_lexer": "ipython3",
   "version": "3.8.11"
  },
  "orig_nbformat": 4
 },
 "nbformat": 4,
 "nbformat_minor": 2
}
