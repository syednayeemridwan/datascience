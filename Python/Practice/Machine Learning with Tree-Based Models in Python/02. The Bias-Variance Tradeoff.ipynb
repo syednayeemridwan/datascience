{
 "cells": [
  {
   "cell_type": "markdown",
   "metadata": {},
   "source": [
    "As the complexity of your_model_func increases, the bias term decreases while the variance term increases."
   ]
  },
  {
   "cell_type": "markdown",
   "metadata": {},
   "source": [
    "- Import train_test_split from sklearn.model_selection.\n",
    "- Split the data into 70% train and 30% test.\n",
    "- Instantiate a DecisionTreeRegressor with max depth 4 and min_samples_leaf set to 0.26."
   ]
  },
  {
   "cell_type": "code",
   "execution_count": 1,
   "metadata": {},
   "outputs": [],
   "source": [
    "# # Import train_test_split from sklearn.model_selection\n",
    "# from sklearn.model_selection import train_test_split\n",
    "\n",
    "# # Set SEED for reproducibility\n",
    "# SEED = 1\n",
    "\n",
    "# # Split the data into 70% train and 30% test\n",
    "# X_train, X_test, y_train, y_test = train_test_split(X, y, test_size=0.3, random_state=SEED)\n",
    "\n",
    "# # Instantiate a DecisionTreeRegressor dt\n",
    "# dt = DecisionTreeRegressor(min_samples_leaf=0.26, max_depth=4, random_state=SEED)"
   ]
  },
  {
   "cell_type": "markdown",
   "metadata": {},
   "source": [
    "- Compute dt's 10-fold cross-validated MSE by setting the scoring argument to 'neg_mean_squared_error'.\n",
    "- Compute RMSE from the obtained MSE scores."
   ]
  },
  {
   "cell_type": "code",
   "execution_count": 2,
   "metadata": {},
   "outputs": [],
   "source": [
    "# # Compute the array containing the 10-folds CV MSEs\n",
    "# MSE_CV_scores = - cross_val_score(dt, X_train, y_train, cv=10, \n",
    "#                        scoring='neg_mean_squared_error',\n",
    "#                        n_jobs=-1)\n",
    "\n",
    "# # Compute the 10-folds CV RMSE\n",
    "# RMSE_CV = (MSE_CV_scores.mean())**(1/2)\n",
    "\n",
    "# # Print RMSE_CV\n",
    "# print('CV RMSE: {:.2f}'.format(RMSE_CV))"
   ]
  },
  {
   "cell_type": "markdown",
   "metadata": {},
   "source": [
    "- Import mean_squared_error as MSE from sklearn.metrics.\n",
    "- Fit dt to the training set.\n",
    "- Predict dt's training set labels and assign the result to y_pred_train.\n",
    "- Evaluate dt's training set RMSE and assign it to RMSE_train."
   ]
  },
  {
   "cell_type": "code",
   "execution_count": 3,
   "metadata": {},
   "outputs": [],
   "source": [
    "# # Import mean_squared_error from sklearn.metrics as MSE\n",
    "# from sklearn.metrics import mean_squared_error as MSE\n",
    "\n",
    "# # Fit dt to the training set\n",
    "# dt.fit(X_train, y_train)\n",
    "\n",
    "# # Predict the labels of the training set\n",
    "# y_pred_train = dt.predict(X_train)\n",
    "\n",
    "# # Evaluate the training set RMSE of dt\n",
    "# RMSE_train = (MSE(y_train, y_pred_train))**(1/2)\n",
    "\n",
    "# # Print RMSE_train\n",
    "# print('Train RMSE: {:.2f}'.format(RMSE_train))"
   ]
  },
  {
   "cell_type": "markdown",
   "metadata": {},
   "source": [
    "- Instantiate a Logistic Regression classifier and assign it to lr.\n",
    "- Instantiate a KNN classifier that considers 27 nearest neighbors and assign it to knn.\n",
    "- Instantiate a Decision Tree Classifier with the parameter min_samples_leaf set to 0.13 and assign it to dt."
   ]
  },
  {
   "cell_type": "code",
   "execution_count": 4,
   "metadata": {},
   "outputs": [],
   "source": [
    "# # Set seed for reproducibility\n",
    "# SEED=1\n",
    "\n",
    "# # Instantiate lr\n",
    "# lr = LogisticRegression(random_state=SEED)\n",
    "\n",
    "# # Instantiate knn\n",
    "# knn = KNN(n_neighbors=27)\n",
    "\n",
    "# # Instantiate dt\n",
    "# dt = DecisionTreeClassifier(min_samples_leaf=0.13, random_state=SEED)\n",
    "\n",
    "# # Define the list classifiers\n",
    "# classifiers = [('Logistic Regression', lr), ('K Nearest Neighbours', knn), ('Classification Tree', dt)]"
   ]
  },
  {
   "cell_type": "markdown",
   "metadata": {},
   "source": [
    "- Iterate over the tuples in classifiers. Use clf_name and clf as the for loop variables:\n",
    "- Fit clf to the training set.\n",
    "- Predict clf's test set labels and assign the results to y_pred.\n",
    "- Evaluate the test set accuracy of clf and print the result."
   ]
  },
  {
   "cell_type": "code",
   "execution_count": 5,
   "metadata": {},
   "outputs": [],
   "source": [
    "# # Iterate over the pre-defined list of classifiers\n",
    "# for clf_name, clf in classifiers:    \n",
    " \n",
    "#     # Fit clf to the training set\n",
    "#     clf.fit(X_train, y_train)    \n",
    "   \n",
    "#     # Predict y_pred\n",
    "#     y_pred = clf.predict(X_test)\n",
    "    \n",
    "#     # Calculate accuracy\n",
    "#     accuracy = accuracy_score(y_test, y_pred) \n",
    "   \n",
    "#     # Evaluate clf's accuracy on the test set\n",
    "#     print('{:s} : {:.3f}'.format(clf_name, accuracy))"
   ]
  },
  {
   "cell_type": "markdown",
   "metadata": {},
   "source": [
    "- Import VotingClassifier from sklearn.ensemble.\n",
    "- Instantiate a VotingClassifier by setting the parameter estimators to classifiers and assign it to vc.\n",
    "- Fit vc to the training set.\n",
    "- Evaluate vc's test set accuracy using the test set predictions y_pred."
   ]
  },
  {
   "cell_type": "code",
   "execution_count": 6,
   "metadata": {},
   "outputs": [],
   "source": [
    "# # Import VotingClassifier from sklearn.ensemble\n",
    "# from sklearn.ensemble import VotingClassifier\n",
    "\n",
    "# # Instantiate a VotingClassifier vc\n",
    "# vc = VotingClassifier(estimators=classifiers)     \n",
    "\n",
    "# # Fit vc to the training set\n",
    "# vc.fit(X_train, y_train)   \n",
    "\n",
    "# # Evaluate the test set predictions\n",
    "# y_pred = vc.predict(X_test)\n",
    "\n",
    "# # Calculate accuracy score\n",
    "# accuracy = accuracy_score(y_test, y_pred)\n",
    "# print('Voting Classifier: {:.3f}'.format(accuracy))"
   ]
  }
 ],
 "metadata": {
  "interpreter": {
   "hash": "3fef59229a6e1ff5434759995be53a28a25493efd6d26eb6c004eefe62e31083"
  },
  "kernelspec": {
   "display_name": "Python 3.8.11 ('env_py')",
   "language": "python",
   "name": "python3"
  },
  "language_info": {
   "codemirror_mode": {
    "name": "ipython",
    "version": 3
   },
   "file_extension": ".py",
   "mimetype": "text/x-python",
   "name": "python",
   "nbconvert_exporter": "python",
   "pygments_lexer": "ipython3",
   "version": "3.8.11"
  },
  "orig_nbformat": 4
 },
 "nbformat": 4,
 "nbformat_minor": 2
}
