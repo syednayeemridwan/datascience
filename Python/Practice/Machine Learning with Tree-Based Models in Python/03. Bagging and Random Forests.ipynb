{
 "cells": [
  {
   "cell_type": "markdown",
   "metadata": {},
   "source": [
    "- Import DecisionTreeClassifier from sklearn.tree and BaggingClassifier from sklearn.ensemble.\n",
    "- Instantiate a DecisionTreeClassifier called dt.\n",
    "- Instantiate a BaggingClassifier called bc consisting of 50 trees."
   ]
  },
  {
   "cell_type": "code",
   "execution_count": 1,
   "metadata": {},
   "outputs": [],
   "source": [
    "# # Import DecisionTreeClassifier\n",
    "# from sklearn.tree import DecisionTreeClassifier\n",
    "\n",
    "# # Import BaggingClassifier\n",
    "# from sklearn.ensemble import BaggingClassifier\n",
    "\n",
    "# # Instantiate dt\n",
    "# dt = DecisionTreeClassifier(random_state=1)\n",
    "\n",
    "# # Instantiate bc\n",
    "# bc = BaggingClassifier(base_estimator=dt, n_estimators=50, random_state=1)"
   ]
  },
  {
   "cell_type": "markdown",
   "metadata": {},
   "source": [
    "- Fit bc to the training set.\n",
    "- Predict the test set labels and assign the result to y_pred.\n",
    "- Determine bc's test set accuracy."
   ]
  },
  {
   "cell_type": "code",
   "execution_count": 2,
   "metadata": {},
   "outputs": [],
   "source": [
    "# # Fit bc to the training set\n",
    "# bc.fit(X_train , y_train)\n",
    "\n",
    "# # Predict test set labels\n",
    "# y_pred = bc.predict(X_test)\n",
    "\n",
    "# # Evaluate acc_test\n",
    "# acc_test = accuracy_score(y_test, y_pred)\n",
    "# print('Test set accuracy of bc: {:.2f}'.format(acc_test)) "
   ]
  },
  {
   "cell_type": "markdown",
   "metadata": {},
   "source": [
    "- Import BaggingClassifier from sklearn.ensemble.\n",
    "- Instantiate a DecisionTreeClassifier with min_samples_leaf set to 8.\n",
    "- Instantiate a BaggingClassifier consisting of 50 trees and set oob_score to True."
   ]
  },
  {
   "cell_type": "code",
   "execution_count": 3,
   "metadata": {},
   "outputs": [],
   "source": [
    "# # Import DecisionTreeClassifier\n",
    "# from sklearn.tree import DecisionTreeClassifier\n",
    "\n",
    "# # Import BaggingClassifier\n",
    "# from sklearn.ensemble import BaggingClassifier\n",
    "\n",
    "# # Instantiate dt\n",
    "# dt = DecisionTreeClassifier(min_samples_leaf=8, random_state=1)\n",
    "\n",
    "# # Instantiate bc\n",
    "# bc = BaggingClassifier(base_estimator=dt, \n",
    "#             n_estimators=50,\n",
    "#             oob_score=True,\n",
    "#             random_state=1)"
   ]
  },
  {
   "cell_type": "markdown",
   "metadata": {},
   "source": [
    "- Fit bc to the training set and predict the test set labels and assign the results to y_pred.\n",
    "- Evaluate the test set accuracy acc_test by calling accuracy_score.\n",
    "- Evaluate bc's OOB accuracy acc_oob by extracting the attribute oob_score_ from bc."
   ]
  },
  {
   "cell_type": "code",
   "execution_count": 4,
   "metadata": {},
   "outputs": [],
   "source": [
    "# # Fit bc to the training set \n",
    "# bc.fit(X_train, y_train)\n",
    "\n",
    "# # Predict test set labels\n",
    "# y_pred = bc.predict(X_test)\n",
    "\n",
    "# # Evaluate test set accuracy\n",
    "# acc_test = accuracy_score(y_test, y_pred)\n",
    "\n",
    "# # Evaluate OOB accuracy\n",
    "# acc_oob = bc.oob_score_\n",
    "\n",
    "# # Print acc_test and acc_oob\n",
    "# print('Test set accuracy: {:.3f}, OOB accuracy: {:.3f}'.format(acc_test, acc_oob))"
   ]
  },
  {
   "cell_type": "markdown",
   "metadata": {},
   "source": [
    "- Import RandomForestRegressor from sklearn.ensemble.\n",
    "- Instantiate a RandomForestRegressor called rf consisting of 25 trees.\n",
    "- Fit rf to the training set."
   ]
  },
  {
   "cell_type": "code",
   "execution_count": 5,
   "metadata": {},
   "outputs": [],
   "source": [
    "# # Import RandomForestRegressor\n",
    "# from sklearn.ensemble import RandomForestRegressor\n",
    "\n",
    "# # Instantiate rf\n",
    "# rf = RandomForestRegressor(n_estimators=25,\n",
    "#             random_state=2)\n",
    "            \n",
    "# # Fit rf to the training set    \n",
    "# rf.fit(X_train, y_train) "
   ]
  },
  {
   "cell_type": "markdown",
   "metadata": {},
   "source": [
    "- Import mean_squared_error from sklearn.metrics as MSE.\n",
    "- Predict the test set labels and assign the result to y_pred.\n",
    "- Compute the test set RMSE and assign it to rmse_test."
   ]
  },
  {
   "cell_type": "code",
   "execution_count": 6,
   "metadata": {},
   "outputs": [],
   "source": [
    "# # Import mean_squared_error as MSE\n",
    "# from sklearn.metrics import mean_squared_error as MSE\n",
    "\n",
    "# # Predict the test set labels\n",
    "# y_pred = rf.predict(X_test)\n",
    "\n",
    "# # Evaluate the test set RMSE\n",
    "# rmse_test = MSE(y_test, y_pred) ** (1/2)\n",
    "\n",
    "# # Print rmse_test\n",
    "# print('Test set RMSE of rf: {:.2f}'.format(rmse_test))"
   ]
  },
  {
   "cell_type": "markdown",
   "metadata": {},
   "source": [
    "- Call the .sort_values() method on importances and assign the result to importances_sorted.\n",
    "- Call the .plot() method on importances_sorted and set the arguments:\n",
    "- kind to 'barh'\n",
    "- color to 'lightgreen'"
   ]
  },
  {
   "cell_type": "code",
   "execution_count": 7,
   "metadata": {},
   "outputs": [],
   "source": [
    "# # Create a pd.Series of features importances\n",
    "# importances = pd.Series(data=rf.feature_importances_,\n",
    "#                         index= X_train.columns)\n",
    "\n",
    "# # Sort importances\n",
    "# importances_sorted = importances.sort_values()\n",
    "\n",
    "# # Draw a horizontal barplot of importances_sorted\n",
    "# importances_sorted.plot(kind='barh', color='lightgreen')\n",
    "# plt.title('Features Importances')\n",
    "# plt.show()"
   ]
  }
 ],
 "metadata": {
  "interpreter": {
   "hash": "3fef59229a6e1ff5434759995be53a28a25493efd6d26eb6c004eefe62e31083"
  },
  "kernelspec": {
   "display_name": "Python 3.8.11 ('env_py')",
   "language": "python",
   "name": "python3"
  },
  "language_info": {
   "codemirror_mode": {
    "name": "ipython",
    "version": 3
   },
   "file_extension": ".py",
   "mimetype": "text/x-python",
   "name": "python",
   "nbconvert_exporter": "python",
   "pygments_lexer": "ipython3",
   "version": "3.8.11"
  },
  "orig_nbformat": 4
 },
 "nbformat": 4,
 "nbformat_minor": 2
}
