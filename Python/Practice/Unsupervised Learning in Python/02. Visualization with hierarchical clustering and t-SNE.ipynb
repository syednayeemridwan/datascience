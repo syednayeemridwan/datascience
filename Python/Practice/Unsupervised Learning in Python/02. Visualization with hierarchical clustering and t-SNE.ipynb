{
 "cells": [
  {
   "cell_type": "markdown",
   "metadata": {},
   "source": [
    "If there are 5 data samples, how many merge operations will occur in a hierarchical clustering?\n",
    "- With 5 data samples, there would be 4 merge operations, and with 6 data samples, there would be 5 merges, and so on."
   ]
  },
  {
   "cell_type": "markdown",
   "metadata": {},
   "source": [
    "- Import:\n",
    "- linkage and dendrogram from scipy.cluster.hierarchy.\n",
    "- matplotlib.pyplot as plt.\n",
    "- Perform hierarchical clustering on samples using the linkage() function with the method='complete' keyword argument. Assign the result to mergings.\n",
    "- Plot a dendrogram using the dendrogram() function on mergings. Specify the keyword arguments labels=varieties, leaf_rotation=90, and leaf_font_size=6."
   ]
  },
  {
   "cell_type": "code",
   "execution_count": 1,
   "metadata": {},
   "outputs": [],
   "source": [
    "# # Perform the necessary imports\n",
    "# from scipy.cluster.hierarchy import linkage , dendrogram\n",
    "# import matplotlib.pyplot as plt\n",
    "\n",
    "# # Calculate the linkage: mergings\n",
    "# mergings = linkage(samples, method='complete')\n",
    "\n",
    "# # Plot the dendrogram, using varieties as labels\n",
    "# dendrogram(mergings,\n",
    "#            labels = varieties,\n",
    "#            leaf_rotation= 90,\n",
    "#            leaf_font_size= 6,\n",
    "# )\n",
    "# plt.show()\n"
   ]
  },
  {
   "cell_type": "markdown",
   "metadata": {},
   "source": [
    "- Import normalize from sklearn.preprocessing.\n",
    "- Rescale the price movements for each stock by using the normalize() function on movements.\n",
    "- Apply the linkage() function to normalized_movements, using 'complete' linkage, to calculate the hierarchical clustering. Assign the result to mergings.\n",
    "- Plot a dendrogram of the hierarchical clustering, using the list companies of company names as the labels. In addition, specify the leaf_rotation=90, and leaf_font_size=6 keyword arguments as you did in the previous exercise."
   ]
  },
  {
   "cell_type": "code",
   "execution_count": 2,
   "metadata": {},
   "outputs": [],
   "source": [
    "# # Import normalize\n",
    "# from sklearn.preprocessing import normalize\n",
    "\n",
    "# # Normalize the movements: normalized_movements\n",
    "# normalized_movements = normalize(movements)\n",
    "\n",
    "# # Calculate the linkage: mergings\n",
    "# mergings = linkage(normalized_movements, method='complete')\n",
    "\n",
    "# # Plot the dendrogram\n",
    "# dendrogram(mergings, labels = companies, leaf_rotation=90, leaf_font_size=6)\n",
    "# plt.show()\n"
   ]
  },
  {
   "cell_type": "markdown",
   "metadata": {},
   "source": [
    " - In complete linkage, the distance between clusters is the distance between the furthest points of the clusters. \n",
    " - In single linkage, the distance between clusters is the distance between the closest points of the clusters."
   ]
  },
  {
   "cell_type": "markdown",
   "metadata": {},
   "source": [
    "- Import linkage and dendrogram from scipy.cluster.hierarchy.\n",
    "- Perform hierarchical clustering on samples using the linkage() function with the method='single' keyword argument. Assign the result to mergings.\n",
    "- Plot a dendrogram of the hierarchical clustering, using the list country_names as the labels. In addition, specify the leaf_rotation=90, and leaf_font_size=6 keyword arguments as you have done earlier."
   ]
  },
  {
   "cell_type": "code",
   "execution_count": 3,
   "metadata": {},
   "outputs": [],
   "source": [
    "# # Perform the necessary imports\n",
    "# import matplotlib.pyplot as plt\n",
    "# from scipy.cluster.hierarchy import linkage , dendrogram\n",
    "\n",
    "# # Calculate the linkage: mergings\n",
    "# mergings = linkage(samples, method='single')\n",
    "\n",
    "# # Plot the dendrogram\n",
    "# dendrogram(mergings, labels= country_names, leaf_rotation=90,  leaf_font_size=6)\n",
    "# plt.show()\n"
   ]
  },
  {
   "cell_type": "markdown",
   "metadata": {},
   "source": [
    "- Import:\n",
    "- pandas as pd.\n",
    "- fcluster from scipy.cluster.hierarchy.\n",
    "- Perform a flat hierarchical clustering by using the fcluster() function on mergings. Specify a maximum height of 6 and the keyword argument criterion='distance'.\n",
    "- Create a DataFrame df with two columns named 'labels' and 'varieties', using labels and varieties, respectively, for the column values. This has been done for you.\n",
    "- Create a cross-tabulation ct between df['labels'] and df['varieties'] to count the number of times each grain variety coincides with each cluster label."
   ]
  },
  {
   "cell_type": "code",
   "execution_count": 4,
   "metadata": {},
   "outputs": [],
   "source": [
    "# # Perform the necessary imports\n",
    "# import pandas as pd\n",
    "# from scipy.cluster.hierarchy import fcluster\n",
    "\n",
    "# # Use fcluster to extract labels: labels\n",
    "# labels = fcluster(mergings, 6, criterion='distance' )\n",
    "\n",
    "# # Create a DataFrame with labels and varieties as columns: df\n",
    "# df = pd.DataFrame({'labels': labels, 'varieties': varieties})\n",
    "\n",
    "# # Create crosstab: ct\n",
    "# ct = pd.crosstab(df['labels'] , df['varieties'])\n",
    "\n",
    "# # Display ct\n",
    "# print(ct)\n"
   ]
  },
  {
   "cell_type": "markdown",
   "metadata": {},
   "source": [
    "- Import TSNE from sklearn.manifold.\n",
    "- Create a TSNE instance called model with learning_rate=200.\n",
    "- Apply the .fit_transform() method of model to samples. Assign the result to tsne_features.\n",
    "- Select the column 0 of tsne_features. Assign the result to xs.\n",
    "- Select the column 1 of tsne_features. Assign the result to ys.\n",
    "- Make a scatter plot of the t-SNE features xs and ys. To color the points by the grain variety, specify the additional keyword argument c=variety_numbers."
   ]
  },
  {
   "cell_type": "code",
   "execution_count": 5,
   "metadata": {},
   "outputs": [],
   "source": [
    "# # Import TSNE\n",
    "# from sklearn.manifold import TSNE\n",
    "\n",
    "# # Create a TSNE instance: model\n",
    "# model = TSNE(learning_rate=200)\n",
    "\n",
    "# # Apply fit_transform to samples: tsne_features\n",
    "# tsne_features = model.fit_transform(samples)\n",
    "\n",
    "# # Select the 0th feature: xs\n",
    "# xs = tsne_features[:,0]\n",
    "\n",
    "# # Select the 1st feature: ys\n",
    "# ys = tsne_features[:,1]\n",
    "\n",
    "# # Scatter plot, coloring by variety_numbers\n",
    "# plt.scatter(xs, ys, c=variety_numbers)\n",
    "# plt.show()\n"
   ]
  },
  {
   "cell_type": "markdown",
   "metadata": {},
   "source": [
    "- Import TSNE from sklearn.manifold.\n",
    "- Create a TSNE instance called model with learning_rate=50.\n",
    "- Apply the .fit_transform() method of model to normalized_movements. Assign the result to tsne_features.\n",
    "- Select column 0 and column 1 of tsne_features.\n",
    "- Make a scatter plot of the t-SNE features xs and ys. Specify the additional keyword argument alpha=0.5.\n",
    "- Code to label each point with its company name has been written for you using plt.annotate(), so just hit submit to see the visualization!"
   ]
  },
  {
   "cell_type": "code",
   "execution_count": 6,
   "metadata": {},
   "outputs": [],
   "source": [
    "# # Import TSNE\n",
    "# from sklearn.manifold import TSNE\n",
    "\n",
    "# # Create a TSNE instance: model\n",
    "# model = TSNE(learning_rate=50)\n",
    "\n",
    "# # Apply fit_transform to normalized_movements: tsne_features\n",
    "# tsne_features = model.fit_transform(normalized_movements)\n",
    "\n",
    "# # Select the 0th feature: xs\n",
    "# xs = tsne_features[:,0]\n",
    "\n",
    "# # Select the 1th feature: ys\n",
    "# ys = tsne_features[:,1]\n",
    "\n",
    "# # Scatter plot\n",
    "# plt.scatter(xs , ys, alpha=0.5)\n",
    "\n",
    "# # Annotate the points\n",
    "# for x, y, company in zip(xs, ys, companies):\n",
    "#     plt.annotate(company, (x, y), fontsize=5, alpha=0.75)\n",
    "# plt.show()\n"
   ]
  }
 ],
 "metadata": {
  "interpreter": {
   "hash": "3fef59229a6e1ff5434759995be53a28a25493efd6d26eb6c004eefe62e31083"
  },
  "kernelspec": {
   "display_name": "Python 3.8.11 ('env_py')",
   "language": "python",
   "name": "python3"
  },
  "language_info": {
   "codemirror_mode": {
    "name": "ipython",
    "version": 3
   },
   "file_extension": ".py",
   "mimetype": "text/x-python",
   "name": "python",
   "nbconvert_exporter": "python",
   "pygments_lexer": "ipython3",
   "version": "3.8.11"
  },
  "orig_nbformat": 4
 },
 "nbformat": 4,
 "nbformat_minor": 2
}
