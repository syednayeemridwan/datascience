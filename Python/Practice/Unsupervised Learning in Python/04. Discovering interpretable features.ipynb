{
 "cells": [
  {
   "cell_type": "markdown",
   "metadata": {},
   "source": [
    "- Import NMF from sklearn.decomposition.\n",
    "- Create an NMF instance called model with 6 components.\n",
    "- Fit the model to the word count data articles.\n",
    "- Use the .transform() method of model to transform articles, and assign the result to nmf_features.\n",
    "- Print nmf_features to get a first idea what it looks like (.round(2) rounds the entries to 2 decimal places.)"
   ]
  },
  {
   "cell_type": "code",
   "execution_count": 1,
   "metadata": {},
   "outputs": [],
   "source": [
    "# # Import NMF\n",
    "# from sklearn.decomposition import NMF\n",
    "\n",
    "# # Create an NMF instance: model\n",
    "# model = NMF(n_components = 6)\n",
    "\n",
    "# # Fit the model to articles\n",
    "# model.fit(articles)\n",
    "\n",
    "# # Transform the articles: nmf_features\n",
    "# nmf_features = model.transform(articles)\n",
    "\n",
    "# # Print the NMF features\n",
    "# print(nmf_features.round(2))\n"
   ]
  },
  {
   "cell_type": "markdown",
   "metadata": {},
   "source": [
    "- Import pandas as pd.\n",
    "- Create a DataFrame df from nmf_features using pd.DataFrame(). Set the index to titles using index=titles.\n",
    "- Use the .loc[] accessor of df to select the row with title 'Anne Hathaway', and print the result. These are the NMF features for the article about the actress Anne Hathaway.\n",
    "- Repeat the last step for 'Denzel Washington' (another actor)."
   ]
  },
  {
   "cell_type": "code",
   "execution_count": 2,
   "metadata": {},
   "outputs": [],
   "source": [
    "# # Import pandas\n",
    "# import pandas as pd\n",
    "\n",
    "# # Create a pandas DataFrame: df\n",
    "# df = pd.DataFrame(nmf_features, index=titles)\n",
    "\n",
    "# # Print the row for 'Anne Hathaway'\n",
    "# print(df.loc['Anne Hathaway'])\n",
    "\n",
    "# # Print the row for 'Denzel Washington'\n",
    "# print(df.loc['Denzel Washington'])\n"
   ]
  },
  {
   "cell_type": "markdown",
   "metadata": {},
   "source": [
    "NMF_SAMPLES = SUM(NMF_COMPONENTS * NMF_FEATURES)"
   ]
  },
  {
   "cell_type": "code",
   "execution_count": 4,
   "metadata": {},
   "outputs": [],
   "source": [
    "# # Import TfidfVectorizer\n",
    "# from sklearn.feature_extraction.text import TfidfVectorizer\n",
    "\n",
    "# # Create a TfidfVectorizer: tfidf\n",
    "# tfidf = TfidfVectorizer() \n",
    "\n",
    "# # Apply fit_transform to document: csr_mat\n",
    "# csr_mat = tfidf.fit_transform(documents)\n",
    "\n",
    "# # Print result of toarray() method\n",
    "# print(csr_mat.toarray())\n",
    "# [[1.  0.5 0. ]\n",
    "#  [0.2 0.1 2.1]]\n"
   ]
  },
  {
   "cell_type": "markdown",
   "metadata": {},
   "source": [
    "- Import pandas as pd.\n",
    "- Create a DataFrame components_df from model.components_, setting columns=words so that columns are labeled by the words.\n",
    "- Print components_df.shape to check the dimensions of the DataFrame.\n",
    "- Use the .iloc[] accessor on the DataFrame components_df to select row 3. Assign the result to component.\n",
    "- Call the .nlargest() method of component, and print the result. This gives the five words with the highest values for that component."
   ]
  },
  {
   "cell_type": "code",
   "execution_count": 5,
   "metadata": {},
   "outputs": [],
   "source": [
    "# # Import pandas\n",
    "# import pandas as pd\n",
    "\n",
    "# # Create a DataFrame: components_df\n",
    "# components_df = pd.DataFrame(model.components_, columns=words)\n",
    "\n",
    "# # Print the shape of the DataFrame\n",
    "# print(components_df.shape)\n",
    "\n",
    "# # Select row 3: component\n",
    "# component = components_df.iloc[3]\n",
    "\n",
    "# # Print result of nlargest\n",
    "# print(component.nlargest())\n"
   ]
  },
  {
   "cell_type": "markdown",
   "metadata": {},
   "source": [
    "- Import matplotlib.pyplot as plt.\n",
    "- Select row 0 of samples and assign the result to digit. For example, to select column 2 of an array a, you could use a[:,2]. Remember that since samples is a NumPy array, you can't use the .loc[] or iloc[] accessors to select specific rows or columns.\n",
    "- Print digit. This has been done for you. Notice that it is a 1D array of 0s and 1s.\n",
    "- Use the .reshape() method of digit to get a 2D array with shape (13, 8). Assign the result to bitmap.\n",
    "- Print bitmap, and notice that the 1s show the digit 7!\n",
    "- Use the plt.imshow() function to display bitmap as an image."
   ]
  },
  {
   "cell_type": "code",
   "execution_count": 6,
   "metadata": {},
   "outputs": [],
   "source": [
    "# # Import pyplot\n",
    "# from matplotlib import pyplot as plt\n",
    "\n",
    "# # Select the 0th row: digit\n",
    "# digit = samples[0,:]\n",
    "\n",
    "# # Print digit\n",
    "# print(digit)\n",
    "\n",
    "# # Reshape digit to a 13x8 array: bitmap\n",
    "# bitmap = digit.reshape(13,8)\n",
    "\n",
    "# # Print bitmap\n",
    "# print(bitmap)\n",
    "\n",
    "# # Use plt.imshow to display bitmap\n",
    "# plt.imshow(bitmap, cmap='gray', interpolation='nearest')\n",
    "# plt.colorbar()\n",
    "# plt.show()\n"
   ]
  },
  {
   "cell_type": "markdown",
   "metadata": {},
   "source": [
    "- Import NMF from sklearn.decomposition.\n",
    "- Create an NMF instance called model with 7 components. (7 is the number of cells in an LED display).\n",
    "- Apply the .fit_transform() method of model to samples. Assign the result to features.\n",
    "- To each component of the model (accessed via model.components_), apply the show_as_image() function to that component inside the loop.\n",
    "- Assign the row 0 of features to digit_features.\n",
    "- Print digit_features."
   ]
  },
  {
   "cell_type": "code",
   "execution_count": 7,
   "metadata": {},
   "outputs": [],
   "source": [
    "def show_as_image(sample):\n",
    "    bitmap = sample.reshape((13, 8))\n",
    "    plt.figure()\n",
    "    plt.imshow(bitmap, cmap='gray', interpolation='nearest')\n",
    "    plt.colorbar()\n",
    "    plt.show()"
   ]
  },
  {
   "cell_type": "code",
   "execution_count": 8,
   "metadata": {},
   "outputs": [],
   "source": [
    "# # Import NMF\n",
    "# from sklearn.decomposition import NMF\n",
    "\n",
    "# # Create an NMF model: model\n",
    "# model = NMF(n_components = 7)\n",
    "\n",
    "# # Apply fit_transform to samples: features\n",
    "# features = model.fit_transform(samples)\n",
    "\n",
    "# # Call show_as_image on each component\n",
    "# for component in model.components_:\n",
    "#     show_as_image(component)\n",
    "\n",
    "# # Select the 0th row of features: digit_features\n",
    "# digit_features = features[0,:]\n",
    "\n",
    "# # Print digit_features\n",
    "# print(digit_features)"
   ]
  },
  {
   "cell_type": "markdown",
   "metadata": {},
   "source": [
    "- Import PCA from sklearn.decomposition.\n",
    "- Create a PCA instance called model with 7 components.\n",
    "- Apply the .fit_transform() method of model to samples. Assign the result to features.\n",
    "- To each component of the model (accessed via model.components_), apply the show_as_image() function to that component inside the loop."
   ]
  },
  {
   "cell_type": "code",
   "execution_count": 9,
   "metadata": {},
   "outputs": [],
   "source": [
    "# # Import PCA\n",
    "# from sklearn.decomposition import PCA\n",
    "\n",
    "# # Create a PCA instance: model\n",
    "# model = PCA(n_components = 7)\n",
    "\n",
    "# # Apply fit_transform to samples: features\n",
    "# features = model.fit_transform(samples)\n",
    "\n",
    "# # Call show_as_image on each component\n",
    "# for component in model.components_:\n",
    "#     show_as_image(component)\n",
    "    "
   ]
  },
  {
   "cell_type": "markdown",
   "metadata": {},
   "source": [
    "- Import normalize from sklearn.preprocessing.\n",
    "- Apply the normalize() function to nmf_features. Store the result as norm_features.\n",
    "- Create a DataFrame df from norm_features, using titles as an index.\n",
    "- Use the .loc[] accessor of df to select the row of 'Cristiano Ronaldo'. Assign the result to article.\n",
    "- Apply the .dot() method of df to article to calculate the cosine similarity of every row with article.\n",
    "- Print the result of the .nlargest() method of similarities to display the most similar articles. This has been done for you, so hit 'Submit Answer' to see the result!"
   ]
  },
  {
   "cell_type": "code",
   "execution_count": 10,
   "metadata": {},
   "outputs": [],
   "source": [
    "# # Perform the necessary imports\n",
    "# import pandas as pd\n",
    "# from sklearn.preprocessing import normalize\n",
    "\n",
    "# # Normalize the NMF features: norm_features\n",
    "# norm_features = normalize(nmf_features)\n",
    "\n",
    "# # Create a DataFrame: df\n",
    "# df = pd.DataFrame(norm_features, index = titles)\n",
    "\n",
    "# # Select the row corresponding to 'Cristiano Ronaldo': article\n",
    "# article = df.loc['Cristiano Ronaldo']\n",
    "\n",
    "# # Compute the dot products: similarities\n",
    "# similarities = df.dot(article)\n",
    "\n",
    "# # Display those with the largest cosine similarity\n",
    "# print(similarities.nlargest())"
   ]
  },
  {
   "cell_type": "markdown",
   "metadata": {},
   "source": [
    "- Import:\n",
    "- NMF from sklearn.decomposition.\n",
    "- Normalizer and MaxAbsScaler from sklearn.preprocessing.\n",
    "- make_pipeline from sklearn.pipeline.\n",
    "- Create an instance of MaxAbsScaler called scaler.\n",
    "- Create an NMF instance with 20 components called nmf.\n",
    "- Create an instance of Normalizer called normalizer.\n",
    "- Create a pipeline called pipeline that chains together scaler, nmf, and normalizer.\n",
    "- Apply the .fit_transform() method of pipeline to artists. Assign the result to norm_features."
   ]
  },
  {
   "cell_type": "code",
   "execution_count": 11,
   "metadata": {},
   "outputs": [],
   "source": [
    "# # Perform the necessary imports\n",
    "# from sklearn.decomposition import NMF\n",
    "# from sklearn.preprocessing import Normalizer , MaxAbsScaler\n",
    "# from sklearn.pipeline import make_pipeline\n",
    "\n",
    "# # Create a MaxAbsScaler: scaler\n",
    "# scaler = MaxAbsScaler()\n",
    "\n",
    "# # Create an NMF model: nmf\n",
    "# nmf = NMF(n_components = 20)\n",
    "\n",
    "# # Create a Normalizer: normalizer\n",
    "# normalizer = Normalizer()\n",
    "\n",
    "# # Create a pipeline: pipeline\n",
    "# pipeline = make_pipeline(scaler, nmf, normalizer)\n",
    "\n",
    "# # Apply fit_transform to artists: norm_features\n",
    "# norm_features = pipeline.fit_transform(artists)\n"
   ]
  },
  {
   "cell_type": "markdown",
   "metadata": {},
   "source": [
    "- Import pandas as pd.\n",
    "- Create a DataFrame df from norm_features, using artist_names as an index.\n",
    "- Use the .loc[] accessor of df to select the row of 'Bruce Springsteen'. Assign the result to artist.\n",
    "- Apply the .dot() method of df to artist to calculate the dot product of every row with artist. Save the result as similarities.\n",
    "- Print the result of the .nlargest() method of similarities to display the artists most similar to 'Bruce Springsteen'."
   ]
  },
  {
   "cell_type": "code",
   "execution_count": 12,
   "metadata": {},
   "outputs": [],
   "source": [
    "# # Import pandas\n",
    "# import pandas as pd\n",
    "\n",
    "# # Create a DataFrame: df\n",
    "# df = pd.DataFrame(norm_features, index= artist_names)\n",
    "\n",
    "# # Select row of 'Bruce Springsteen': artist\n",
    "# artist = df.loc['Bruce Springsteen']\n",
    "\n",
    "# # Compute cosine similarities: similarities\n",
    "# similarities = df.dot(artist)\n",
    "\n",
    "# # Display those with highest cosine similarity\n",
    "# print(similarities.nlargest())\n"
   ]
  }
 ],
 "metadata": {
  "interpreter": {
   "hash": "3fef59229a6e1ff5434759995be53a28a25493efd6d26eb6c004eefe62e31083"
  },
  "kernelspec": {
   "display_name": "Python 3.8.11 ('env_py')",
   "language": "python",
   "name": "python3"
  },
  "language_info": {
   "codemirror_mode": {
    "name": "ipython",
    "version": 3
   },
   "file_extension": ".py",
   "mimetype": "text/x-python",
   "name": "python",
   "nbconvert_exporter": "python",
   "pygments_lexer": "ipython3",
   "version": "3.8.11"
  },
  "orig_nbformat": 4
 },
 "nbformat": 4,
 "nbformat_minor": 2
}
