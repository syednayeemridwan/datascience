{
 "cells": [
  {
   "cell_type": "markdown",
   "metadata": {},
   "source": [
    "- Create an array called xs that contains the values of points[:,0] - that is, column 0 of points.\n",
    "- Create an array called ys that contains the values of points[:,1] - that is, column 1 of points.\n",
    "- Make a scatter plot by passing xs and ys to the plt.scatter() function.\n",
    "- Call the plt.show() function to show your plot."
   ]
  },
  {
   "cell_type": "code",
   "execution_count": 1,
   "metadata": {},
   "outputs": [],
   "source": [
    "# import matplotlib.pyplot as plt\n",
    "\n",
    "# xs = points[:,0]\n",
    "# ys = points[:,1]\n",
    "\n",
    "# plt.scatter(xs, ys)\n",
    "# plt.show()"
   ]
  },
  {
   "cell_type": "markdown",
   "metadata": {},
   "source": [
    "- Import KMeans from sklearn.cluster.\n",
    "- Using KMeans(), create a KMeans instance called model to find 3 clusters. To specify the number of clusters, use the n_clusters keyword argument.\n",
    "- Use the .fit() method of model to fit the model to the array of points points.\n",
    "- Use the .predict() method of model to predict the cluster labels of new_points, assigning the result to labels.\n",
    "- Hit submit to see the cluster labels of new_points."
   ]
  },
  {
   "cell_type": "code",
   "execution_count": 2,
   "metadata": {},
   "outputs": [],
   "source": [
    "# # Import KMeans\n",
    "# from sklearn.cluster import KMeans\n",
    "\n",
    "# # Create a KMeans instance with 3 clusters: model\n",
    "# model = KMeans(n_clusters = 3)\n",
    "\n",
    "# # Fit model to points\n",
    "# model.fit(points)\n",
    "\n",
    "# # Determine the cluster labels of new_points: labels\n",
    "# labels = model.predict(new_points)\n",
    "\n",
    "# # Print cluster labels of new_points\n",
    "# print(labels)\n"
   ]
  },
  {
   "cell_type": "markdown",
   "metadata": {},
   "source": [
    "- Import matplotlib.pyplot as plt.\n",
    "- Assign column 0 of new_points to xs, and column 1 of new_points to ys.\n",
    "- Make a scatter plot of xs and ys, specifying the c=labels keyword arguments to color the points by their cluster label. Also specify alpha=0.5.\n",
    "- Compute the coordinates of the centroids using the .cluster_centers_ attribute of model.\n",
    "- Assign column 0 of centroids to centroids_x, and column 1 of centroids to centroids_y.\n",
    "- Make a scatter plot of centroids_x and centroids_y, using 'D' (a diamond) as a marker by specifying the marker parameter. Set the size of the markers to be 50 using s=50."
   ]
  },
  {
   "cell_type": "code",
   "execution_count": 3,
   "metadata": {},
   "outputs": [],
   "source": [
    "# # Import pyplot\n",
    "# import matplotlib.pyplot as plt\n",
    "\n",
    "# # Assign the columns of new_points: xs and ys\n",
    "# xs = new_points[:,0]\n",
    "# ys = new_points[:,1]\n",
    "\n",
    "# # Make a scatter plot of xs and ys, using labels to define the colors\n",
    "# plt.scatter(xs, ys, c = labels, alpha=0.5)\n",
    "\n",
    "# # Assign the cluster centers: centroids\n",
    "# centroids = model.cluster_centers_\n",
    "\n",
    "# # Assign the columns of centroids: centroids_x, centroids_y\n",
    "# centroids_x = centroids[:,0]\n",
    "# centroids_y = centroids[:,1]\n",
    "\n",
    "# # Make a scatter plot of centroids_x and centroids_y\n",
    "# plt.scatter(centroids_x, centroids_y, marker = 'D', s=50)\n",
    "# plt.show()\n"
   ]
  },
  {
   "cell_type": "markdown",
   "metadata": {},
   "source": [
    "- For each of the given values of k, perform the following steps:\n",
    "- Create a KMeans instance called model with k clusters.\n",
    "- Fit the model to the grain data samples.\n",
    "- Append the value of the inertia_ attribute of model to the list inertias.\n",
    "- The code to plot ks vs inertias has been written for you, so hit submit to see the plot!"
   ]
  },
  {
   "cell_type": "code",
   "execution_count": 5,
   "metadata": {},
   "outputs": [],
   "source": [
    "# ks = range(1, 6)\n",
    "# inertias = []\n",
    "\n",
    "# for k in ks:\n",
    "#     # Create a KMeans instance with k clusters: model\n",
    "#     model = KMeans(n_clusters = k)\n",
    "    \n",
    "#     # Fit model to samples\n",
    "#     model.fit(samples)\n",
    "    \n",
    "#     # Append the inertia to the list of inertias\n",
    "#     inertias.append(model.inertia_)\n",
    "    \n",
    "# # Plot ks vs inertias\n",
    "# plt.plot(ks, inertias, '-o')\n",
    "# plt.xlabel('number of clusters, k')\n",
    "# plt.ylabel('inertia')\n",
    "# plt.xticks(ks)\n",
    "# plt.show()\n"
   ]
  },
  {
   "cell_type": "markdown",
   "metadata": {},
   "source": [
    "- Create a KMeans model called model with 3 clusters.\n",
    "- Use the .fit_predict() method of model to fit it to samples and derive the cluster labels. Using .fit_predict() is the same as using .fit() followed by .predict().\n",
    "- Create a DataFrame df with two columns named 'labels' and 'varieties', using labels and varieties, respectively, for the column values. This has been done for you.\n",
    "- Use the pd.crosstab() function on df['labels'] and df['varieties'] to count the number of times each grain variety coincides with each cluster label. Assign the result to ct.\n",
    "- Hit submit to see the cross-tabulation!"
   ]
  },
  {
   "cell_type": "code",
   "execution_count": 6,
   "metadata": {},
   "outputs": [],
   "source": [
    "# # Create a KMeans model with 3 clusters: model\n",
    "# model = KMeans(n_clusters = 3)\n",
    "\n",
    "# # Use fit_predict to fit model and obtain cluster labels: labels\n",
    "# labels = model.fit_predict(samples)\n",
    "\n",
    "# # Create a DataFrame with labels and varieties as columns: df\n",
    "# df = pd.DataFrame({'labels': labels, 'varieties': varieties})\n",
    "\n",
    "# # Create crosstab: ct\n",
    "# ct = pd.crosstab(df['labels'] , df['varieties'])\n",
    "\n",
    "# # Display ct\n",
    "# print(ct)\n"
   ]
  },
  {
   "cell_type": "markdown",
   "metadata": {},
   "source": [
    "- Import:\n",
    "- make_pipeline from sklearn.pipeline.\n",
    "- StandardScaler from sklearn.preprocessing.\n",
    "- KMeans from sklearn.cluster.\n",
    "- Create an instance of StandardScaler called scaler.\n",
    "- Create an instance of KMeans with 4 clusters called kmeans.\n",
    "- Create a pipeline called pipeline that chains scaler and kmeans. To do this, you just need to pass them in as arguments to make_pipeline()."
   ]
  },
  {
   "cell_type": "code",
   "execution_count": 7,
   "metadata": {},
   "outputs": [],
   "source": [
    "# # Perform the necessary imports\n",
    "# from sklearn.pipeline import make_pipeline\n",
    "# from sklearn.preprocessing import StandardScaler\n",
    "# from sklearn.cluster import KMeans\n",
    "\n",
    "# # Create scaler: scaler\n",
    "# scaler = StandardScaler()\n",
    "\n",
    "# # Create KMeans instance: kmeans\n",
    "# kmeans = KMeans(n_clusters = 4)\n",
    "\n",
    "# # Create pipeline: pipeline\n",
    "# pipeline = make_pipeline(scaler, kmeans)\n"
   ]
  },
  {
   "cell_type": "markdown",
   "metadata": {},
   "source": [
    "- Import pandas as pd.\n",
    "- Fit the pipeline to the fish measurements samples.\n",
    "- Obtain the cluster labels for samples by using the .predict() method of pipeline.\n",
    "- Using pd.DataFrame(), create a DataFrame df with two columns named 'labels' and 'species', using labels and species, respectively, for the column values.\n",
    "- Using pd.crosstab(), create a cross-tabulation ct of df['labels'] and df['species']."
   ]
  },
  {
   "cell_type": "code",
   "execution_count": 8,
   "metadata": {},
   "outputs": [],
   "source": [
    "# # Import pandas\n",
    "# import pandas as pd\n",
    "\n",
    "# # Fit the pipeline to samples\n",
    "# pipeline.fit(samples)\n",
    "\n",
    "# # Calculate the cluster labels: labels\n",
    "# labels = pipeline.predict(samples)\n",
    "\n",
    "# # Create a DataFrame with labels and species as columns: df\n",
    "# df = pd.DataFrame({'labels':labels , 'species':species})\n",
    "\n",
    "# # Create crosstab: ct\n",
    "# ct = pd.crosstab(df['labels'] , df['species'])\n",
    "\n",
    "# # Display ct\n",
    "# print(ct)\n"
   ]
  },
  {
   "cell_type": "markdown",
   "metadata": {},
   "source": [
    "- Import Normalizer from sklearn.preprocessing.\n",
    "- Create an instance of Normalizer called normalizer.\n",
    "- Create an instance of KMeans called kmeans with 10 clusters.\n",
    "- Using make_pipeline(), create a pipeline called pipeline that chains normalizer and kmeans.\n",
    "- Fit the pipeline to the movements array."
   ]
  },
  {
   "cell_type": "code",
   "execution_count": 9,
   "metadata": {},
   "outputs": [],
   "source": [
    "# # Import Normalizer\n",
    "# from sklearn.preprocessing import Normalizer\n",
    "\n",
    "# # Create a normalizer: normalizer\n",
    "# normalizer = Normalizer()\n",
    "\n",
    "# # Create a KMeans model with 10 clusters: kmeans\n",
    "# kmeans = KMeans(n_clusters = 10)\n",
    "\n",
    "# # Make a pipeline chaining normalizer and kmeans: pipeline\n",
    "# pipeline = make_pipeline(normalizer, kmeans)\n",
    "\n",
    "# # Fit pipeline to the daily price movements\n",
    "# pipeline.fit(movements)\n"
   ]
  },
  {
   "cell_type": "markdown",
   "metadata": {},
   "source": [
    "- Import pandas as pd.\n",
    "- Use the .predict() method of the pipeline to predict the labels for movements.\n",
    "- Align the cluster labels with the list of company names companies by creating a DataFrame df with labels and companies as columns. This has been done for you.\n",
    "- Use the .sort_values() method of df to sort the DataFrame by the 'labels' column, and print the result.\n",
    "- Hit submit and take a moment to see which companies are together in each cluster!"
   ]
  },
  {
   "cell_type": "code",
   "execution_count": 10,
   "metadata": {},
   "outputs": [],
   "source": [
    "# # Import pandas\n",
    "# import pandas as pd\n",
    "\n",
    "# # Predict the cluster labels: labels\n",
    "# labels = pipeline.predict(movements)\n",
    "\n",
    "# # Create a DataFrame aligning labels and companies: df\n",
    "# df = pd.DataFrame({'labels': labels, 'companies': companies})\n",
    "\n",
    "# # Display df sorted by cluster label\n",
    "# print(df.sort_values('labels'))\n"
   ]
  }
 ],
 "metadata": {
  "interpreter": {
   "hash": "3fef59229a6e1ff5434759995be53a28a25493efd6d26eb6c004eefe62e31083"
  },
  "kernelspec": {
   "display_name": "Python 3.8.11 ('env_py')",
   "language": "python",
   "name": "python3"
  },
  "language_info": {
   "codemirror_mode": {
    "name": "ipython",
    "version": 3
   },
   "file_extension": ".py",
   "mimetype": "text/x-python",
   "name": "python",
   "nbconvert_exporter": "python",
   "pygments_lexer": "ipython3",
   "version": "3.8.11"
  },
  "orig_nbformat": 4
 },
 "nbformat": 4,
 "nbformat_minor": 2
}
