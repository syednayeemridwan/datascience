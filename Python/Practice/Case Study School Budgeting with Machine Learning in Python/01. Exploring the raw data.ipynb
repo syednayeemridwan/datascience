{
 "cells": [
  {
   "cell_type": "markdown",
   "metadata": {},
   "source": [
    "- The training data is available as TrainingData.csv. Your first task is to load it into a DataFrame in the IPython Shell using pd.read_csv() along with the keyword argument index_col=0.\n",
    "- Use methods such as .info(), .head(), .describe() and .tail() to explore the budget data and the properties of the features and labels."
   ]
  },
  {
   "cell_type": "code",
   "execution_count": 1,
   "metadata": {},
   "outputs": [],
   "source": [
    "# import pandas as pd\n",
    "# df = pd.read_csv(\"TrainingData.csv\", index_col=0)\n",
    "\n",
    "# df.head()\n",
    "\n",
    "# df.info()\n",
    "\n",
    "# df.tail()\n",
    "\n",
    "# df.describe()"
   ]
  },
  {
   "cell_type": "markdown",
   "metadata": {},
   "source": [
    "- Print summary statistics of the numeric columns in the DataFrame df using the .describe() method.\n",
    "- Import matplotlib.pyplot as plt.\n",
    "- Create a histogram of the non-null 'FTE' column. You can do this by passing df['FTE'].dropna() to plt.hist().\n",
    "- The title has been specified and axes have been labeled, so hit submit to see how often school employees work full-time!"
   ]
  },
  {
   "cell_type": "code",
   "execution_count": 2,
   "metadata": {},
   "outputs": [],
   "source": [
    "# # Print the summary statistics\n",
    "# print(df.describe())\n",
    "\n",
    "# # Import matplotlib.pyplot as plt\n",
    "# import matplotlib.pyplot as plt\n",
    "\n",
    "# # Create the histogram\n",
    "# plt.hist(df['FTE'].dropna())\n",
    "\n",
    "# # Add title and labels\n",
    "# plt.title('Distribution of %full-time \\n employee works')\n",
    "# plt.xlabel('% of full-time')\n",
    "# plt.ylabel('num employees')\n",
    "\n",
    "# # Display the histogram\n",
    "# plt.show()"
   ]
  },
  {
   "cell_type": "markdown",
   "metadata": {},
   "source": [
    "How many columns with dtype object are in the data?"
   ]
  },
  {
   "cell_type": "code",
   "execution_count": 3,
   "metadata": {},
   "outputs": [],
   "source": [
    "# df.dtypes.value_counts()"
   ]
  },
  {
   "cell_type": "markdown",
   "metadata": {},
   "source": [
    "- Define the lambda function categorize_label to convert column x into x.astype('category').\n",
    "- Use the LABELS list provided to convert the subset of data df[LABELS] to categorical types using the .apply() method and categorize_label. Don't forget axis=0.\n",
    "- Print the converted .dtypes attribute of df[LABELS]."
   ]
  },
  {
   "cell_type": "code",
   "execution_count": 4,
   "metadata": {},
   "outputs": [],
   "source": [
    "# # Define the lambda function: categorize_label\n",
    "# categorize_label = lambda x: x.astype('category')\n",
    "\n",
    "# # Convert df[LABELS] to a categorical type\n",
    "# df[LABELS] = df[LABELS].apply(categorize_label)\n",
    "\n",
    "# # Print the converted dtypes\n",
    "# print(df[LABELS].dtypes)"
   ]
  },
  {
   "cell_type": "markdown",
   "metadata": {},
   "source": [
    "- Create the DataFrame num_unique_labels by using the .apply() method on df[LABELS] with pd.Series.nunique as the argument.\n",
    "- Create a bar plot of num_unique_labels using pandas' .plot(kind='bar') method.\n",
    "- The axes have been labeled for you, so hit submit to see the number of unique values for each label."
   ]
  },
  {
   "cell_type": "code",
   "execution_count": 5,
   "metadata": {},
   "outputs": [],
   "source": [
    "# # Import matplotlib.pyplot\n",
    "# import matplotlib.pyplot as plt\n",
    "\n",
    "# # Calculate number of unique values for each label: num_unique_labels\n",
    "# num_unique_labels = df[LABELS].apply(pd.Series.nunique)\n",
    "\n",
    "# # Plot number of unique values for each label\n",
    "# num_unique_labels.plot(kind='bar')\n",
    "\n",
    "# # Label the axes\n",
    "# plt.xlabel('Labels')\n",
    "# plt.ylabel('Number of unique values')\n",
    "\n",
    "# # Display the plot\n",
    "# plt.show()"
   ]
  },
  {
   "cell_type": "markdown",
   "metadata": {},
   "source": [
    "- Using the compute_log_loss() function, compute the log loss for the following predicted values (in each case, the actual values are contained in actual_labels):\n",
    "- correct_confident.\n",
    "- correct_not_confident.\n",
    "- wrong_not_confident.\n",
    "- wrong_confident.\n",
    "- actual_labels."
   ]
  },
  {
   "cell_type": "code",
   "execution_count": 6,
   "metadata": {},
   "outputs": [],
   "source": [
    "import numpy as np\n",
    "def compute_log_loss(predicted, actual, eps=1e-14):\n",
    "    \"\"\" Computes the logarithmic loss between predicted and\n",
    "    actual when these are 1D arrays.\n",
    "    :param predicted: The predicted probabilities as floats between 0-1\n",
    "    :param actual: The actual binary labels. Either 0 or 1.\n",
    "    :param eps (optional): log(0) is inf, so we need to offset our\n",
    "    predicted values slightly by eps from 0 or 1.\n",
    "    \"\"\"\n",
    "    predicted = np.clip(predicted, eps, 1 - eps)\n",
    "    loss = -1 * np.mean(actual * np.log(predicted)\n",
    "    + (1 - actual)\n",
    "    * np.log(1 - predicted))\n",
    "    return loss"
   ]
  },
  {
   "cell_type": "code",
   "execution_count": 7,
   "metadata": {},
   "outputs": [],
   "source": [
    "# # Compute and print log loss for 1st case\n",
    "# correct_confident_loss = compute_log_loss(correct_confident, actual_labels)\n",
    "# print(\"Log loss, correct and confident: {}\".format(correct_confident_loss)) \n",
    "\n",
    "# # Compute log loss for 2nd case\n",
    "# correct_not_confident_loss = compute_log_loss(correct_not_confident, actual_labels)\n",
    "# print(\"Log loss, correct and not confident: {}\".format(correct_not_confident_loss)) \n",
    "\n",
    "# # Compute and print log loss for 3rd case\n",
    "# wrong_not_confident_loss = compute_log_loss(wrong_not_confident, actual_labels)\n",
    "# print(\"Log loss, wrong and not confident: {}\".format(wrong_not_confident_loss)) \n",
    "\n",
    "# # Compute and print log loss for 4th case\n",
    "# wrong_confident_loss = compute_log_loss(wrong_confident, actual_labels)\n",
    "# print(\"Log loss, wrong and confident: {}\".format(wrong_confident_loss)) \n",
    "\n",
    "# # Compute and print log loss for actual labels\n",
    "# actual_labels_loss = compute_log_loss(actual_labels, actual_labels)\n",
    "# print(\"Log loss, actual labels: {}\".format(actual_labels_loss)) \n"
   ]
  }
 ],
 "metadata": {
  "interpreter": {
   "hash": "3fef59229a6e1ff5434759995be53a28a25493efd6d26eb6c004eefe62e31083"
  },
  "kernelspec": {
   "display_name": "Python 3.8.11 ('env_py')",
   "language": "python",
   "name": "python3"
  },
  "language_info": {
   "codemirror_mode": {
    "name": "ipython",
    "version": 3
   },
   "file_extension": ".py",
   "mimetype": "text/x-python",
   "name": "python",
   "nbconvert_exporter": "python",
   "pygments_lexer": "ipython3",
   "version": "3.8.11"
  },
  "orig_nbformat": 4
 },
 "nbformat": 4,
 "nbformat_minor": 2
}
