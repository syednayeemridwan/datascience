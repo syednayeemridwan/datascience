{
 "cells": [
  {
   "cell_type": "markdown",
   "metadata": {},
   "source": [
    "- Semi Join = Inner Join (Left Table, Right Table) - Right Table Columns\n",
    "- Anti Join = Left_Table_Set - Right_Table_Set - Right Table Columns [Left_Table_Set - Right_Table_Set is a set operation]"
   ]
  },
  {
   "cell_type": "markdown",
   "metadata": {},
   "source": [
    "Semi Join Steps:\n",
    "1. Do inner join on 2 tables\n",
    "2. Search if Left Table column isin() merged table\n",
    "3. Return the Left Table with values where isin() is true [Using subsetting]"
   ]
  },
  {
   "cell_type": "markdown",
   "metadata": {},
   "source": [
    "- Merge employees and top_cust with a left join, setting indicator argument to True. Save the result to empl_cust."
   ]
  },
  {
   "cell_type": "code",
   "execution_count": 1,
   "metadata": {},
   "outputs": [],
   "source": [
    "# Merge employees and top_cust\n",
    "#empl_cust = employees.merge(top_cust, on=\"srid\", \n",
    "#               how=\"left\", indicator=True)"
   ]
  },
  {
   "cell_type": "markdown",
   "metadata": {},
   "source": [
    "- Select the srid column of empl_cust and the rows where _merge is 'left_only'. Save the result to srid_list."
   ]
  },
  {
   "cell_type": "code",
   "execution_count": 3,
   "metadata": {},
   "outputs": [],
   "source": [
    "## Select the srid column where _merge is left_only\n",
    "#srid_list = empl_cust.loc[:, ['srid','_merge']]\n",
    "#srid_list = srid_list[srid_list['_merge']=='left_only']\n",
    "#srid_list = srid_list.loc[:,'srid']"
   ]
  },
  {
   "cell_type": "markdown",
   "metadata": {},
   "source": [
    "- Subset the employees table and select those rows where the srid is in the variable srid_list and print the results."
   ]
  },
  {
   "cell_type": "code",
   "execution_count": 5,
   "metadata": {},
   "outputs": [],
   "source": [
    "# Get employees not working with top customers\n",
    "# print(employees[employees['srid'].isin(srid_list)])"
   ]
  },
  {
   "cell_type": "markdown",
   "metadata": {},
   "source": [
    "- Merge non_mus_tcks and top_invoices on tid using an inner join. Save the result as tracks_invoices.\n",
    "- Use .isin() to subset the rows of non_mus_tck where tid is in the tid column of tracks_invoices. Save the result as top_tracks.\n",
    "- Group top_tracks by gid and count the tid rows. Save the result to cnt_by_gid.\n",
    "- Merge cnt_by_gid with the genres table on gid and print the result."
   ]
  },
  {
   "cell_type": "code",
   "execution_count": 6,
   "metadata": {},
   "outputs": [],
   "source": [
    "# Merge the non_mus_tck and top_invoices tables on tid\n",
    "#tracks_invoices = non_mus_tcks.merge(top_invoices, on = \"tid\", how= \"inner\")\n",
    "\n",
    "# Use .isin() to subset non_mus_tcks to rows with tid in tracks_invoices\n",
    "#top_tracks = non_mus_tcks[non_mus_tcks['tid'].isin(tracks_invoices['tid'])]\n",
    "\n",
    "# Group the top_tracks by gid and count the tid rows\n",
    "#cnt_by_gid = top_tracks.groupby(['gid'], as_index=False).agg({'tid':'count'})\n",
    "\n",
    "# Merge the genres table to cnt_by_gid on gid and print\n",
    "#print(cnt_by_gid.merge(genres, on=\"gid\"))"
   ]
  },
  {
   "cell_type": "markdown",
   "metadata": {},
   "source": [
    "- Concatenate tracks_master, tracks_ride, and tracks_st, in that order, setting sort to True."
   ]
  },
  {
   "cell_type": "code",
   "execution_count": 7,
   "metadata": {},
   "outputs": [],
   "source": [
    "# Concatenate the tracks\n",
    "#tracks_from_albums = pd.concat([tracks_master, tracks_ride, tracks_st],\n",
    " #                              sort=True)\n",
    "#print(tracks_from_albums)"
   ]
  },
  {
   "cell_type": "markdown",
   "metadata": {},
   "source": [
    "- Concatenate tracks_master, tracks_ride, and tracks_st, where the index goes from 0 to n-1."
   ]
  },
  {
   "cell_type": "code",
   "execution_count": 9,
   "metadata": {},
   "outputs": [],
   "source": [
    "# Concatenate the tracks so the index goes from 0 to n-1\n",
    "#tracks_from_albums = pd.concat([tracks_master, tracks_ride, tracks_st],\n",
    " #                              ignore_index=True,\n",
    "  #                             sort=True)\n",
    "#print(tracks_from_albums)"
   ]
  },
  {
   "cell_type": "markdown",
   "metadata": {},
   "source": [
    "- Concatenate tracks_master, tracks_ride, and tracks_st, showing only columns that are in all tables."
   ]
  },
  {
   "cell_type": "code",
   "execution_count": 10,
   "metadata": {},
   "outputs": [],
   "source": [
    "# Concatenate the tracks, show only columns names that are in all tables\n",
    "#tracks_from_albums = pd.concat([tracks_master, tracks_ride, tracks_st],\n",
    " #                              join='inner',\n",
    "  #                             sort=True)\n",
    "#print(tracks_from_albums)"
   ]
  },
  {
   "cell_type": "markdown",
   "metadata": {},
   "source": [
    "- Concatenate the three tables together vertically in order with the oldest month first, adding '7Jul', '8Aug', and '9Sep' as keys for their respective months, and save to variable avg_inv_by_month.\n",
    "- Use the .agg() method to find the average of the total column from the grouped invoices.\n",
    "- Create a bar chart of avg_inv_by_month."
   ]
  },
  {
   "cell_type": "code",
   "execution_count": 11,
   "metadata": {},
   "outputs": [],
   "source": [
    "import matplotlib.pyplot as plt\n",
    "# Concatenate the tables and add keys\n",
    "#inv_jul_thr_sep = pd.concat([inv_jul, inv_aug, inv_sep], \n",
    " #                           keys=['7Jul', '8Aug', '9Sep'])\n",
    "\n",
    "# Group the invoices by the index keys and find avg of the total column\n",
    "#avg_inv_by_month = inv_jul_thr_sep.groupby(level=0).agg({'total':'mean'})\n",
    "\n",
    "# Bar plot of avg_inv_by_month\n",
    "#avg_inv_by_month.plot(kind=\"bar\")\n",
    "#plt.show()"
   ]
  },
  {
   "cell_type": "markdown",
   "metadata": {},
   "source": [
    "- Use the .append() method to combine (in this order) tracks_ride, tracks_master, and tracks_st together vertically, and save to metallica_tracks.\n",
    "- Merge metallica_tracks and invoice_items on tid with an inner join, and save to tracks_invoices.\n",
    "- For each tid and name in tracks_invoices, sum the quantity sold column, and save as tracks_sold.\n",
    "- Sort tracks_sold in descending order by the quantity column, and print the table."
   ]
  },
  {
   "cell_type": "code",
   "execution_count": 12,
   "metadata": {},
   "outputs": [],
   "source": [
    "# Use the .append() method to combine the tracks tables\n",
    "#metallica_tracks = tracks_ride.append([tracks_master, tracks_st], sort=False)\n",
    "\n",
    "# Merge metallica_tracks and invoice_items\n",
    "#tracks_invoices = metallica_tracks.merge(invoice_items, on= \"tid\")\n",
    "\n",
    "# For each tid and name sum the quantity sold\n",
    "#tracks_sold = tracks_invoices.groupby(['tid','name']).agg({'quantity' : 'sum'})\n",
    "\n",
    "# Sort in decending order by quantity and print the results\n",
    "#print(tracks_sold.sort_values('quantity',ascending = False))"
   ]
  },
  {
   "cell_type": "markdown",
   "metadata": {},
   "source": [
    "-  artists.merge(albums, on='artid').head(). Adjust the validate argument to answer which statement is False"
   ]
  },
  {
   "cell_type": "markdown",
   "metadata": {},
   "source": [
    "You can use 'many_to_one' without an error, since there is a duplicate key in the left table."
   ]
  },
  {
   "cell_type": "markdown",
   "metadata": {},
   "source": [
    "- Concatenate the classic_18 and classic_19 tables vertically where the index goes from 0 to n-1, and save to classic_18_19.\n",
    "- Concatenate the pop_18 and pop_19 tables vertically where the index goes from 0 to n-1, and save to pop_18_19."
   ]
  },
  {
   "cell_type": "code",
   "execution_count": 14,
   "metadata": {},
   "outputs": [],
   "source": [
    "# Concatenate the classic tables vertically\n",
    "#classic_18_19 = pd.concat([classic_18 , classic_19],ignore_index=True)\n",
    "\n",
    "# Concatenate the pop tables vertically\n",
    "#pop_18_19 = pd.concat([pop_18 , pop_19],ignore_index=True)"
   ]
  },
  {
   "cell_type": "markdown",
   "metadata": {},
   "source": [
    "- With classic_18_19 on the left, merge it with pop_18_19 on tid using an inner join.\n",
    "- Use .isin() to filter classic_18_19 where tid is in classic_pop."
   ]
  },
  {
   "cell_type": "code",
   "execution_count": 15,
   "metadata": {},
   "outputs": [],
   "source": [
    "# Merge classic_18_19 with pop_18_19\n",
    "#classic_pop = classic_18_19.merge(pop_18_19, on=\"tid\", how=\"inner\")\n",
    "\n",
    "# Using .isin(), filter classic_18_19 rows where tid is in classic_pop\n",
    "#popular_classic = classic_18_19[classic_18_19[\"tid\"].isin(classic_pop[\"tid\"])]\n",
    "\n",
    "# Print popular chart\n",
    "#print(popular_classic)"
   ]
  },
  {
   "cell_type": "code",
   "execution_count": null,
   "metadata": {},
   "outputs": [],
   "source": []
  }
 ],
 "metadata": {
  "interpreter": {
   "hash": "3fef59229a6e1ff5434759995be53a28a25493efd6d26eb6c004eefe62e31083"
  },
  "kernelspec": {
   "display_name": "Python 3.8.11 ('env_py')",
   "language": "python",
   "name": "python3"
  },
  "language_info": {
   "codemirror_mode": {
    "name": "ipython",
    "version": 3
   },
   "file_extension": ".py",
   "mimetype": "text/x-python",
   "name": "python",
   "nbconvert_exporter": "python",
   "pygments_lexer": "ipython3",
   "version": "3.8.11"
  },
  "orig_nbformat": 4
 },
 "nbformat": 4,
 "nbformat_minor": 2
}
