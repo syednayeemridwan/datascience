{
 "cells": [
  {
   "cell_type": "markdown",
   "metadata": {},
   "source": [
    "- What column is likely the best column to merge the two tables on?"
   ]
  },
  {
   "cell_type": "code",
   "execution_count": 2,
   "metadata": {},
   "outputs": [
    {
     "name": "stdout",
     "output_type": "stream",
     "text": [
      "      id                 title  popularity release_date\n",
      "0    257          Oliver Twist   20.415572   2005-09-23\n",
      "1  14290  Better Luck Tomorrow    3.877036   2002-01-12\n",
      "2  38365             Grown Ups   38.864027   2010-06-24\n",
      "3   9672              Infamous    3.680896   2006-11-16\n",
      "4  12819       Alpha and Omega   12.300789   2010-09-17\n",
      "................................\n",
      "       id     budget       revenue\n",
      "0   19995  237000000  2.787965e+09\n",
      "1     285  300000000  9.610000e+08\n",
      "2  206647  245000000  8.806746e+08\n",
      "3   49026  250000000  1.084939e+09\n",
      "4   49529  260000000  2.841391e+08\n"
     ]
    }
   ],
   "source": [
    "import pickle\n",
    "\n",
    "movies = pickle.load(open(\"movies.p\", \"rb\"))\n",
    "financials = pickle.load(open(\"financials.p\", \"rb\"))\n",
    "\n",
    "print(movies.head())\n",
    "print(\"................................\")\n",
    "print(financials.head())\n",
    "\n",
    "answer = \"on='id'\""
   ]
  },
  {
   "cell_type": "markdown",
   "metadata": {},
   "source": [
    "- Merge the movies table, as the left table, with the financials table using a left join, and save the result to movies_financials."
   ]
  },
  {
   "cell_type": "code",
   "execution_count": 3,
   "metadata": {},
   "outputs": [
    {
     "name": "stdout",
     "output_type": "stream",
     "text": [
      "      id                 title  popularity release_date      budget  \\\n",
      "0    257          Oliver Twist   20.415572   2005-09-23  50000000.0   \n",
      "1  14290  Better Luck Tomorrow    3.877036   2002-01-12         NaN   \n",
      "2  38365             Grown Ups   38.864027   2010-06-24  80000000.0   \n",
      "3   9672              Infamous    3.680896   2006-11-16  13000000.0   \n",
      "4  12819       Alpha and Omega   12.300789   2010-09-17  20000000.0   \n",
      "\n",
      "       revenue  \n",
      "0   42093706.0  \n",
      "1          NaN  \n",
      "2  271430189.0  \n",
      "3    1151330.0  \n",
      "4   39300000.0  \n"
     ]
    }
   ],
   "source": [
    "# Merge movies and financials with a left join\n",
    "movies_financials = movies.merge(financials, on=\"id\", how=\"left\")\n",
    "print(movies_financials.head())"
   ]
  },
  {
   "cell_type": "markdown",
   "metadata": {},
   "source": [
    "- Count the number of rows in movies_financials with a null value in the budget column."
   ]
  },
  {
   "cell_type": "code",
   "execution_count": 4,
   "metadata": {},
   "outputs": [
    {
     "name": "stdout",
     "output_type": "stream",
     "text": [
      "1574\n"
     ]
    }
   ],
   "source": [
    "# Count the number of rows in the budget column that are missing\n",
    "number_of_missing_fin = movies_financials['budget'].isnull().sum()\n",
    "\n",
    "# Print the number of movies missing financials\n",
    "print(number_of_missing_fin)"
   ]
  },
  {
   "cell_type": "markdown",
   "metadata": {},
   "source": [
    "- Merge toy_story and taglines on the id column with a left join, and save the result as toystory_tag."
   ]
  },
  {
   "cell_type": "code",
   "execution_count": 5,
   "metadata": {},
   "outputs": [
    {
     "name": "stdout",
     "output_type": "stream",
     "text": [
      "         id                 title  popularity release_date  \\\n",
      "0       257          Oliver Twist   20.415572   2005-09-23   \n",
      "1     14290  Better Luck Tomorrow    3.877036   2002-01-12   \n",
      "2     38365             Grown Ups   38.864027   2010-06-24   \n",
      "3      9672              Infamous    3.680896   2006-11-16   \n",
      "4     12819       Alpha and Omega   12.300789   2010-09-17   \n",
      "...     ...                   ...         ...          ...   \n",
      "4798   3089             Red River    5.344815   1948-08-26   \n",
      "4799  11934   The Hudsucker Proxy   14.188982   1994-03-11   \n",
      "4800  13807                Exiled    8.486390   2006-09-06   \n",
      "4801  73873          Albert Nobbs    7.802245   2011-12-21   \n",
      "4802  11622   Blast from the Past    8.737058   1999-02-12   \n",
      "\n",
      "                                                tagline  \n",
      "0                                                   NaN  \n",
      "1                  Never underestimate an overachiever.  \n",
      "2       Boys will be boys. . . some longer than others.  \n",
      "3               There's more to the story than you know  \n",
      "4                                A Pawsome 3D Adventure  \n",
      "...                                                 ...  \n",
      "4798  Big as the men who faced this challenge! Bold ...  \n",
      "4799  They took him for a fall guy... but he threw t...  \n",
      "4800                                                NaN  \n",
      "4801         A man with a secret. A woman with a dream.  \n",
      "4802  She'd never met anyone like him. He's never me...  \n",
      "\n",
      "[4803 rows x 5 columns]\n",
      "(4803, 5)\n"
     ]
    }
   ],
   "source": [
    "taglines = pickle.load(open(\"taglines.p\", \"rb\"))\n",
    "\n",
    "# Merge the toy_story and taglines tables with a left join\n",
    "toystory_tag = movies.merge(taglines, on=\"id\", how=\"left\")\n",
    "\n",
    "# Print the rows and shape of toystory_tag\n",
    "print(toystory_tag)\n",
    "print(toystory_tag.shape)"
   ]
  },
  {
   "cell_type": "markdown",
   "metadata": {},
   "source": [
    "- With toy_story as the left table, merge to it taglines on the id column with an inner join, and save as toystory_tag."
   ]
  },
  {
   "cell_type": "code",
   "execution_count": 6,
   "metadata": {},
   "outputs": [
    {
     "name": "stdout",
     "output_type": "stream",
     "text": [
      "         id                 title  popularity release_date  \\\n",
      "0     14290  Better Luck Tomorrow    3.877036   2002-01-12   \n",
      "1     38365             Grown Ups   38.864027   2010-06-24   \n",
      "2      9672              Infamous    3.680896   2006-11-16   \n",
      "3     12819       Alpha and Omega   12.300789   2010-09-17   \n",
      "4     49529           John Carter   43.926995   2012-03-07   \n",
      "...     ...                   ...         ...          ...   \n",
      "3950  12281            Mean Creek    8.519202   2004-01-15   \n",
      "3951   3089             Red River    5.344815   1948-08-26   \n",
      "3952  11934   The Hudsucker Proxy   14.188982   1994-03-11   \n",
      "3953  73873          Albert Nobbs    7.802245   2011-12-21   \n",
      "3954  11622   Blast from the Past    8.737058   1999-02-12   \n",
      "\n",
      "                                                tagline  \n",
      "0                  Never underestimate an overachiever.  \n",
      "1       Boys will be boys. . . some longer than others.  \n",
      "2               There's more to the story than you know  \n",
      "3                                A Pawsome 3D Adventure  \n",
      "4                  Lost in our world, found in another.  \n",
      "...                                                 ...  \n",
      "3950        Beneath the surface, everyone has a secret.  \n",
      "3951  Big as the men who faced this challenge! Bold ...  \n",
      "3952  They took him for a fall guy... but he threw t...  \n",
      "3953         A man with a secret. A woman with a dream.  \n",
      "3954  She'd never met anyone like him. He's never me...  \n",
      "\n",
      "[3955 rows x 5 columns]\n",
      "(3955, 5)\n"
     ]
    }
   ],
   "source": [
    "# Merge the toy_story and taglines tables with a inner join\n",
    "toystory_tag = movies.merge(taglines, on=\"id\", how=\"inner\")\n",
    "\n",
    "# Print the rows and shape of toystory_tag\n",
    "print(toystory_tag)\n",
    "print(toystory_tag.shape)"
   ]
  },
  {
   "cell_type": "markdown",
   "metadata": {},
   "source": [
    "\n",
    "The output of a one-to-many merge with a left join will have greater than or equal rows than the left table."
   ]
  },
  {
   "cell_type": "code",
   "execution_count": 7,
   "metadata": {},
   "outputs": [
    {
     "name": "stdout",
     "output_type": "stream",
     "text": [
      "   movie_id            genre\n",
      "0         5            Crime\n",
      "1         5           Comedy\n",
      "2        11  Science Fiction\n",
      "3        11           Action\n",
      "4        11        Adventure\n"
     ]
    }
   ],
   "source": [
    "movie_to_genres = pickle.load(open(\"movie_to_genres.p\", \"rb\"))\n",
    "\n",
    "print(movie_to_genres.head())\n",
    "\n",
    "scifi_movies = movie_to_genres[movie_to_genres[\"genre\"]==\"Science Fiction\"]\n",
    "action_movies = movie_to_genres[movie_to_genres[\"genre\"]==\"Action\"]"
   ]
  },
  {
   "cell_type": "markdown",
   "metadata": {},
   "source": [
    "- Merge action_movies and scifi_movies tables with a right join on movie_id. Save the result as action_scifi."
   ]
  },
  {
   "cell_type": "code",
   "execution_count": 8,
   "metadata": {},
   "outputs": [],
   "source": [
    "# Merge action_movies to scifi_movies with right join\n",
    "action_scifi = action_movies.merge(scifi_movies, on=\"movie_id\", how = \"right\")"
   ]
  },
  {
   "cell_type": "markdown",
   "metadata": {},
   "source": [
    "- Update the merge to add suffixes, where '_act' and '_sci' are suffixes for the left and right tables, respectively."
   ]
  },
  {
   "cell_type": "code",
   "execution_count": 9,
   "metadata": {},
   "outputs": [
    {
     "name": "stdout",
     "output_type": "stream",
     "text": [
      "   movie_id genre_act        genre_sci\n",
      "0        11    Action  Science Fiction\n",
      "1        18    Action  Science Fiction\n",
      "2        19       NaN  Science Fiction\n",
      "3        38       NaN  Science Fiction\n",
      "4        62       NaN  Science Fiction\n"
     ]
    }
   ],
   "source": [
    "# Merge action_movies to scifi_movies with right join\n",
    "action_scifi = action_movies.merge(scifi_movies, on='movie_id', how='right', suffixes = ('_act' , '_sci')\n",
    "                                   )\n",
    "\n",
    "# Print the first few rows of action_scifi to see the structure\n",
    "print(action_scifi.head())"
   ]
  },
  {
   "cell_type": "markdown",
   "metadata": {},
   "source": [
    "- From action_scifi, subset only the rows where the genre_act column is null."
   ]
  },
  {
   "cell_type": "code",
   "execution_count": 10,
   "metadata": {},
   "outputs": [
    {
     "name": "stdout",
     "output_type": "stream",
     "text": [
      "   movie_id genre_act        genre_sci\n",
      "2        19       NaN  Science Fiction\n",
      "3        38       NaN  Science Fiction\n",
      "4        62       NaN  Science Fiction\n",
      "5        68       NaN  Science Fiction\n",
      "6        74       NaN  Science Fiction\n"
     ]
    }
   ],
   "source": [
    "# Merge action_movies to the scifi_movies with right join\n",
    "action_scifi = action_movies.merge(scifi_movies, on='movie_id', how='right',\n",
    "                                   suffixes=('_act','_sci'))\n",
    "\n",
    "# From action_scifi, select only the rows where the genre_act column is null\n",
    "scifi_only = action_scifi[action_scifi[\"genre_act\"].isnull()]\n",
    "\n",
    "print(scifi_only.head())"
   ]
  },
  {
   "cell_type": "markdown",
   "metadata": {},
   "source": [
    "- Merge movies and scifi_only using the id column in the left table and the movie_id column in the right table with an inner join."
   ]
  },
  {
   "cell_type": "code",
   "execution_count": 11,
   "metadata": {},
   "outputs": [
    {
     "name": "stdout",
     "output_type": "stream",
     "text": [
      "      id                         title  popularity release_date  movie_id  \\\n",
      "0  18841  The Lost Skeleton of Cadavra    1.680525   2001-09-12     18841   \n",
      "1  26672     The Thief and the Cobbler    2.439184   1993-09-23     26672   \n",
      "2  15301      Twilight Zone: The Movie   12.902975   1983-06-24     15301   \n",
      "3   8452                   The 6th Day   18.447479   2000-11-17      8452   \n",
      "4   1649    Bill & Ted's Bogus Journey   11.349664   1991-07-19      1649   \n",
      "\n",
      "  genre_act        genre_sci  \n",
      "0       NaN  Science Fiction  \n",
      "1       NaN  Science Fiction  \n",
      "2       NaN  Science Fiction  \n",
      "3       NaN  Science Fiction  \n",
      "4       NaN  Science Fiction  \n",
      "(258, 7)\n"
     ]
    }
   ],
   "source": [
    "# Merge the movies and scifi_only tables with an inner join\n",
    "movies_and_scifi_only = movies.merge(scifi_only, left_on = \"id\", right_on=\"movie_id\", how=\"inner\")\n",
    "\n",
    "# Print the first few rows and shape of movies_and_scifi_only\n",
    "print(movies_and_scifi_only.head())\n",
    "print(movies_and_scifi_only.shape)"
   ]
  },
  {
   "cell_type": "markdown",
   "metadata": {},
   "source": [
    "- Merge movie_to_genres and pop_movies using a right join. Save the results as genres_movies.\n",
    "- Group genres_movies by genre and count the number of id values."
   ]
  },
  {
   "cell_type": "code",
   "execution_count": 12,
   "metadata": {},
   "outputs": [
    {
     "data": {
      "image/png": "[encoded data removed]",
      "text/plain": [
       "<Figure size 432x288 with 1 Axes>"
      ]
     },
     "metadata": {
      "needs_background": "light"
     },
     "output_type": "display_data"
    }
   ],
   "source": [
    "import matplotlib.pyplot as plt\n",
    "pop_movies = movies\n",
    "\n",
    "# Use right join to merge the movie_to_genres and pop_movies tables\n",
    "genres_movies = movie_to_genres.merge(pop_movies, how='right', \n",
    "                                      left_on=\"movie_id\", \n",
    "                                      right_on=\"id\")\n",
    "\n",
    "# Count the number of genres\n",
    "genre_count = genres_movies.groupby('genre').agg({'id':'count'})\n",
    "\n",
    "# Plot a bar chart of the genre_count\n",
    "genre_count.plot(kind='bar')\n",
    "plt.show()"
   ]
  },
  {
   "cell_type": "markdown",
   "metadata": {},
   "source": [
    "- Save to iron_1_and_2 the merge of iron_1_actors (left) with iron_2_actors tables with an outer join on the id column, and set suffixes to ('_1','_2').\n",
    "- Create an index that returns True if name_1 or name_2 are null, and False otherwise."
   ]
  },
  {
   "cell_type": "code",
   "execution_count": 13,
   "metadata": {},
   "outputs": [
    {
     "name": "stdout",
     "output_type": "stream",
     "text": [
      "                                               Actor                   Title\n",
      "0  [Emil Eifrem,Hugo Weaving,Laurence Fishburne,C...              The Matrix\n",
      "1  [Hugo Weaving,Laurence Fishburne,Carrie-Anne M...     The Matrix Reloaded\n",
      "2  [Hugo Weaving,Laurence Fishburne,Carrie-Anne M...  The Matrix Revolutions\n",
      "3           [Al Pacino,Charlize Theron,Keanu Reeves]    The Devil's Advocate\n",
      "4  [James Marshall,Kevin Pollak,J.T. Walsh,Aaron ...          A Few Good Men\n"
     ]
    }
   ],
   "source": [
    "#\n",
    "\n",
    "import pandas as pd\n",
    "actors = pd.read_csv(\"actors_movies.csv\")\n",
    "print(actors.head())"
   ]
  },
  {
   "cell_type": "code",
   "execution_count": 14,
   "metadata": {},
   "outputs": [
    {
     "name": "stdout",
     "output_type": "stream",
     "text": [
      "                                        Actor             Title\n",
      "17  [Robin Williams,Nathan Lane,Gene Hackman]      The Birdcage\n",
      "31              [Robin Williams,Oliver Platt]  Bicentennial Man\n"
     ]
    }
   ],
   "source": [
    "ironman = actors[actors[\"Title\"].str.contains('bi', case=False)]\n",
    "print(ironman.head())"
   ]
  },
  {
   "cell_type": "code",
   "execution_count": 22,
   "metadata": {},
   "outputs": [
    {
     "name": "stdout",
     "output_type": "stream",
     "text": [
      "   movie_id  cast_id character  gender      id               name  id_movies  \\\n",
      "0       5.0     22.0   Jezebel     1.0  3122.0        Sammi Davis          5   \n",
      "1       5.0     23.0     Diana     1.0  3123.0  Amanda de Cadenet          5   \n",
      "2       5.0     24.0    Athena     1.0  3124.0     Valeria Golino          5   \n",
      "3       5.0     25.0   Elspeth     1.0  3125.0            Madonna          5   \n",
      "4       5.0     26.0       Eva     1.0  3126.0          Ione Skye          5   \n",
      "\n",
      "        title  popularity release_date  \n",
      "0  Four Rooms    22.87623   1995-12-09  \n",
      "1  Four Rooms    22.87623   1995-12-09  \n",
      "2  Four Rooms    22.87623   1995-12-09  \n",
      "3  Four Rooms    22.87623   1995-12-09  \n",
      "4  Four Rooms    22.87623   1995-12-09  \n",
      "Index(['movie_id', 'cast_id', 'character', 'gender', 'id', 'name', 'id_movies',\n",
      "       'title', 'popularity', 'release_date'],\n",
      "      dtype='object')\n",
      "['Iron Man' 'The Man in the Iron Mask' 'Gridiron Gang' 'Iron Man 2'\n",
      " 'The Iron Giant' 'Ironclad' 'Iron Man 3' 'The Iron Lady'\n",
      " 'The Man with the Iron Fists']\n"
     ]
    }
   ],
   "source": [
    "casts = pickle.load(open(\"casts.p\", \"rb\"))\n",
    "movie_casts = casts.merge(movies, left_on = \"movie_id\", right_on = \"id\", how =\"outer\", suffixes=(\"\",\"_movies\"))\n",
    "#print(casts.head())\n",
    "\n",
    "#print(movies.head())\n",
    "print(movie_casts.head())\n",
    "\n",
    "ironman = movie_casts[movie_casts[\"title\"].str.contains('iron', case=False)]\n",
    "print(ironman.columns)\n",
    "print(ironman[\"title\"].unique())"
   ]
  },
  {
   "cell_type": "code",
   "execution_count": 23,
   "metadata": {},
   "outputs": [],
   "source": [
    "iron_1_actors = ironman[ironman[\"title\"] == 'Iron Man']\n",
    "iron_2_actors = ironman[ironman[\"title\"] == 'Iron Man 2']\n",
    "\n"
   ]
  },
  {
   "cell_type": "markdown",
   "metadata": {},
   "source": [
    "- Save to iron_1_and_2 the merge of iron_1_actors (left) with iron_2_actors tables with an outer join on the id column, and set suffixes to ('_1','_2').\n",
    "- Create an index that returns True if name_1 or name_2 are null, and False otherwise."
   ]
  },
  {
   "cell_type": "code",
   "execution_count": 24,
   "metadata": {},
   "outputs": [
    {
     "name": "stdout",
     "output_type": "stream",
     "text": [
      "   movie_id_1  cast_id_1                                   character_1  \\\n",
      "0      1726.0        9.0                                        Yinsen   \n",
      "2      1726.0       11.0                   Obadiah Stane / Iron Monger   \n",
      "3      1726.0       12.0  Lt. Col. James \"Rhodey\" Rhodes / War Machine   \n",
      "5      1726.0       18.0                                          Raza   \n",
      "8      1726.0       23.0                                    Abu Bakaar   \n",
      "\n",
      "   gender_1        id           name_1  id_movies_1   title_1  popularity_1  \\\n",
      "0       2.0   17857.0       Shaun Toub       1726.0  Iron Man    120.725053   \n",
      "2       2.0    1229.0     Jeff Bridges       1726.0  Iron Man    120.725053   \n",
      "3       2.0   18288.0  Terrence Howard       1726.0  Iron Man    120.725053   \n",
      "5       2.0   57452.0      Faran Tahir       1726.0  Iron Man    120.725053   \n",
      "8       2.0  173810.0    Sayed Badreya       1726.0  Iron Man    120.725053   \n",
      "\n",
      "  release_date_1  movie_id_2  cast_id_2 character_2  gender_2 name_2  \\\n",
      "0     2008-04-30         NaN        NaN         NaN       NaN    NaN   \n",
      "2     2008-04-30         NaN        NaN         NaN       NaN    NaN   \n",
      "3     2008-04-30         NaN        NaN         NaN       NaN    NaN   \n",
      "5     2008-04-30         NaN        NaN         NaN       NaN    NaN   \n",
      "8     2008-04-30         NaN        NaN         NaN       NaN    NaN   \n",
      "\n",
      "   id_movies_2 title_2  popularity_2 release_date_2  \n",
      "0          NaN     NaN           NaN            NaN  \n",
      "2          NaN     NaN           NaN            NaN  \n",
      "3          NaN     NaN           NaN            NaN  \n",
      "5          NaN     NaN           NaN            NaN  \n",
      "8          NaN     NaN           NaN            NaN  \n"
     ]
    }
   ],
   "source": [
    "# Merge iron_1_actors to iron_2_actors on id with outer join using suffixes\n",
    "iron_1_and_2 = iron_1_actors.merge(iron_2_actors,\n",
    "                                     on= \"id\",\n",
    "                                     how = \"outer\",\n",
    "                                     suffixes=('_1','_2'))\n",
    "\n",
    "# Create an index that returns true if name_1 or name_2 are null\n",
    "m = ((iron_1_and_2['name_1'].isnull()) | \n",
    "     (iron_1_and_2['name_2'].isnull()))\n",
    "\n",
    "# Print the first few rows of iron_1_and_2\n",
    "print(iron_1_and_2[m].head())"
   ]
  },
  {
   "cell_type": "markdown",
   "metadata": {},
   "source": [
    "- To a variable called crews_self_merged, merge the crews table to itself on the id column using an inner join, setting the suffixes to '_dir' and '_crew' for the left and right tables respectively."
   ]
  },
  {
   "cell_type": "code",
   "execution_count": 25,
   "metadata": {},
   "outputs": [],
   "source": [
    "crews = pickle.load(open(\"crews.p\", \"rb\"))\n",
    "\n",
    "# Merge the crews table to itself\n",
    "crews_self_merged = crews.merge(crews, on=\"id\", how=\"inner\", suffixes=('_dir' , '_crew'))"
   ]
  },
  {
   "cell_type": "markdown",
   "metadata": {},
   "source": [
    "- Create a Boolean index, named boolean_filter, that selects rows from the left table with the job of 'Director' and avoids rows with the job of 'Director' in the right table.\n",
    "- Use the .head() method to print the first few rows of direct_crews."
   ]
  },
  {
   "cell_type": "code",
   "execution_count": 28,
   "metadata": {},
   "outputs": [
    {
     "name": "stdout",
     "output_type": "stream",
     "text": [
      "        id department_dir   job_dir       name_dir department_crew  \\\n",
      "156  19995      Directing  Director  James Cameron         Editing   \n",
      "157  19995      Directing  Director  James Cameron           Sound   \n",
      "158  19995      Directing  Director  James Cameron      Production   \n",
      "160  19995      Directing  Director  James Cameron         Writing   \n",
      "161  19995      Directing  Director  James Cameron             Art   \n",
      "\n",
      "           job_crew          name_crew  \n",
      "156          Editor  Stephen E. Rivkin  \n",
      "157  Sound Designer  Christopher Boyes  \n",
      "158         Casting          Mali Finn  \n",
      "160          Writer      James Cameron  \n",
      "161    Set Designer    Richard F. Mays  \n"
     ]
    }
   ],
   "source": [
    "# Create a Boolean index to select the appropriate\n",
    "boolean_filter = ((crews_self_merged['job_dir'] == 'Director') & \n",
    "     (crews_self_merged['job_crew'] != 'Director'))\n",
    "direct_crews = crews_self_merged[boolean_filter]\n",
    "\n",
    "# Print the first few rows of direct_crews\n",
    "print(direct_crews.head())"
   ]
  },
  {
   "cell_type": "markdown",
   "metadata": {},
   "source": [
    "Select the true statement about merging a table to itself.:\n",
    "- Merging a table to itself is like working with two separate tables.\n",
    "- You can merge a table to itself with any join.\n",
    "- Merging a table to itself can allow you to compare values in a column to other values in the same column."
   ]
  },
  {
   "cell_type": "markdown",
   "metadata": {},
   "source": [
    "- Merge movies and ratings on the index and save to a variable called movies_ratings, ensuring that all of the rows from the movies table are returned."
   ]
  },
  {
   "cell_type": "code",
   "execution_count": 29,
   "metadata": {},
   "outputs": [
    {
     "name": "stdout",
     "output_type": "stream",
     "text": [
      "      id                 title  popularity release_date  vote_average  \\\n",
      "0    257          Oliver Twist   20.415572   2005-09-23           6.7   \n",
      "1  14290  Better Luck Tomorrow    3.877036   2002-01-12           6.5   \n",
      "2  38365             Grown Ups   38.864027   2010-06-24           6.0   \n",
      "3   9672              Infamous    3.680896   2006-11-16           6.4   \n",
      "4  12819       Alpha and Omega   12.300789   2010-09-17           5.3   \n",
      "\n",
      "   vote_count  \n",
      "0       274.0  \n",
      "1        27.0  \n",
      "2      1705.0  \n",
      "3        60.0  \n",
      "4       124.0  \n"
     ]
    }
   ],
   "source": [
    "ratings = pickle.load(open(\"ratings.p\", \"rb\"))\n",
    "\n",
    "# Merge to the movies table the ratings table on the index\n",
    "movies_ratings = movies.merge(ratings, on=\"id\")\n",
    "\n",
    "# Print the first few rows of movies_ratings\n",
    "print(movies_ratings.head())"
   ]
  },
  {
   "cell_type": "markdown",
   "metadata": {},
   "source": [
    "- With the sequels table on the left, merge to it the financials table on index named id, ensuring that all the rows from the sequels are returned and some rows from the other table may not be returned, Save the results to sequels_fin."
   ]
  },
  {
   "cell_type": "code",
   "execution_count": 31,
   "metadata": {},
   "outputs": [],
   "source": [
    "sequels = pickle.load(open(\"sequels.p\", \"rb\"))\n",
    "\n",
    "# Merge sequels and financials on index id\n",
    "sequels_fin = sequels.merge(financials, on=\"id\", how=\"left\")\n"
   ]
  },
  {
   "cell_type": "markdown",
   "metadata": {},
   "source": [
    "- Merge the sequels_fin table to itself with an inner join, where the left and right tables merge on sequel and id respectively with suffixes equal to ('_org','_seq'), saving to orig_seq."
   ]
  },
  {
   "cell_type": "code",
   "execution_count": 34,
   "metadata": {},
   "outputs": [],
   "source": [
    "# Merge sequels and financials on index id\n",
    "sequels_fin = sequels.merge(financials, on='id', how='left')\n",
    "\n",
    "# Self merge with suffixes as inner join with left on sequel and right on id\n",
    "#  right_index=True,\n",
    "orig_seq = sequels_fin.merge(sequels_fin, how=\"inner\", left_on=\"sequel\", \n",
    "                             right_on=\"id\",\n",
    "                             suffixes=('_org','_seq'))\n",
    "\n",
    "# Add calculation to subtract revenue_org from revenue_seq \n",
    "orig_seq['diff'] = orig_seq['revenue_seq'] - orig_seq['revenue_org']"
   ]
  },
  {
   "cell_type": "markdown",
   "metadata": {},
   "source": [
    "- Select the title_org, title_seq, and diff columns of orig_seq and save this as titles_diff."
   ]
  },
  {
   "cell_type": "code",
   "execution_count": 35,
   "metadata": {},
   "outputs": [],
   "source": [
    "# Select the title_org, title_seq, and diff \n",
    "titles_diff = orig_seq[['title_org', 'title_seq', 'diff']]"
   ]
  },
  {
   "cell_type": "markdown",
   "metadata": {},
   "source": [
    "- Sort by titles_diff by diff in descending order and print the first few rows."
   ]
  },
  {
   "cell_type": "code",
   "execution_count": 38,
   "metadata": {},
   "outputs": [
    {
     "name": "stdout",
     "output_type": "stream",
     "text": [
      "            title_org        title_seq          diff\n",
      "28  Jurassic Park III   Jurassic World  1.144748e+09\n",
      "26      Batman Begins  The Dark Knight  6.303398e+08\n",
      "11         Iron Man 2       Iron Man 3  5.915067e+08\n",
      "1         Toy Story 2      Toy Story 3  5.696028e+08\n",
      "14  Quantum of Solace          Skyfall  5.224703e+08\n"
     ]
    }
   ],
   "source": [
    "# Print the first rows of the sorted titles_diff\n",
    "print(titles_diff.sort_values('diff', ascending = False).head())"
   ]
  }
 ],
 "metadata": {
  "interpreter": {
   "hash": "3fef59229a6e1ff5434759995be53a28a25493efd6d26eb6c004eefe62e31083"
  },
  "kernelspec": {
   "display_name": "Python 3.8.11 ('env_py')",
   "language": "python",
   "name": "python3"
  },
  "language_info": {
   "codemirror_mode": {
    "name": "ipython",
    "version": 3
   },
   "file_extension": ".py",
   "mimetype": "text/x-python",
   "name": "python",
   "nbconvert_exporter": "python",
   "pygments_lexer": "ipython3",
   "version": "3.8.11"
  },
  "orig_nbformat": 4
 },
 "nbformat": 4,
 "nbformat_minor": 2
}
